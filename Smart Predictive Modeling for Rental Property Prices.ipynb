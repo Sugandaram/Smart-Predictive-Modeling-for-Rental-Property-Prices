{
 "cells": [
  {
   "cell_type": "markdown",
   "id": "d96d3e8a",
   "metadata": {},
   "source": [
    "## Import Libraries"
   ]
  },
  {
   "cell_type": "code",
   "execution_count": 1,
   "id": "700a4769",
   "metadata": {},
   "outputs": [],
   "source": [
    "import pandas as pd\n",
    "import numpy as np\n",
    "import seaborn as sns\n",
    "import matplotlib.pyplot as plt\n",
    "import plotly.express as px\n"
   ]
  },
  {
   "cell_type": "markdown",
   "id": "ffd59c95",
   "metadata": {},
   "source": [
    "### Data was before cleaning the locality column."
   ]
  },
  {
   "cell_type": "code",
   "execution_count": 2,
   "id": "80dc81b0",
   "metadata": {},
   "outputs": [],
   "source": [
    "tr = pd.read_excel('House_Rent_Train.xlsx')"
   ]
  },
  {
   "cell_type": "code",
   "execution_count": 3,
   "id": "30bf6221",
   "metadata": {},
   "outputs": [
    {
     "data": {
      "text/plain": [
       "id                   0\n",
       "type                27\n",
       "locality           160\n",
       "activation_date     23\n",
       "latitude            23\n",
       "longitude           23\n",
       "lease_type          23\n",
       "gym                  0\n",
       "lift                 0\n",
       "swimming_pool        0\n",
       "negotiable           0\n",
       "furnishing           0\n",
       "parking              0\n",
       "property_size        0\n",
       "property_age        23\n",
       "bathroom            23\n",
       "facing              23\n",
       "cup_board           23\n",
       "floor               23\n",
       "total_floor         23\n",
       "amenities           23\n",
       "water_supply        23\n",
       "building_type       23\n",
       "balconies           23\n",
       "rent                23\n",
       "dtype: int64"
      ]
     },
     "execution_count": 3,
     "metadata": {},
     "output_type": "execute_result"
    }
   ],
   "source": [
    "tr.isnull().sum()"
   ]
  },
  {
   "cell_type": "code",
   "execution_count": 4,
   "id": "9cdaab88",
   "metadata": {},
   "outputs": [
    {
     "data": {
      "text/plain": [
       "(20555, 25)"
      ]
     },
     "execution_count": 4,
     "metadata": {},
     "output_type": "execute_result"
    }
   ],
   "source": [
    "tr.shape"
   ]
  },
  {
   "cell_type": "markdown",
   "id": "46213409",
   "metadata": {},
   "source": [
    "## Load Data"
   ]
  },
  {
   "cell_type": "code",
   "execution_count": 5,
   "id": "7208ba50",
   "metadata": {},
   "outputs": [],
   "source": [
    "train = pd.read_excel('House_Rent.xlsx')"
   ]
  },
  {
   "cell_type": "code",
   "execution_count": 6,
   "id": "9a8a0011",
   "metadata": {
    "scrolled": true
   },
   "outputs": [
    {
     "data": {
      "text/html": [
       "<div>\n",
       "<style scoped>\n",
       "    .dataframe tbody tr th:only-of-type {\n",
       "        vertical-align: middle;\n",
       "    }\n",
       "\n",
       "    .dataframe tbody tr th {\n",
       "        vertical-align: top;\n",
       "    }\n",
       "\n",
       "    .dataframe thead th {\n",
       "        text-align: right;\n",
       "    }\n",
       "</style>\n",
       "<table border=\"1\" class=\"dataframe\">\n",
       "  <thead>\n",
       "    <tr style=\"text-align: right;\">\n",
       "      <th></th>\n",
       "      <th>id</th>\n",
       "      <th>type</th>\n",
       "      <th>locality</th>\n",
       "      <th>activation_date</th>\n",
       "      <th>latitude</th>\n",
       "      <th>longitude</th>\n",
       "      <th>lease_type</th>\n",
       "      <th>gym</th>\n",
       "      <th>lift</th>\n",
       "      <th>swimming_pool</th>\n",
       "      <th>...</th>\n",
       "      <th>bathroom</th>\n",
       "      <th>facing</th>\n",
       "      <th>cup_board</th>\n",
       "      <th>floor</th>\n",
       "      <th>total_floor</th>\n",
       "      <th>amenities</th>\n",
       "      <th>water_supply</th>\n",
       "      <th>building_type</th>\n",
       "      <th>balconies</th>\n",
       "      <th>rent</th>\n",
       "    </tr>\n",
       "  </thead>\n",
       "  <tbody>\n",
       "    <tr>\n",
       "      <th>0</th>\n",
       "      <td>ff8081815733a243015733b2876600a6</td>\n",
       "      <td>BHK2</td>\n",
       "      <td>Embassy Meadows, 7, 8th Cross Road, ST Bed Lay...</td>\n",
       "      <td>21-04-2018 14:44</td>\n",
       "      <td>12.934471</td>\n",
       "      <td>77.634471</td>\n",
       "      <td>FAMILY</td>\n",
       "      <td>1</td>\n",
       "      <td>1</td>\n",
       "      <td>1</td>\n",
       "      <td>...</td>\n",
       "      <td>2.0</td>\n",
       "      <td>E</td>\n",
       "      <td>2.0</td>\n",
       "      <td>6.0</td>\n",
       "      <td>12.0</td>\n",
       "      <td>{\"LIFT\":true,\"GYM\":true,\"INTERNET\":true,\"AC\":f...</td>\n",
       "      <td>CORP_BORE</td>\n",
       "      <td>AP</td>\n",
       "      <td>2.0</td>\n",
       "      <td>40000.0</td>\n",
       "    </tr>\n",
       "    <tr>\n",
       "      <th>1</th>\n",
       "      <td>ff8081815ee25e15015ee50004da2acd</td>\n",
       "      <td>BHK2</td>\n",
       "      <td>Bellandur</td>\n",
       "      <td>2017-09-10 12:48:00</td>\n",
       "      <td>12.929557</td>\n",
       "      <td>77.672280</td>\n",
       "      <td>ANYONE</td>\n",
       "      <td>0</td>\n",
       "      <td>1</td>\n",
       "      <td>0</td>\n",
       "      <td>...</td>\n",
       "      <td>2.0</td>\n",
       "      <td>NE</td>\n",
       "      <td>2.0</td>\n",
       "      <td>3.0</td>\n",
       "      <td>4.0</td>\n",
       "      <td>{\"LIFT\":true,\"GYM\":false,\"INTERNET\":false,\"AC\"...</td>\n",
       "      <td>CORPORATION</td>\n",
       "      <td>AP</td>\n",
       "      <td>2.0</td>\n",
       "      <td>22000.0</td>\n",
       "    </tr>\n",
       "    <tr>\n",
       "      <th>2</th>\n",
       "      <td>ff80818163f29c9e0163f46770b873e7</td>\n",
       "      <td>BHK3</td>\n",
       "      <td>Thiruvanmiyur</td>\n",
       "      <td>2018-12-06 22:02:00</td>\n",
       "      <td>12.982870</td>\n",
       "      <td>80.262012</td>\n",
       "      <td>FAMILY</td>\n",
       "      <td>0</td>\n",
       "      <td>1</td>\n",
       "      <td>0</td>\n",
       "      <td>...</td>\n",
       "      <td>3.0</td>\n",
       "      <td>E</td>\n",
       "      <td>3.0</td>\n",
       "      <td>1.0</td>\n",
       "      <td>5.0</td>\n",
       "      <td>{\"LIFT\":true,\"GYM\":false,\"INTERNET\":false,\"AC\"...</td>\n",
       "      <td>CORP_BORE</td>\n",
       "      <td>AP</td>\n",
       "      <td>3.0</td>\n",
       "      <td>28000.0</td>\n",
       "    </tr>\n",
       "    <tr>\n",
       "      <th>3</th>\n",
       "      <td>ff80818164b68a700164b74b1b247a1d</td>\n",
       "      <td>BHK1</td>\n",
       "      <td>Attiguppe</td>\n",
       "      <td>20-07-2018 16:22</td>\n",
       "      <td>12.955991</td>\n",
       "      <td>77.531634</td>\n",
       "      <td>FAMILY</td>\n",
       "      <td>0</td>\n",
       "      <td>0</td>\n",
       "      <td>0</td>\n",
       "      <td>...</td>\n",
       "      <td>1.0</td>\n",
       "      <td>E</td>\n",
       "      <td>1.0</td>\n",
       "      <td>1.0</td>\n",
       "      <td>2.0</td>\n",
       "      <td>{\"LIFT\":false,\"GYM\":false,\"INTERNET\":false,\"AC...</td>\n",
       "      <td>CORPORATION</td>\n",
       "      <td>IH</td>\n",
       "      <td>0.0</td>\n",
       "      <td>8000.0</td>\n",
       "    </tr>\n",
       "    <tr>\n",
       "      <th>4</th>\n",
       "      <td>ff80818163b1faf00163b4b9b8a163b1</td>\n",
       "      <td>BHK3</td>\n",
       "      <td>Kodihalli</td>\n",
       "      <td>31-05-2018 17:41</td>\n",
       "      <td>12.963903</td>\n",
       "      <td>77.649446</td>\n",
       "      <td>FAMILY</td>\n",
       "      <td>0</td>\n",
       "      <td>0</td>\n",
       "      <td>0</td>\n",
       "      <td>...</td>\n",
       "      <td>3.0</td>\n",
       "      <td>E</td>\n",
       "      <td>4.0</td>\n",
       "      <td>0.0</td>\n",
       "      <td>0.0</td>\n",
       "      <td>{\"LIFT\":false,\"GYM\":false,\"INTERNET\":false,\"AC...</td>\n",
       "      <td>CORPORATION</td>\n",
       "      <td>IH</td>\n",
       "      <td>1.0</td>\n",
       "      <td>45000.0</td>\n",
       "    </tr>\n",
       "    <tr>\n",
       "      <th>...</th>\n",
       "      <td>...</td>\n",
       "      <td>...</td>\n",
       "      <td>...</td>\n",
       "      <td>...</td>\n",
       "      <td>...</td>\n",
       "      <td>...</td>\n",
       "      <td>...</td>\n",
       "      <td>...</td>\n",
       "      <td>...</td>\n",
       "      <td>...</td>\n",
       "      <td>...</td>\n",
       "      <td>...</td>\n",
       "      <td>...</td>\n",
       "      <td>...</td>\n",
       "      <td>...</td>\n",
       "      <td>...</td>\n",
       "      <td>...</td>\n",
       "      <td>...</td>\n",
       "      <td>...</td>\n",
       "      <td>...</td>\n",
       "      <td>...</td>\n",
       "    </tr>\n",
       "    <tr>\n",
       "      <th>20550</th>\n",
       "      <td>19</td>\n",
       "      <td>NaN</td>\n",
       "      <td>NaN</td>\n",
       "      <td>NaN</td>\n",
       "      <td>NaN</td>\n",
       "      <td>NaN</td>\n",
       "      <td>NaN</td>\n",
       "      <td>1</td>\n",
       "      <td>1</td>\n",
       "      <td>1</td>\n",
       "      <td>...</td>\n",
       "      <td>NaN</td>\n",
       "      <td>NaN</td>\n",
       "      <td>NaN</td>\n",
       "      <td>NaN</td>\n",
       "      <td>NaN</td>\n",
       "      <td>NaN</td>\n",
       "      <td>NaN</td>\n",
       "      <td>NaN</td>\n",
       "      <td>NaN</td>\n",
       "      <td>NaN</td>\n",
       "    </tr>\n",
       "    <tr>\n",
       "      <th>20551</th>\n",
       "      <td>20</td>\n",
       "      <td>BHK2</td>\n",
       "      <td>NaN</td>\n",
       "      <td>NaN</td>\n",
       "      <td>NaN</td>\n",
       "      <td>NaN</td>\n",
       "      <td>NaN</td>\n",
       "      <td>0</td>\n",
       "      <td>0</td>\n",
       "      <td>0</td>\n",
       "      <td>...</td>\n",
       "      <td>NaN</td>\n",
       "      <td>NaN</td>\n",
       "      <td>NaN</td>\n",
       "      <td>NaN</td>\n",
       "      <td>NaN</td>\n",
       "      <td>NaN</td>\n",
       "      <td>NaN</td>\n",
       "      <td>NaN</td>\n",
       "      <td>NaN</td>\n",
       "      <td>NaN</td>\n",
       "    </tr>\n",
       "    <tr>\n",
       "      <th>20552</th>\n",
       "      <td>21</td>\n",
       "      <td>BHK2</td>\n",
       "      <td>NaN</td>\n",
       "      <td>NaN</td>\n",
       "      <td>NaN</td>\n",
       "      <td>NaN</td>\n",
       "      <td>NaN</td>\n",
       "      <td>1</td>\n",
       "      <td>1</td>\n",
       "      <td>0</td>\n",
       "      <td>...</td>\n",
       "      <td>NaN</td>\n",
       "      <td>NaN</td>\n",
       "      <td>NaN</td>\n",
       "      <td>NaN</td>\n",
       "      <td>NaN</td>\n",
       "      <td>NaN</td>\n",
       "      <td>NaN</td>\n",
       "      <td>NaN</td>\n",
       "      <td>NaN</td>\n",
       "      <td>NaN</td>\n",
       "    </tr>\n",
       "    <tr>\n",
       "      <th>20553</th>\n",
       "      <td>22</td>\n",
       "      <td>BHK2</td>\n",
       "      <td>NaN</td>\n",
       "      <td>NaN</td>\n",
       "      <td>NaN</td>\n",
       "      <td>NaN</td>\n",
       "      <td>NaN</td>\n",
       "      <td>0</td>\n",
       "      <td>1</td>\n",
       "      <td>0</td>\n",
       "      <td>...</td>\n",
       "      <td>NaN</td>\n",
       "      <td>NaN</td>\n",
       "      <td>NaN</td>\n",
       "      <td>NaN</td>\n",
       "      <td>NaN</td>\n",
       "      <td>NaN</td>\n",
       "      <td>NaN</td>\n",
       "      <td>NaN</td>\n",
       "      <td>NaN</td>\n",
       "      <td>NaN</td>\n",
       "    </tr>\n",
       "    <tr>\n",
       "      <th>20554</th>\n",
       "      <td>23</td>\n",
       "      <td>BHK1</td>\n",
       "      <td>NaN</td>\n",
       "      <td>NaN</td>\n",
       "      <td>NaN</td>\n",
       "      <td>NaN</td>\n",
       "      <td>NaN</td>\n",
       "      <td>0</td>\n",
       "      <td>0</td>\n",
       "      <td>0</td>\n",
       "      <td>...</td>\n",
       "      <td>NaN</td>\n",
       "      <td>NaN</td>\n",
       "      <td>NaN</td>\n",
       "      <td>NaN</td>\n",
       "      <td>NaN</td>\n",
       "      <td>NaN</td>\n",
       "      <td>NaN</td>\n",
       "      <td>NaN</td>\n",
       "      <td>NaN</td>\n",
       "      <td>NaN</td>\n",
       "    </tr>\n",
       "  </tbody>\n",
       "</table>\n",
       "<p>20555 rows × 25 columns</p>\n",
       "</div>"
      ],
      "text/plain": [
       "                                     id  type  \\\n",
       "0      ff8081815733a243015733b2876600a6  BHK2   \n",
       "1      ff8081815ee25e15015ee50004da2acd  BHK2   \n",
       "2      ff80818163f29c9e0163f46770b873e7  BHK3   \n",
       "3      ff80818164b68a700164b74b1b247a1d  BHK1   \n",
       "4      ff80818163b1faf00163b4b9b8a163b1  BHK3   \n",
       "...                                 ...   ...   \n",
       "20550                                19   NaN   \n",
       "20551                                20  BHK2   \n",
       "20552                                21  BHK2   \n",
       "20553                                22  BHK2   \n",
       "20554                                23  BHK1   \n",
       "\n",
       "                                                locality      activation_date  \\\n",
       "0      Embassy Meadows, 7, 8th Cross Road, ST Bed Lay...     21-04-2018 14:44   \n",
       "1                                              Bellandur  2017-09-10 12:48:00   \n",
       "2                                          Thiruvanmiyur  2018-12-06 22:02:00   \n",
       "3                                              Attiguppe     20-07-2018 16:22   \n",
       "4                                              Kodihalli     31-05-2018 17:41   \n",
       "...                                                  ...                  ...   \n",
       "20550                                                NaN                  NaN   \n",
       "20551                                                NaN                  NaN   \n",
       "20552                                                NaN                  NaN   \n",
       "20553                                                NaN                  NaN   \n",
       "20554                                                NaN                  NaN   \n",
       "\n",
       "        latitude  longitude lease_type  gym  lift  swimming_pool  ...  \\\n",
       "0      12.934471  77.634471     FAMILY    1     1              1  ...   \n",
       "1      12.929557  77.672280     ANYONE    0     1              0  ...   \n",
       "2      12.982870  80.262012     FAMILY    0     1              0  ...   \n",
       "3      12.955991  77.531634     FAMILY    0     0              0  ...   \n",
       "4      12.963903  77.649446     FAMILY    0     0              0  ...   \n",
       "...          ...        ...        ...  ...   ...            ...  ...   \n",
       "20550        NaN        NaN        NaN    1     1              1  ...   \n",
       "20551        NaN        NaN        NaN    0     0              0  ...   \n",
       "20552        NaN        NaN        NaN    1     1              0  ...   \n",
       "20553        NaN        NaN        NaN    0     1              0  ...   \n",
       "20554        NaN        NaN        NaN    0     0              0  ...   \n",
       "\n",
       "       bathroom facing cup_board  floor  total_floor  \\\n",
       "0           2.0      E       2.0    6.0         12.0   \n",
       "1           2.0     NE       2.0    3.0          4.0   \n",
       "2           3.0      E       3.0    1.0          5.0   \n",
       "3           1.0      E       1.0    1.0          2.0   \n",
       "4           3.0      E       4.0    0.0          0.0   \n",
       "...         ...    ...       ...    ...          ...   \n",
       "20550       NaN    NaN       NaN    NaN          NaN   \n",
       "20551       NaN    NaN       NaN    NaN          NaN   \n",
       "20552       NaN    NaN       NaN    NaN          NaN   \n",
       "20553       NaN    NaN       NaN    NaN          NaN   \n",
       "20554       NaN    NaN       NaN    NaN          NaN   \n",
       "\n",
       "                                               amenities water_supply  \\\n",
       "0      {\"LIFT\":true,\"GYM\":true,\"INTERNET\":true,\"AC\":f...    CORP_BORE   \n",
       "1      {\"LIFT\":true,\"GYM\":false,\"INTERNET\":false,\"AC\"...  CORPORATION   \n",
       "2      {\"LIFT\":true,\"GYM\":false,\"INTERNET\":false,\"AC\"...    CORP_BORE   \n",
       "3      {\"LIFT\":false,\"GYM\":false,\"INTERNET\":false,\"AC...  CORPORATION   \n",
       "4      {\"LIFT\":false,\"GYM\":false,\"INTERNET\":false,\"AC...  CORPORATION   \n",
       "...                                                  ...          ...   \n",
       "20550                                                NaN          NaN   \n",
       "20551                                                NaN          NaN   \n",
       "20552                                                NaN          NaN   \n",
       "20553                                                NaN          NaN   \n",
       "20554                                                NaN          NaN   \n",
       "\n",
       "       building_type  balconies     rent  \n",
       "0                 AP        2.0  40000.0  \n",
       "1                 AP        2.0  22000.0  \n",
       "2                 AP        3.0  28000.0  \n",
       "3                 IH        0.0   8000.0  \n",
       "4                 IH        1.0  45000.0  \n",
       "...              ...        ...      ...  \n",
       "20550            NaN        NaN      NaN  \n",
       "20551            NaN        NaN      NaN  \n",
       "20552            NaN        NaN      NaN  \n",
       "20553            NaN        NaN      NaN  \n",
       "20554            NaN        NaN      NaN  \n",
       "\n",
       "[20555 rows x 25 columns]"
      ]
     },
     "execution_count": 6,
     "metadata": {},
     "output_type": "execute_result"
    }
   ],
   "source": [
    "train"
   ]
  },
  {
   "cell_type": "code",
   "execution_count": 7,
   "id": "d97fe97d",
   "metadata": {},
   "outputs": [
    {
     "data": {
      "text/html": [
       "<div>\n",
       "<style scoped>\n",
       "    .dataframe tbody tr th:only-of-type {\n",
       "        vertical-align: middle;\n",
       "    }\n",
       "\n",
       "    .dataframe tbody tr th {\n",
       "        vertical-align: top;\n",
       "    }\n",
       "\n",
       "    .dataframe thead th {\n",
       "        text-align: right;\n",
       "    }\n",
       "</style>\n",
       "<table border=\"1\" class=\"dataframe\">\n",
       "  <thead>\n",
       "    <tr style=\"text-align: right;\">\n",
       "      <th></th>\n",
       "      <th>id</th>\n",
       "      <th>type</th>\n",
       "      <th>locality</th>\n",
       "      <th>activation_date</th>\n",
       "      <th>latitude</th>\n",
       "      <th>longitude</th>\n",
       "      <th>lease_type</th>\n",
       "      <th>gym</th>\n",
       "      <th>lift</th>\n",
       "      <th>swimming_pool</th>\n",
       "      <th>...</th>\n",
       "      <th>bathroom</th>\n",
       "      <th>facing</th>\n",
       "      <th>cup_board</th>\n",
       "      <th>floor</th>\n",
       "      <th>total_floor</th>\n",
       "      <th>amenities</th>\n",
       "      <th>water_supply</th>\n",
       "      <th>building_type</th>\n",
       "      <th>balconies</th>\n",
       "      <th>rent</th>\n",
       "    </tr>\n",
       "  </thead>\n",
       "  <tbody>\n",
       "    <tr>\n",
       "      <th>0</th>\n",
       "      <td>ff8081815733a243015733b2876600a6</td>\n",
       "      <td>BHK2</td>\n",
       "      <td>Embassy Meadows, 7, 8th Cross Road, ST Bed Lay...</td>\n",
       "      <td>21-04-2018 14:44</td>\n",
       "      <td>12.934471</td>\n",
       "      <td>77.634471</td>\n",
       "      <td>FAMILY</td>\n",
       "      <td>1</td>\n",
       "      <td>1</td>\n",
       "      <td>1</td>\n",
       "      <td>...</td>\n",
       "      <td>2.0</td>\n",
       "      <td>E</td>\n",
       "      <td>2.0</td>\n",
       "      <td>6.0</td>\n",
       "      <td>12.0</td>\n",
       "      <td>{\"LIFT\":true,\"GYM\":true,\"INTERNET\":true,\"AC\":f...</td>\n",
       "      <td>CORP_BORE</td>\n",
       "      <td>AP</td>\n",
       "      <td>2.0</td>\n",
       "      <td>40000.0</td>\n",
       "    </tr>\n",
       "    <tr>\n",
       "      <th>1</th>\n",
       "      <td>ff8081815ee25e15015ee50004da2acd</td>\n",
       "      <td>BHK2</td>\n",
       "      <td>Bellandur</td>\n",
       "      <td>2017-09-10 12:48:00</td>\n",
       "      <td>12.929557</td>\n",
       "      <td>77.672280</td>\n",
       "      <td>ANYONE</td>\n",
       "      <td>0</td>\n",
       "      <td>1</td>\n",
       "      <td>0</td>\n",
       "      <td>...</td>\n",
       "      <td>2.0</td>\n",
       "      <td>NE</td>\n",
       "      <td>2.0</td>\n",
       "      <td>3.0</td>\n",
       "      <td>4.0</td>\n",
       "      <td>{\"LIFT\":true,\"GYM\":false,\"INTERNET\":false,\"AC\"...</td>\n",
       "      <td>CORPORATION</td>\n",
       "      <td>AP</td>\n",
       "      <td>2.0</td>\n",
       "      <td>22000.0</td>\n",
       "    </tr>\n",
       "    <tr>\n",
       "      <th>2</th>\n",
       "      <td>ff80818163f29c9e0163f46770b873e7</td>\n",
       "      <td>BHK3</td>\n",
       "      <td>Thiruvanmiyur</td>\n",
       "      <td>2018-12-06 22:02:00</td>\n",
       "      <td>12.982870</td>\n",
       "      <td>80.262012</td>\n",
       "      <td>FAMILY</td>\n",
       "      <td>0</td>\n",
       "      <td>1</td>\n",
       "      <td>0</td>\n",
       "      <td>...</td>\n",
       "      <td>3.0</td>\n",
       "      <td>E</td>\n",
       "      <td>3.0</td>\n",
       "      <td>1.0</td>\n",
       "      <td>5.0</td>\n",
       "      <td>{\"LIFT\":true,\"GYM\":false,\"INTERNET\":false,\"AC\"...</td>\n",
       "      <td>CORP_BORE</td>\n",
       "      <td>AP</td>\n",
       "      <td>3.0</td>\n",
       "      <td>28000.0</td>\n",
       "    </tr>\n",
       "    <tr>\n",
       "      <th>3</th>\n",
       "      <td>ff80818164b68a700164b74b1b247a1d</td>\n",
       "      <td>BHK1</td>\n",
       "      <td>Attiguppe</td>\n",
       "      <td>20-07-2018 16:22</td>\n",
       "      <td>12.955991</td>\n",
       "      <td>77.531634</td>\n",
       "      <td>FAMILY</td>\n",
       "      <td>0</td>\n",
       "      <td>0</td>\n",
       "      <td>0</td>\n",
       "      <td>...</td>\n",
       "      <td>1.0</td>\n",
       "      <td>E</td>\n",
       "      <td>1.0</td>\n",
       "      <td>1.0</td>\n",
       "      <td>2.0</td>\n",
       "      <td>{\"LIFT\":false,\"GYM\":false,\"INTERNET\":false,\"AC...</td>\n",
       "      <td>CORPORATION</td>\n",
       "      <td>IH</td>\n",
       "      <td>0.0</td>\n",
       "      <td>8000.0</td>\n",
       "    </tr>\n",
       "    <tr>\n",
       "      <th>4</th>\n",
       "      <td>ff80818163b1faf00163b4b9b8a163b1</td>\n",
       "      <td>BHK3</td>\n",
       "      <td>Kodihalli</td>\n",
       "      <td>31-05-2018 17:41</td>\n",
       "      <td>12.963903</td>\n",
       "      <td>77.649446</td>\n",
       "      <td>FAMILY</td>\n",
       "      <td>0</td>\n",
       "      <td>0</td>\n",
       "      <td>0</td>\n",
       "      <td>...</td>\n",
       "      <td>3.0</td>\n",
       "      <td>E</td>\n",
       "      <td>4.0</td>\n",
       "      <td>0.0</td>\n",
       "      <td>0.0</td>\n",
       "      <td>{\"LIFT\":false,\"GYM\":false,\"INTERNET\":false,\"AC...</td>\n",
       "      <td>CORPORATION</td>\n",
       "      <td>IH</td>\n",
       "      <td>1.0</td>\n",
       "      <td>45000.0</td>\n",
       "    </tr>\n",
       "  </tbody>\n",
       "</table>\n",
       "<p>5 rows × 25 columns</p>\n",
       "</div>"
      ],
      "text/plain": [
       "                                 id  type  \\\n",
       "0  ff8081815733a243015733b2876600a6  BHK2   \n",
       "1  ff8081815ee25e15015ee50004da2acd  BHK2   \n",
       "2  ff80818163f29c9e0163f46770b873e7  BHK3   \n",
       "3  ff80818164b68a700164b74b1b247a1d  BHK1   \n",
       "4  ff80818163b1faf00163b4b9b8a163b1  BHK3   \n",
       "\n",
       "                                            locality      activation_date  \\\n",
       "0  Embassy Meadows, 7, 8th Cross Road, ST Bed Lay...     21-04-2018 14:44   \n",
       "1                                          Bellandur  2017-09-10 12:48:00   \n",
       "2                                      Thiruvanmiyur  2018-12-06 22:02:00   \n",
       "3                                          Attiguppe     20-07-2018 16:22   \n",
       "4                                          Kodihalli     31-05-2018 17:41   \n",
       "\n",
       "    latitude  longitude lease_type  gym  lift  swimming_pool  ...  bathroom  \\\n",
       "0  12.934471  77.634471     FAMILY    1     1              1  ...       2.0   \n",
       "1  12.929557  77.672280     ANYONE    0     1              0  ...       2.0   \n",
       "2  12.982870  80.262012     FAMILY    0     1              0  ...       3.0   \n",
       "3  12.955991  77.531634     FAMILY    0     0              0  ...       1.0   \n",
       "4  12.963903  77.649446     FAMILY    0     0              0  ...       3.0   \n",
       "\n",
       "  facing cup_board  floor  total_floor  \\\n",
       "0      E       2.0    6.0         12.0   \n",
       "1     NE       2.0    3.0          4.0   \n",
       "2      E       3.0    1.0          5.0   \n",
       "3      E       1.0    1.0          2.0   \n",
       "4      E       4.0    0.0          0.0   \n",
       "\n",
       "                                           amenities water_supply  \\\n",
       "0  {\"LIFT\":true,\"GYM\":true,\"INTERNET\":true,\"AC\":f...    CORP_BORE   \n",
       "1  {\"LIFT\":true,\"GYM\":false,\"INTERNET\":false,\"AC\"...  CORPORATION   \n",
       "2  {\"LIFT\":true,\"GYM\":false,\"INTERNET\":false,\"AC\"...    CORP_BORE   \n",
       "3  {\"LIFT\":false,\"GYM\":false,\"INTERNET\":false,\"AC...  CORPORATION   \n",
       "4  {\"LIFT\":false,\"GYM\":false,\"INTERNET\":false,\"AC...  CORPORATION   \n",
       "\n",
       "   building_type  balconies     rent  \n",
       "0             AP        2.0  40000.0  \n",
       "1             AP        2.0  22000.0  \n",
       "2             AP        3.0  28000.0  \n",
       "3             IH        0.0   8000.0  \n",
       "4             IH        1.0  45000.0  \n",
       "\n",
       "[5 rows x 25 columns]"
      ]
     },
     "execution_count": 7,
     "metadata": {},
     "output_type": "execute_result"
    }
   ],
   "source": [
    "train.head()"
   ]
  },
  {
   "cell_type": "code",
   "execution_count": 8,
   "id": "63974623",
   "metadata": {},
   "outputs": [
    {
     "data": {
      "text/plain": [
       "(20555, 25)"
      ]
     },
     "execution_count": 8,
     "metadata": {},
     "output_type": "execute_result"
    }
   ],
   "source": [
    "train.shape"
   ]
  },
  {
   "cell_type": "code",
   "execution_count": 9,
   "id": "477aa085",
   "metadata": {},
   "outputs": [
    {
     "name": "stdout",
     "output_type": "stream",
     "text": [
      "<class 'pandas.core.frame.DataFrame'>\n",
      "RangeIndex: 20555 entries, 0 to 20554\n",
      "Data columns (total 25 columns):\n",
      " #   Column           Non-Null Count  Dtype  \n",
      "---  ------           --------------  -----  \n",
      " 0   id               20555 non-null  object \n",
      " 1   type             20528 non-null  object \n",
      " 2   locality         20532 non-null  object \n",
      " 3   activation_date  20532 non-null  object \n",
      " 4   latitude         20532 non-null  float64\n",
      " 5   longitude        20532 non-null  float64\n",
      " 6   lease_type       20532 non-null  object \n",
      " 7   gym              20555 non-null  int64  \n",
      " 8   lift             20555 non-null  int64  \n",
      " 9   swimming_pool    20555 non-null  int64  \n",
      " 10  negotiable       20555 non-null  int64  \n",
      " 11  furnishing       20555 non-null  object \n",
      " 12  parking          20555 non-null  object \n",
      " 13  property_size    20555 non-null  int64  \n",
      " 14  property_age     20532 non-null  float64\n",
      " 15  bathroom         20532 non-null  float64\n",
      " 16  facing           20532 non-null  object \n",
      " 17  cup_board        20532 non-null  float64\n",
      " 18  floor            20532 non-null  float64\n",
      " 19  total_floor      20532 non-null  float64\n",
      " 20  amenities        20532 non-null  object \n",
      " 21  water_supply     20532 non-null  object \n",
      " 22  building_type    20532 non-null  object \n",
      " 23  balconies        20532 non-null  float64\n",
      " 24  rent             20532 non-null  float64\n",
      "dtypes: float64(9), int64(5), object(11)\n",
      "memory usage: 3.9+ MB\n"
     ]
    }
   ],
   "source": [
    "train.info()"
   ]
  },
  {
   "cell_type": "markdown",
   "id": "ae09474a",
   "metadata": {},
   "source": [
    "## Data cleansing"
   ]
  },
  {
   "cell_type": "code",
   "execution_count": 10,
   "id": "6fa78666",
   "metadata": {},
   "outputs": [
    {
     "name": "stdout",
     "output_type": "stream",
     "text": [
      "Udaya Nagar, A Narayanapura, Mahadevapura Zone, Bengaluru, Bangalore East, Bengaluru Urban District, Karnataka, 560016, India\n"
     ]
    }
   ],
   "source": [
    "# importing modules.\n",
    "from geopy.geocoders import Nominatim\n",
    "#calling the nominatim tool.\n",
    "geoLoc = Nominatim(user_agent = \"Getloc\")\n",
    "#passing the coordinates\n",
    "locname = geoLoc.reverse(\"12.996439, 77.671290\")\n",
    "#printing the address/location name\n",
    "print(locname.address)"
   ]
  },
  {
   "cell_type": "code",
   "execution_count": 11,
   "id": "cd153f59",
   "metadata": {},
   "outputs": [
    {
     "data": {
      "text/plain": [
       "id                  0\n",
       "type               27\n",
       "locality           23\n",
       "activation_date    23\n",
       "latitude           23\n",
       "longitude          23\n",
       "lease_type         23\n",
       "gym                 0\n",
       "lift                0\n",
       "swimming_pool       0\n",
       "negotiable          0\n",
       "furnishing          0\n",
       "parking             0\n",
       "property_size       0\n",
       "property_age       23\n",
       "bathroom           23\n",
       "facing             23\n",
       "cup_board          23\n",
       "floor              23\n",
       "total_floor        23\n",
       "amenities          23\n",
       "water_supply       23\n",
       "building_type      23\n",
       "balconies          23\n",
       "rent               23\n",
       "dtype: int64"
      ]
     },
     "execution_count": 11,
     "metadata": {},
     "output_type": "execute_result"
    }
   ],
   "source": [
    "train.isnull().sum()"
   ]
  },
  {
   "cell_type": "code",
   "execution_count": 12,
   "id": "add781c1",
   "metadata": {},
   "outputs": [],
   "source": [
    "train.dropna(inplace = True)"
   ]
  },
  {
   "cell_type": "code",
   "execution_count": 13,
   "id": "e312690f",
   "metadata": {},
   "outputs": [
    {
     "data": {
      "text/plain": [
       "id                 0\n",
       "type               0\n",
       "locality           0\n",
       "activation_date    0\n",
       "latitude           0\n",
       "longitude          0\n",
       "lease_type         0\n",
       "gym                0\n",
       "lift               0\n",
       "swimming_pool      0\n",
       "negotiable         0\n",
       "furnishing         0\n",
       "parking            0\n",
       "property_size      0\n",
       "property_age       0\n",
       "bathroom           0\n",
       "facing             0\n",
       "cup_board          0\n",
       "floor              0\n",
       "total_floor        0\n",
       "amenities          0\n",
       "water_supply       0\n",
       "building_type      0\n",
       "balconies          0\n",
       "rent               0\n",
       "dtype: int64"
      ]
     },
     "execution_count": 13,
     "metadata": {},
     "output_type": "execute_result"
    }
   ],
   "source": [
    "train.isnull().sum()"
   ]
  },
  {
   "cell_type": "code",
   "execution_count": 14,
   "id": "6b8eeb64",
   "metadata": {},
   "outputs": [
    {
     "data": {
      "text/plain": [
       "20"
      ]
     },
     "execution_count": 14,
     "metadata": {},
     "output_type": "execute_result"
    }
   ],
   "source": [
    "train.duplicated().sum()"
   ]
  },
  {
   "cell_type": "code",
   "execution_count": 15,
   "id": "572651f0",
   "metadata": {},
   "outputs": [],
   "source": [
    "train.drop_duplicates(inplace = True)"
   ]
  },
  {
   "cell_type": "code",
   "execution_count": 16,
   "id": "9e0832a8",
   "metadata": {},
   "outputs": [
    {
     "data": {
      "text/plain": [
       "0"
      ]
     },
     "execution_count": 16,
     "metadata": {},
     "output_type": "execute_result"
    }
   ],
   "source": [
    "train.duplicated().sum()"
   ]
  },
  {
   "cell_type": "code",
   "execution_count": 17,
   "id": "2c4417d2",
   "metadata": {
    "scrolled": true
   },
   "outputs": [
    {
     "data": {
      "text/plain": [
       "Whitefield                                                                             900\n",
       "HSR Layout                                                                             682\n",
       "Banashankari                                                                           644\n",
       "Marathahalli                                                                           473\n",
       "Mahadevapura                                                                           432\n",
       "                                                                                      ... \n",
       "Hoodi Main Road, Hoodi, Bengaluru, Karnataka, India                                      1\n",
       "Hampi Bus Stand, Hampi Nagar, RPC Layout, Vijaya Nagar, Bengaluru, Karnataka, India      1\n",
       "BTM Layout,BTM 2nd Stage                                                                 1\n",
       "Srinivasnagar, Banashankari                                                              1\n",
       "Mahadevapura bus stop, Mahadevapura, Bengaluru, Karnataka, India                         1\n",
       "Name: locality, Length: 2049, dtype: int64"
      ]
     },
     "execution_count": 17,
     "metadata": {},
     "output_type": "execute_result"
    }
   ],
   "source": [
    "#pd.set_option ('display.max_rows', None)\n",
    "train[\"locality\"].value_counts()"
   ]
  },
  {
   "cell_type": "code",
   "execution_count": 18,
   "id": "986b04c4",
   "metadata": {},
   "outputs": [],
   "source": [
    "train[\"locality\"] = train['locality'].replace({\"HAL 2nd Stage\" : \"HAL\", \"Madipakkam\" : \"Nan\", \"West of Chord Road\" : \"Basaveshwar Nagar\", \n",
    "                                               \"null,null\" : \"Nan\", \"Medavakkam\" : \"Nan\", \"3th Cross Road,concorde garden city Bangalore 560059\" : \"Concorde Garden City\", \n",
    "                                               \"Taramani\" : \"Nan\", \"Adambakkam\" : \"Nan\", \n",
    "                                               \"Chikkalasandra, Vasanthpura Ward, Bommanahalli Zone, Bengaluru, Bangalore South, Bengaluru Urban District, Karnataka, 570061, India\\n​\" : \"Bommanahalli\", \n",
    "                                               \"Keelkattalai\" : \"Nan\", \"Rajakilpakkam\" : \"Nan\", \"Thoraipakkam\" : \"Nan\", \"Pallikaranai\" : \"Nan\", \"Ramesh Nagar,Vibhutipura\" : \"Ramesh Nagar\", \n",
    "                                               \"Banashankari 1st  Stage,\" : \"Banashankari\", \"chennasandra\" : \"Chennasandra\", \"Kottivakkam\" : \"Nan\", \"Sarjapur Road, Chikkakannalli, Bengaluru, Karnataka, India\" : \"Chikkakannalli\", \n",
    "                                               \"Besant Nagar\" : \"Nan\", \"Madivala\" : \"Madiwala\", \"White filed\" : \"Whitefield\"})"
   ]
  },
  {
   "cell_type": "code",
   "execution_count": 19,
   "id": "bc3430b3",
   "metadata": {},
   "outputs": [],
   "source": [
    "train[\"locality\"] = train['locality'].replace({\"Kodbisanhalli, Bengaluru, Karnataka, India\" : \"Kodbisanhalli\", \"16/1, Ramchandra Puram, Kalappa Block, Srirampura, Bengaluru, Karnataka 560021, India,Bengaluru\" : \"Sri Rampura\", \n",
    "                                               \"Air View Colony, HAL\" : \"HAL\", \"carmelaram\" : \"Carmelaram\", \"near by hosahalli metro station\" : \"Hosahalli Metro Station\", \n",
    "                                               \"#8 1st  main. 4th cross Bhuvaneshwari nagar. c.v Ramannagar Bangalore 560093. opp konda residency\" : \"C V Raman Nagar\", \"Rajajinagar 6th Block\" : \"Rajajinagar\", \"Sripuram, Kumara Park West, Malleshwaram, Bengaluru, Karnataka, India\" : \"Malleshwaram\", \n",
    "                                               \"immadihalli\" : \"Immadihalli\", \"MARATHALLI\" : \"Marathalli\", \"Mysore Road Satellite Bus Station, Bengaluru, Karnataka, India\" : \"Telecom Colony\", \n",
    "                                               \"shivajinagar\" : \"Shivaji Nagar\", \"Uber Verdant, Sy.No. 25/4, 24/2\" : \"Sarjapur\", \"Sadanandanagar, Bennigana Halli, Bengaluru, Karnataka, India\" : \"Sadanandanagar\", \n",
    "                                               \"Shri Balaji Sarovar, Pattandhur Agrahar Village, Near E ...\" : \"Whitefield\", \"Smash it, Sector 7, Bengaluru, Karnataka, India\" : \"ITI Layout\", \n",
    "                                               \"Halanayakanahalli, Bengaluru, Karnataka, India\" : \"Halanayakanahalli\", \"sarjapur main road\" : \"Sarjapur\", \"Basava tonagudi\" : \"Basavanagudi\", \n",
    "                                               \"BTM 1st Stage, Karnataka, India\" : \"BTM\", \"Yettu Kodi, Yattakodi, Karnataka, India\" : \"Yettu Kodi\", \"Vignan Ngar\" : \"Vignan Nagar\", \n",
    "                                               \"3651, 13th F Main Road, Doopanahalli, Bengaluru, Karnataka, India\" : \"Doopanahalli\", \"Adarsh Palm Retreat Tower 2\" : \"Bellandur\", \"Banashankari 1st  Stage,\" : \"Banashankari\", \n",
    "                                               \"West Of Chord Road\" : \"Basaveshwar Nagar\", \n",
    "                                               \"1st Main Road, Austin Town BDA Layout, Agaram, East Zone, Bengaluru, Bangalore North, Bengaluru Urban District, Karnataka, 560047, India\" : \"Austin Town\", \n",
    "                                               \"Kurubara Halli, Shankar Matt Ward, West Zone, Bengaluru, Bangalore North, Bengaluru Urban District, Karnataka, 560086, Indi\" : \"Kurubarahalli\", \n",
    "                                               \"HAL III Stage\" : \"HAL\", \"Near karnataka bank ATM, 17 E Cross, Near Royal enfield showroom\" : \"Indiranagar\", \n",
    "                                               \"basaveshwara Nagar\" : \"Basaveshwara Nagar\", \"Avenue Road cross Basavana lane\" : \"Kumbarpet\", \"Vaddara Palya,Kodipur\" : \"Vaddara Palya\", \n",
    "                                               \"Reddypalya, Jyothi Nagar\" : \"Jyothi Nagar\", \"Arehalli, Kodipur\" : \"Arehalli\", \"Anglo Indian Quaters, Yellagondanpalya, Victoria Layout, Bengaluru, Karnataka, India\" : \"Victoria Layout\", \n",
    "                                               \"Somasundarapalaya, 1st Stage\" : \"Somasundara Palaya\", \"72nd Cross Road, Rajajinagar 3rd Block, Sriramamandir Ward, West Zone, Bengaluru, Bangalore North, Bengaluru Urban District, Karnataka, 560010, India\" : \"Rajaji Nagar\", \n",
    "                                               \"parkview\" : \"Parkview\", \"Jeevan Bhimanagar\" : \"Jeevan Bhima Nagar\", \"19th main ,2nd cross, behind udupi garden\" : \"BTM\", \n",
    "                                               \"Chennammanakere Achukattu,\" : \"Banashankari\", \"Kathriguppe Main Road, Katriguppe, South Zone, Bengaluru, Bangalore South, Bengaluru Urban District, Karnataka, 560085, India\" : \"Banashankari\", \n",
    "                                               \"Subramanyapura Main Road, Kumaraswamy Layout, South Zone, Bengaluru, Bangalore South, Bengaluru Urban District, Karnataka, 560061, India\" : \"Banashankari\", \n",
    "                                               \"Dasarahalli, Agrahara Dasarahalli Ward, West Zone, Bengaluru, Bangalore North, Bengaluru Urban District, Karnataka, 560079, India\" : \"Rajaji Nagar\", \n",
    "                                               \"Robert Bosch Engineering and Business Solutions India Pvt Ltd.,, No. 690, Hosur Road, Hongasandra, Hongasandra Ward, Bommanahalli Zone, Bengaluru, Bangalore South, Bengaluru Urban District, Karnataka, 560068, India\\n​\" : \"Gold Hill Square\", \n",
    "                                               \"Maramma Temple, Siddapura Road, Someshwaranagar, Siddapura, South Zone, Bengaluru, Bangalore North, Bengaluru Urban District, Karnataka, 560004, India\" : \"Malleswaram\", \n",
    "                                               \"Mahakavi Kuvempu Road, Maruthi Extension, Gayatri Nagara, West Zone, Bengaluru, Bangalore North, Bengaluru Urban District, Karnataka, 560021, India\" : \"Rajaji Nagar\", \n",
    "                                               \"Bhuvaneshwari Nagar, Chikkalsandra Ward, South Zone, Bengaluru, Bangalore South, Bengaluru Urban District, Karnataka, 560085, India\" : \"Banashankari\", \n",
    "                                               \"AGS Layout, Uttarahalli, Bommanahalli Zone, Bengaluru, Bangalore South, Bengaluru Urban District, Karnataka, 570061, India\" : \"AGS Layout\", \n",
    "                                               \"Robert Bosch Engineering and Business Solutions India Pvt Ltd.,, No. 690, Hosur Road, Hongasandra, Hongasandra Ward, Bommanahalli Zone, Bengaluru, Bangalore South, Bengaluru Urban District, Karnataka, 560068, India\" : \"Gold Hill Square\", \n",
    "                                               \"21st Ave, Junnasandra, Rainbow Residency, Halanayakanahalli, Bengaluru, Karnataka 560035, India,Bengaluru\" : \"Rainbow Residency\", \n",
    "                                               \"Lore Pride, Ferns City, Bengaluru, Karnataka, India\" : \"Doddanekkundi\", \"Koralur, Karnataka,Koralur\" : \"Koralur\", \n",
    "                                               \"arjapur Road, Chikkakannalli, Bengaluru, Karnataka, India\" : \"Chikkakannalli\", \"FCI Layout, Deepanjali Nagar, Bengaluru, Karnataka, India\" : \"Deepanjali Nagar\", \n",
    "                                               \"Byagadadenahalli Bus Stop, Chandapura-Anekal Road, Karnataka 562106, India\" : \"Chandapura\", \"Amblipura, 1st Sector\" : \"HSR Layout\", \n",
    "                                               \"80 Feet Road, 80 Feet Rd, Bengaluru, Karnataka, India\" : \"Koramangala\", \"RR Naga\" : \"Raja Rajeshwari Nagar\", \"Embassy Tech Village, Bengaluru, Karnataka, India\" : \"Embassy Tech Village\", \n",
    "                                               \"Subramanyanagar,2 State\" : \"Rajaji Nagar\", \"nagarabhavi\" : \"Naagarabhaavi\", \"Vibhutipura, Bengaluru, Karnataka, India\" : \"Vibhutipura\", \"Skylark Esta, Seetharampalya, Bengaluru, Karnataka, India\" : \"Hoodi\", \n",
    "                                               \"Someshwara Nagar, Bengaluru, Karnataka, India\" : \"Jaya Nagar\", \"Maruthi Nagar, Madivala\" : \"Madivala\", \"Cubbonpete, Nagarathpete, Bengaluru, Karnataka, India\" : \"Cubbonpete\", \n",
    "                                               \"Hagadur Main Road,Bengaluru\" : \"Whitefield\", \"Bismillah Nagar, Gurappanapalya Ward, South Zone, Bengaluru, Bangalore South, Bengaluru Urban District, Karnataka, 560029, India\" : \"Bismillah Nagar\"})"
   ]
  },
  {
   "cell_type": "code",
   "execution_count": 20,
   "id": "8839b7f9",
   "metadata": {},
   "outputs": [],
   "source": [
    "train[\"locality\"] = train['locality'].replace({\"Basaweshwara Nagar,\" : \"Basaweshwara Nagar\", \"3th Cross Road,concorde garden city Bangalore 560059\" : \"Concorde Garden City\", \"jpnagar 5th phase,vinayakanagar\" : \"J P Nagar\", \n",
    "                                               \"11, Hanumappa Road, Bhoomi Reddy Colony, Bengaluru, Karnataka, India\" : \"Bhoomi Reddy Colony\", \"BSK III Stage\" : \"Banashankari\", \n",
    "                                               \"Adarsh Palm Retreat Tower 2 \" : \"Bellandur\", \"Kaveri Nagar, Murugeshpalya\" : \"Murugeshpalya\", \"Ambedkar Nagar\" : \"Dr.Ambedkar Nagar\", \n",
    "                                               \"Ittamadu, Bengaluru, Karnataka, India\" : \"Hosakerehalli\", \"Veracious Rosedale, Bengaluru, Karnataka, India\" : \"Whitefield\", \n",
    "                                               \"JP Nagar 8th Phase\" : \"J P Nagar\", \"Udayanagar 2nd stage\" : \"Udaya Nagar\", \"Srirampura,\" : \"Sri Rampura\", \"Nagarabhavi 2nd stage\" : \"Nagarabhavi\", \n",
    "                                               \"GM Palya, Hosa Tippasandra, East Zone, Bengaluru, Bangalore East, Bengaluru Urban District, Karnataka, 560075, India\" : \"G M Palya\", \n",
    "                                               \"Usha Kiran Apartments, Haudin Road, Hermit Colony, Bengaluru, Karnataka, India\" : \"Halasuru\", \n",
    "                                               \"10th Cross Road, Thyagaraja Nagar, Yediyur Ward, South Zone, Bengaluru, Bangalore South, Bengaluru Urban District, Karnataka, 560028, India\" : \"Thyagaraja Nagar\", \n",
    "                                               \"Magadi Road Metro Station Building, 2nd Cross Rd, Keshava Nagar, Binnipete, Bengaluru, Karnataka, India\" : \"Binnipete\", \"Pai Layout, Bengaluru, Karnataka, India\" : \"Pai Layout\", \n",
    "                                               \"S Cadambi Vidya Kendra English Secondary School, Siddhaiah Puranik Road, Basaveshwaranagar, Basaveshwara Nagar Ward, West Zone, Bengaluru, Bangalore North, Bengaluru Urban District, Karnataka, 560079, India\" : \"Basaveshwara Nagar\", \n",
    "                                               \"Rajajinagar 3rd Block\" : \"Rajajinagar\", \n",
    "                                               \"Marenahalli Road, DK Naik Nagar, Pattabhiram Nagar, South Zone, Bengaluru, Bangalore South, Bengaluru Urban District, Karnataka, 560069, India\" : \"Pattabhiram Nagar\", \n",
    "                                               \"MARATHALLI, MUNEKOLALA\" : \"MARATHALLI\", \"HAL 2nd Stage, Bengaluru, Karnataka, India\" : \"HAL\", \"Yelachenahallli, Bengaluru, Karnataka, India\" : \"Yelachenahallli\",\n",
    "                                               \"Prestige Shanthinikethan, Bengaluru, Karnataka, India\" : \"Hoodi\", \"agara\" : \"Agara\", \"Turahalli, Thurahalli, Bengaluru, Karnataka, India\" : \"Thurahalli\", \"Abbaiah Reddy Layout, Bengaluru, Karnataka, India\" : \"Abbaiah Reddy Layout\", \n",
    "                                               \"10th Cross Road, Thyagaraja Nagar, Yediyur Ward, South Zone, Bengaluru, Bangalore South, Bengaluru Urban District, Karnataka, 560028, India\" : \"Thyagaraja Nagar\", \n",
    "                                               \"new bayappanahalli\" : \"New Bayappanahalli\", \"Magadi Road Metro Station Building, 2nd Cross Rd, Keshava Nagar, Binnipete, Bengaluru, Karnataka, India\" : \"Binnipete\" \n",
    "                                               }) "
   ]
  },
  {
   "cell_type": "code",
   "execution_count": 21,
   "id": "9badaf7b",
   "metadata": {},
   "outputs": [],
   "source": [
    "train[\"locality\"] = train['locality'].replace({\"Mother Teresa Road, Neelasandra, Bengaluru, Karnataka, India\" : \"Mother Teresa Road\", \"Junnasandra, Bengaluru, Karnataka, India\" : \"Junnasandra\", \"BEML 5th Stage, Rajarajeshwarinagar, Bengaluru, Karnataka, India\" : \"Raja Rajeshwari Nagar\", \"Vannarpet, Bengaluru, Karnataka, India\" : \"Vannarpet\", \n",
    "                                               \"DSR Emerald & DSR Topaz Apartments, 7th Main Road,Ibbalur, Post, 560103,, Green Glen Layout, Bellandur, Bengaluru, Karnataka 560103, India,Bengaluru\" : \"Ibbalur\", \"Heggondahalli, Gunjur Post\" : \"Heggondahalli\", \"104, 8th B Main Rd, NGEF Layout, Sadanandanagar, Bennigana Halli, Bengaluru, Karnataka 560038, India,Bengaluru\" : \"Sadanandanagar\", \n",
    "                                               \"VijayaSri Elixir, Bengaluru, Karnataka, India\" : \"Whitefield\", \"Happy Valley Layout,Subramanyapura\" : \"Subramanyapura\", \"Hosapalya Main Road, Sector 7, Muneshwara Nagar, Bengaluru, Karnataka, India\" : \"Muneshwara Nagar\", \"BSK 5th Stage\" : \"Banashankari\", \"Banashankar\" : \"Banashankari\", \n",
    "                                               \"Hosapalaya, Bengaluru, Karnataka, India\" : \"Hosapalaya\", \"Jaraganahalli, Naidu Layout, Bengaluru, Karnataka, India\" : \"Jaraganahalli\", \"Ittamadu Main, Ramanjaneyanagar, Bengaluru, Karnataka, India\" : \"Ittamadu\", \"Sadanandanagar, Bennigana Halli\" : \"Bennigana Halli\", \"Victoria Layout, Bengaluru, Karnataka, India\" : \"Victoria Layout\", \n",
    "                                               \"Silver Springs Layout, Bengaluru, Karnataka, India\" : \"Silver Springs Layout\", \"Palace Guttahalli, Bengaluru, Karnataka, India\" : \"Palace Guttahalli\", \"Bhanu Residency, Stage 2, Bengaluru, Karnataka, India\" : \"BTM Layout\", \n",
    "                                               \"Channasandra Main Road, Bengaluru, Karnataka, India\" : \"Channasandra\", \"Kaveri Pura, Priyadarshini Layout\" : \"Kaveri Pura\", \"Srinagar, Bengaluru, Karnataka, India\" : \"Srinagar\", \"Chickpet, Bengaluru, Karnataka, India\" : \"Chickpet\", \"Agrahara Dasarahalli, Bengaluru, Karnataka, India\" : \"Agrahara Dasarahalli\", \n",
    "                                               \"19th Main Road, Maruthi Nagara, Madivala, South Zone, Bengaluru, Bangalore South, Bengaluru Urban District, Karnataka, 560029, India\" : \"Madiwala\", \n",
    "                                               \"New Thippsandra\" : \"New Tippasandra\", \"Srirampura Metro Station, Mahakavi Kuvempu Road, Ramamohanapuram, Bengaluru, Karnataka, India\" : \"Ramamohanapuram\", \"Queens  road cross, shivajinagar, near congress bhavan\" : \"Shivaji Nagar\", \"Sheshadripuram, Bengaluru, Karnataka, India\" : 'Sheshadripuram', \"H A L 2nd Stage\" : \"HAL\", \n",
    "                                               \"Jeevanahalli Main Road, MSO Colony, Maruthi Seva Nagar, East Zone, Bengaluru, Bangalore North, Bengaluru Urban District, Karnataka, 560033, India\" : \"Maruthi Sevanagar\", \"R.R Nagar\" :\"Raja Rajeshwari Nagar\", \" 4th Cross Road, 2nd Stage, Brigade Metropolis, Garudachar Palya, Mahadevapura, Bengaluru, Karnataka 560048, India,Bengaluru\" : \"Mahadevapura\",\n",
    "                                               \"18, 18th Cross Rd, New Extension, Mahadeshwara Nagar, Stage 2, BTM 2nd Stage, Bengaluru, Karnataka 560076, India,Bengaluru\" : \"BTM\", \"Sindhoor Convention Centre, Bengaluru, Karnataka, India\" : \"Sindhoor Convention Centre\", \"1st Main Road, ITI Layout, Sector 7, Muneshwara Nagar\" : \"ITI Layout\", \"GUNDTHOP\" : \"Gundu Thopu\", \n",
    "                                               \"BTM, Stage 1\" : \"BTM\", \"bangalore ac service, Bismillah Nagar, Bengaluru, Karnataka, India\" : \"Bismillah Nagar\", \"12th cross, Vird Nagar Main Road, NGR Layout, Roopena Agrahara, Bengaluru, Karnataka, India\" : \"NGR Layout\", \"Telecom Layout,Padmanabhanagar\" : \"Telecom Layout\", \n",
    "                                               \"Mapple Heights Apartments, Vijnana Nagar, Mahadevapura Zone, Bengaluru, Bangalore East, Bengaluru Urban District, Karnataka, 560093, India\" : \"Mahadevapura\", \"Kanakpura Main Road,\" : \"Kanakpura\", \"Srirampura, Bengaluru, Karnataka, India\" : \"Sri Rampura\", \"Bismillahnagar\" : \"Bismillah Nagar\", \n",
    "                                               })"
   ]
  },
  {
   "cell_type": "code",
   "execution_count": 22,
   "id": "b61e55cf",
   "metadata": {},
   "outputs": [],
   "source": [
    "train[\"locality\"] = train['locality'].replace({\"Sarjapur Road Post Railway Crossing\" : \"Sarjapu\", \"Sarjapur Road Wipro To Railway Crossing\" : \"Sarjapur\", \n",
    "                                               \"Jeevanbhima Nagar\" : \"Jeevan Bima Nagar\", \"Rainbow Drive,Halanayakanahalli\" : \"Halanayakanahalli\", \"Sarjapur Road Till Wipro\" : \"Sarjapur\", \n",
    "                                               \"Channasandra,Srinivaspura\" : \"Channasandra\", \"Pantarapalya,Nayanda Halli\" : \"Nayanda Halli\", \"Kodbisanhalli,\" : \"Kodbisanhalli\", \n",
    "                                               \"Sarjapur Road\" : \"Sarjapur\", \"Chandana,\" : 'Chandana', \"Sector 7,Somasundarapalya\" : \"Somasundarapalya\", \"BSK 3rd Stage\" : \"Banashankari\", \n",
    "                                               \"VV Puram\" : \"V V Puram\", \"Rasanna Colony,Vibhutipura\" : \"Rasanna Colony\", \"Hosapalaya,Muneshwara Nagar\" : \"Hosapalaya\", \n",
    "                                               \"Nagarabhavi 2nd Stage\" : \"Nagarabhavi\", \"BSK 2nd Stage\" : \"Banashankari\", \"Iblur Village,Agram\" : \"Iblur\", \"Old Guddadahalli,RR Nagar\" : \"Raja Rajeshwari Nagar\", \n",
    "                                               \"Chansandra, Bengaluru, Karnataka, India\" : \"Chansandra\", \"Banshankari 3rd Stage\" : \"Banshankari\", \n",
    "                                               \"1st Phase JP Nagar\" : \"JP Nagar\", \"641, 26th Cross Road, Sector 7, Bengaluru, Karnataka, India\" : \"HSR Layout\", \n",
    "                                               \"Embassy Meadows, 7, 8th Cross Road, ST Bed Layout, Agaram, East Zone, Bengaluru, Bangalore South, Bengaluru Urban District, Karnataka, 560034, Indi\" : \"Embassy Meadows\", \n",
    "                                               \"Purnapragnya LayouT\" : \"Purnapragnya Layout\", \"JeevanBhima Nagar\" : \"Jeevan Bhima Nagar\", \"Jeevan Bheema Nagar\" : \"Jeevan Bhima Nagar\", \n",
    "                                               \"BTm lyout\" : \"BTM Layout\", \"HAL, Bengaluru, Karnataka, India\" : \"HAL\", \n",
    "                                               \"RNS Institute of Technology, Dr. Vishnuvardhana Road,R R Nagar Post, Channasandra, Bengaluru, Karnataka, India\" : \"Raja Rajeshwari Nagar\", \n",
    "                                               \"Cottonpete, Bengaluru, Karnataka, India\" : \"Cottonpete\", \"Udaya Nagar, Bengaluru, Karnataka, India\" : \"Udaya Nagar\", \"Nagarabhavi 1st Stage\" : \"Nagarabhavi\", \n",
    "                                               \"G.K.W. Layout Bus Stand, GKW Main Road, Govindaraja Nagar Ward, Bengaluru, Karnataka, India\" : \"Govindaraja Nagar\", \"Channasandra, Srinivaspura\" : \"Channasandra\", \n",
    "                                               \"2nd Block Rajajinagara\" : \"Rajaji Nagara\", \"janapriya abodes\" : \"Janapriya Abodes\", \"Kalasipalya, Bengaluru, Karnataka, India\" : \"Kalasipalya\", \n",
    "                                               \"Thammanna & Ashwathamma Nilaya, # 27, 24th main F cross, Pipeline Rd, Kurubarahalli, Basaweshwara Nagar, Bengaluru, Karnataka 560086, India,Bengaluru\" : \"Basaweshwara Nagar\", \n",
    "                                               \"Purva Riviera, Bengaluru, Karnataka, India\" : \"Purva Riviera\", \n",
    "                                               \"Basava Nagar Main Road, Rasanna Colony, Bengaluru, Karnataka, India\" : \"Basava Nagar\", \"Uday Nagar, Bengaluru, Karnataka, India\" : \"Uday Nagar\", \n",
    "                                               \"Binnipete, Bengaluru, Karnataka, India\" : \"Binnipete\", \"Jayamahal, Bengaluru, Karnataka, India\" : \"Jayamahal\", \"Giri Nagar, Muneshwara Block\" : \"Giri Nagar\", \n",
    "                                               \"DN Ramaiah Layout, Guttahalli\" : \"DN Ramaiah Layout\", \"Anayappa Garden, HAL 3rd Stage\" : \"Anayappa Garden\", \n",
    "                                               \"Palace Guttahalli, Bengaluru, Karnataka, India \" : \"Palace Guttahalli\", \"3th Cross Road,concorde garden city Bangalore 560059\" : \"Concorde Garden City\", \n",
    "                                               \"Nagarabhavi 2nd Stage, Bengaluru, Karnataka, India\" : \"Nagarabhavi\", \"Kadugod\" : \"Kadugodi\", \"Pattegarhpalya, Bengaluru, Karnataka, India\" : \"Pattegarhpalya\", \n",
    "                                               \"GKW Layout, Maruthi Mandir ward, West Zone, Bengaluru, Bangalore North, Bengaluru Urban District, Karnataka, 560072, India\" : \"GKW Layout\", \n",
    "                                               \"Malagala, Kottigepalya, Rajarajeshwari Nagar Zone, Bengaluru, Bangalore North, Bengaluru Urban District, Karnataka, 560072, India\" : \"\", \n",
    "                                               \"7th Cross Road, Teachers Colony, Jakkasandra, South Zone, Bengaluru, Bangalore South, Bengaluru Urban District, Karnataka, 560034, India\" : \"Teachers Colony\", \n",
    "                                               \"3rd Cross Road, Dodakattappa, Halasooru, East Zone, Bengaluru, Bangalore North, Bengaluru Urban District, Karnataka, 560007, India\" : \"Dodakattappa\", \n",
    "                                               \"17th C Cross, LBS Nagar, Hoysala Nagara, East Zone, Bengaluru, Bangalore North, Bengaluru Urban District, Karnataka, 560038, India\" : \"Hoysala Nagara\", \n",
    "                                               \"Vishweshwarapura, Bengaluru, Karnataka 560004, India\" : \"Vishweshwarapura\", \n",
    "                                               \"City Market, ಸೇತುರಾವ ರಸ್ತೆ, K R Market Ward, West Zone, Bengaluru, Bangalore North, Bengaluru Urban District, Karnataka, 560053, India\" : \"K R Market\", \n",
    "                                               \"Doctor Ambedkar Nagar Road,Bengaluru\" : \"Dr.Ambedkar Nagar\", \"NR Colony, Bengaluru, Karnataka, India\" : \"Basavanagudi\", \n",
    "                                               \"Sudhama Nagar,\" : \"Sudhama Nagar\", \" Jayanagar\" : \"Jaya Nagar\", \"Huchappa Layout, Mudalapalya\" : \"Mudalapalya\", \"agara village\" : \"Agara village\", \n",
    "                                               \"Doddanekundi,\" : \"Doddanekundi\",'Srinagar, Pipeline Road' : \"Srinagar\", \"Salarpuria Sanctity, Sarjapur Road, Halanayakanahalli, Bengaluru, Karnataka, India\" : \"Sarjapur\", \n",
    "                                               \"GM Palya, Bengaluru, Karnataka, India\" : \"GM Palya\", \"Sampangi Rama Nagar,\" : \"Sampangi Rama Nagar\", \n",
    "                                               \"K G Nagar Main Road, Kempegowda Nagar, Bengaluru, Karnataka, India\" : \"Kempegowda Nagar\", \"Devaiah Park, Bengaluru, Karnataka, India\" : \"Devaiah Park\", \n",
    "                                               \"Maithri Layout Hope Farm Circle, III Main Road, Maithri Layout, Bengaluru, Karnataka, India\" : \"Hope Farm\", \"Byrasandra, Jaya Nagar 1st Block East\" : \"Jaya Nagar\", \n",
    "                                               \"Naganathapura, Rayasandra, Bengaluru, Karnataka, India\" : \"Naganathapura\", \"Chocolate Factory Road, Cashier Layout\" : \"Cashier Layout\"})"
   ]
  },
  {
   "cell_type": "code",
   "execution_count": 23,
   "id": "4d296e6e",
   "metadata": {},
   "outputs": [],
   "source": [
    "train[\"locality\"] = train['locality'].replace({\"Belatur Colony,Brindavan Layout\" : \"Brindavan Layout\", \"Indira Nagar II Stage\" : \"Indira Nagar\", \n",
    "                                               \"Jyothi Puram,Dooravani Nagar\" : \"Jyothi Puram\", \"Keshava Nagar,Binnipete\" : \"Keshava Nagar\", \"ITC Colony,Maruthi Sevanagar\" : \"ITC Colony\", \n",
    "                                               \"Iblur Village,Agram \" : \"Ibbaluru\", \"BEML Layout 3rd Stage\" : \"BEML Layout\", \"Carmelaram, Bengaluru, Karnataka, India\" : \"Carmelaram\", \n",
    "                                               \"Anepalya, Neelasandra\" : \"Neelasandra\", \"Gunjur, Bengaluru, Karnataka, India\" : \"Gunjur\", \"Koramangala 2nd Block\" : \"Koramangala\", \n",
    "                                               \"Arehalli,Uttarahalli Hobli\" : \"Arehalli\", \"Ayyappa Nagar, Bengaluru, Karnataka, India\" : \"Ayyappa Nagar\", \"Murugeshpalya, Bengaluru, Karnataka, India\" : \"Murugeshpalya\", \n",
    "                                               \"kundalahalli\" : \"Kundalahalli\", \"Chinnappanahalli\" : \"Chinnapanna Halli\", \"ITI Layout Sector 7\" : \"ITI Layout\",\n",
    "                                               \"Kumara Park East, Bengaluru, Karnataka, India\" : \"Sheshadripuram\", \"Chansandra, Bengaluru, Karnataka, India \" : \"Chansandra\", \n",
    "                                               \"Govindaraja Nagar Ward\" : \"Govindaraja Nagar\", \"Indira Nagar 1st Stage\" : \"Indira Nagar\", \n",
    "                                               \"Tavarekere, Bengaluru, Karnataka, India\" : \"Tavarekere\", \"New Thipasandra\" : \"New Thippasandra\", \"KHB Colony, Bengaluru, Karnataka, India\" : \"KHB Colony\", \n",
    "                                               \"Halasuru, Bengaluru, Karnataka, India\" : \"Halasuru\", \"HAL 3rd Stage\" : \"Jeevanbhima Nagar\", \n",
    "                                               \"Teacher&#39;s Colony\" : \"Teachers Colony\", \"166, 2nd Cross Road,Bengaluru\" : \"Udaya Nagar\", \n",
    "                                               \"37, 10th Main Road,Bengaluru\" : \"Jaya Nagar\", \"No: 70/A, Sapthagiri Nivas, 2nd Main 4th Cross Brindavan Nagar, Bangalore-29\" : \"Brindavan Nagar\", \n",
    "                                               \"Richmond Town, Bengaluru, Karnataka, India\" : \"Richmond Town\", \"L B Sastry Nagar Lake, Bengaluru, Karnataka\" : \"L B Sastry Nagar\", \n",
    "                                               \" 59/35Banashankari 3rd Stage, Banashankari, Bengaluru, Karnataka, India\" : \"\", \"kormangala\" : \"Kormangala\", \n",
    "                                               \"Jaya nagar\" : \"Jaya Nagar\", \"Shivananda Nagar, Jagadish Nagar\" : \"Shivananda Nagar\", \n",
    "                                               \"Sarjapur Main Road, Sector 2, PWD Quarters, Bengaluru, Karnataka, India\" : \"PWD Quarters\", \"Columbia Asia Hospital Sarjapur Road\" : \"Bellandur\", \n",
    "                                               \"Mahalakshmipuram,\" : \"Mahalakshmi Puram\", \"Kamala Nagar, Bengaluru, Karnataka, India\" : \"Kamala Nagar\", \n",
    "                                               \"Lalbagh West Gate, Rashtriya Vidyalaya Rd, Vishweshwarapura, Shankarapura, Bengaluru, Karnataka 560004, India\" : \"Shankarapura\", \n",
    "                                               \"Sunrise Aurora Apartments, Sanvi Sankalpam Main Rd, Bengaluru, Karnataka 560067, India\" : \"Sanvi Sankalpam\", \n",
    "                                               \"DODDANAKUNDI\" : \"Doddanekundi\", \"GKW Layouthttps://d3snwcirvb4r88.cloudfront.net/static/img/postYourProperty/icon/property.png\" : \"GKW Layout\", \"Islampur,Vibhutipura\" : \"Islampur\", \n",
    "                                               \"Sarjapur, Bengaluru, Karnataka 562125, India\" : \"Sarjapur\", \"Hope Farm Junction\" : \"Hope Farm\", \"Vivek Nagar, Bengaluru, Karnataka, India\" : \"Vivek Nagar\", \n",
    "                                               \"R R Nagar\" : \"Raja Rajeshwari Nagar\", \"Jeevanbheemanagar\" : \"Jeevan Bheema Nagar\", \n",
    "                                               \"Tin factory, Krishna Raja Puram Hanging Bridge, Bangalore Corporation Industrial Estate, Bengaluru, Karnataka, India\" : \"Tin Factory\", \n",
    "                                               \"Srinivaspura, Channasandra\" : \"Channasandra\", \"HAL, Air View Colony\" : \"Air View Colony\", \"Samethana Lakefront Apartments, Samethanahalli, Karnataka, India\" : \"Samethana Halli\", \n",
    "                                               \"Mottappanapalaya 3rd Cross\" : \"Mottappanapalaya\", \"thimma reddy layout\" : \"Thimma Reddy Layout\", \"Seetharampalya,\" : \"Seetharampalya\" \n",
    "                                               })"
   ]
  },
  {
   "cell_type": "code",
   "execution_count": 24,
   "id": "e80d0630",
   "metadata": {},
   "outputs": [],
   "source": [
    "train[\"locality\"] = train['locality'].replace({\"Yemalur, Bengaluru, Karnataka, India\": \"Yemalur\", \"Banashakari\" : \"Banashankari\",\n",
    "                                               \"Banashankari 1st  Stage,\" : \"Banashankari\", \"banashankari\" : \"Banashankari\", \"Yamalur\" : \"Yemalur\", \n",
    "                                               \" 59/35Banashankari 3rd Stage, Banashankari, Bengaluru, Karnataka, India \" : \"Banashankari\", \n",
    "                                               \"2nd Block, Banashankari Stage I,\" : \"Banashankari\", \"HSR 7th Sector\" : \"HSR Layout\"})"
   ]
  },
  {
   "cell_type": "code",
   "execution_count": 25,
   "id": "7025b527",
   "metadata": {},
   "outputs": [],
   "source": [
    "train[\"locality\"] = train['locality'].replace({\"White Field\" : \"Whitefield\", \"Ramagondanahalli, Whitefield, Bengaluru, Karnataka, India\" : \"Whitefield\", \n",
    "                                               \"Whitefield, Nallurhalli, Bengaluru, Karnataka, India\" : \"Whitefield\", \"Citilights Rustique, ECC Road, Whitefield, Bengaluru, Karnataka, India\" : \"Whitefield\", \n",
    "                                               \"277, 23rd Cross Rd,28th main road, Sector 2, HSR Layout, Bengaluru, Karnataka 560102, India,Bengaluru\" : \"HSR Layout\", \n",
    "                                               \"HSR\" : \"HSR Layout\", \"HSR Sector 1\" : \"HSR Layout\", \"HSR 7th Sector, Sector 7\" : \"HSR Layout\", \"HSR 6th Sector\" : \"HSR Layout\", \n",
    "                                               })"
   ]
  },
  {
   "cell_type": "code",
   "execution_count": 26,
   "id": "e94a7c39",
   "metadata": {},
   "outputs": [],
   "source": [
    "train[\"locality\"] = train['locality'].replace({\"madiwala\" : \"Madiwala\", \"K.R Puram, Bengaluru\" : \"Krishnarajapuram\", \n",
    "                                               \"Jaya Nagar East\" : \"Jaya Nagar\",\n",
    "                                              \"KR Puram\" : \"Krishnarajapuram\", \"Jaya Nagar 1st Block\" : \"Jaya Nagar\", \"Vijay nagar\" : \"Vijay Nagar\", \n",
    "                                               \"Vijaynagar\" : \"Vijay Nagar\", \n",
    "                                               \"Jaya Nagar 9th Block\" : \"Jaya Nagar\", \"Madivala\" : \"Madiwala\", \"Chinnapanahalli\" : \"Chinnapanna Halli\", \n",
    "                                               \"Vijayanagar\" : \"Vijaya Nagar\", \"Jayanagar\" : \"Jaya Nagar\" })"
   ]
  },
  {
   "cell_type": "code",
   "execution_count": 27,
   "id": "95cf9956",
   "metadata": {},
   "outputs": [],
   "source": [
    "train[\"locality\"] = train['locality'].replace({\"Devasthanagalu,Balagere\" : \"Balagere\", \"oBalagere, Bengaluru, Karnataka, India\" : \"Balagere\", \n",
    "                                               \"Balagere, Bengaluru, Karnataka, India\" : \"Balagere\", \"Balagere Road, Balagere, Bengaluru, Karnataka, India\" : \"Balagere\" \n",
    "                                               })"
   ]
  },
  {
   "cell_type": "code",
   "execution_count": 28,
   "id": "edd0cf48",
   "metadata": {},
   "outputs": [],
   "source": [
    "train[\"locality\"] = train['locality'].replace({\"1st Sector,Gunjur Village\" : \"Gunjur Village\", \"HILIFE TRIFLORA, Gunjur Village, Bengaluru, Karnataka, India\" : \"Gunjur Village\", \n",
    "                                               \"Upscale Golden Lotus, State Highway 35, Devasthanagalu, Gunjur Village, Bengaluru, Karnataka, India\" : \"Gunjur Village\", \n",
    "                                               })"
   ]
  },
  {
   "cell_type": "code",
   "execution_count": 29,
   "id": "40422041",
   "metadata": {},
   "outputs": [],
   "source": [
    "train[\"locality\"] = train['locality'].replace({\"Mangammanapalya, Bengaluru, Karnataka, India\" : \"Mangammanapalya\", \"Mangammanapalya, Bengaluru, Karnataka 560068, India\" : \"Mangammanapalya\", \n",
    "                                               \"Vivek nagar\" : \"Viveka Nagar\"})"
   ]
  },
  {
   "cell_type": "code",
   "execution_count": 30,
   "id": "e5e2b6d6",
   "metadata": {},
   "outputs": [],
   "source": [
    "train[\"locality\"] = train['locality'].replace({\"48/15, 1st Main Rd, Lakshmi Sagar Layout, Maheswari Nagar, B Narayanapura, Narayanapura, Bengaluru, Karnataka 560048, India,Bengaluru\" : \"B Narayanapura\", \n",
    "                                               \"AECS Layout, Kundalahalli\" : \"AECS Layout\", \"Sowparnika Ushakiran, 60 Feet Road, AECS Layout, Bengaluru, Karnataka, India\" : \"AECS Layout\", \n",
    "                                               \"AECS Layout - D Block\" : \"AECS Layout\", \"AECS Layout - A Block\" : \"AECS Layout\", \"AECS Layout, Bengaluru, Karnataka, India\" : \"AECS Layout\" \n",
    "                                               })"
   ]
  },
  {
   "cell_type": "code",
   "execution_count": 31,
   "id": "be83e564",
   "metadata": {},
   "outputs": [],
   "source": [
    "train[\"locality\"] = train['locality'].replace({\"Thubarahalli, Bengaluru, Karnataka, India\" : \"Thubarahalli\", \n",
    "                                               \"#610,5th cross, Bhuvaneshwari layout, , Marathahalli post, Bangalore-560037, 610, 5th Cross Road, Thubarahalli, Marathahalli, Bengaluru, Karnataka 560037, India,Bengaluru\" : \"Thubarahalli\", \n",
    "                                               \"THubarahalli\" : \"Thubarahalli\", \"Tubarahalli\" : \"Thubarahalli\", \"Jaya Nagar 1st Block East\" : \"Jayanagar\", \"Jaya Nagar T Block\" : \"Jayanagar\",\n",
    "                                               \"Raja Rajeshwarinagar\" : \"Raja Rajeshwari Nagar\"})"
   ]
  },
  {
   "cell_type": "code",
   "execution_count": 32,
   "id": "eeae32a7",
   "metadata": {},
   "outputs": [],
   "source": [
    "train[\"locality\"] = train['locality'].replace({\"Vignan Nagar, Bengaluru, Karnataka, India\" : \"Vignan Nagar\", \"C.V Raman Nagar\" : \"C V Raman Nagar\", \n",
    "                                               \"HImagiri Enclave II, Abbaiah Reddy Layout, Vignan Nagar, Bengaluru, Karnataka, India\" : \"Vignan Nagar\", \n",
    "                                               \"Vignan Nagar Auto Stand, Namjoshi Road, Adarsh Vista, Bengaluru, Karnataka, India\" : \"Vignan Nagar\", \n",
    "                                               \"Vignan Nagar,\" : \"Vignan Nagar\", \"vignan nagar\" : \"Vignan Nagar\", \n",
    "                                               \"Hoodi Main Road, Hoodi, Bengaluru, Karnataka, India\" : \"Hoodi\", \n",
    "                                               \"Vannarpet Layout, Viveka Nagar\" : \"Viveka Nagar\", \"Viveka Nagar, Bengaluru, Karnataka, India\" : \"Viveka Nagar\", \n",
    "                                               \"C.V. Raman Nagar\" : \"C V Raman Nagar\"})"
   ]
  },
  {
   "cell_type": "code",
   "execution_count": 33,
   "id": "42f5a1dc",
   "metadata": {},
   "outputs": [],
   "source": [
    "train[\"locality\"] = train['locality'].replace({\"shanti nagar\" : \"Shanti Nagar\", \"Kadubeesanahalli,\" : \"Kadubeesanahalli\", \"Madiwala, Madivala, South Zone, Bengaluru, Bangalore South, Bengaluru Urban District, Karnataka, 560029, India\" : \"Madiwala\", \n",
    "                                               \"CV Raman Nagar\" : \"C V Raman Nagar\", \"SG Palya, CV Raman Nagar\" : \"C V Raman Nagar\", \"14, 5th Cross Rd, Murugesh Pallya, Nanja Reddy Colony, Jeevan Bima Nagar, Bengaluru, Karnataka 560017, India,Bengaluru\" : \"Jeevan Bima Nagar\", \n",
    "                                               \"jeevan Bima Nagar\" : \"Jeevan Bima Nagar\", \"Ananda Puram,Jeevan Bima Nagar\" : \"Jeevan Bima Nagar\", \n",
    "                                               \"Jeevan Bima Nagar, Shivalingaiah Colony, Bengaluru, Karnataka, India\" : \"Jeevan Bima Nagar\", \n",
    "                                               \"Chinnappana Halli\": \"Chinnapanna Halli\", \"Nanja Reddy Colony,Jeevan Bima Nagar\" : \"Jeevan Bima Nagar\", \"malleshpalya\" : \"Malleshpalya\", \n",
    "                                               \"Malleshpalya, Maruthi Nagar\" : \"Malleshpalya\", \"Malleshwaram, Bengaluru, Karnataka 560003, India\" : \"Malleshwaram\", \n",
    "                                               \"Malleshpalya, Bengaluru, Karnataka, India\" : \"Malleshpalya\", \"malleshwaram\" : \"Malleshwaram\", \n",
    "                                               \"Madiwala, Madivala, South Zone, Bengaluru, Bangalore South, Bengaluru Urban District, Karnataka, 560029, India\" : \"Madiwala\", \n",
    "                                               \"Madivala,\" : \"Madiwala\", \"Rajarajeshwarinagar\" : \"Raja Rajeshwari Nagar\"})"
   ]
  },
  {
   "cell_type": "code",
   "execution_count": 34,
   "id": "f208ee2a",
   "metadata": {},
   "outputs": [],
   "source": [
    "train[\"locality\"] = train['locality'].replace({\"Pulkeshi Nagar,Pulikeshi Nagar\" : \"Pulikeshi Nagar\", \"Pulikeshi Nagar, Bengaluru, Karnataka, India\" : \"Pulikeshi Nagar\"})"
   ]
  },
  {
   "cell_type": "code",
   "execution_count": 35,
   "id": "3ed8806c",
   "metadata": {},
   "outputs": [],
   "source": [
    "train[\"locality\"] = train['locality'].replace({\"Jogupalya, Bengaluru, Karnataka, India\" : \"Jogupalya\", \n",
    "                                               \"Jogupalya, East Zone, Bengaluru, Bangalore North, Bengaluru Urban District, Karnataka, 560008, India\" : \"Jogupalya\", \n",
    "                                               })"
   ]
  },
  {
   "cell_type": "code",
   "execution_count": 36,
   "id": "9b31fba8",
   "metadata": {},
   "outputs": [],
   "source": [
    "train[\"locality\"] = train['locality'].replace({\"Nagondanahalli road\" : \"Nagondanahalli\", \"J. P. Nagar, Bengaluru, Karnataka, India\" : \"JP Nagar\"})"
   ]
  },
  {
   "cell_type": "code",
   "execution_count": 37,
   "id": "a69e437e",
   "metadata": {},
   "outputs": [],
   "source": [
    "train[\"locality\"] = train['locality'].replace({\"Malleshwaram west\" : \"Malleshwaram West\"})"
   ]
  },
  {
   "cell_type": "code",
   "execution_count": 38,
   "id": "43e0c2fd",
   "metadata": {},
   "outputs": [],
   "source": [
    "train[\"locality\"] = train['locality'].replace({\"J P Nagar\" : \"JP Nagar\", \"J P Nagar Phase 5\" : \"JP Nagar\", \"JP Nagar 6th Phase\" : \"JP Nagar\", \"JP Nagar Phase 6\" : \"JP Nagar\", \n",
    "                                               \"J. P. Nagar\" : \"JP Nagar\", \"J P Nagar 5 Phase\" : \"JP Nagar\", \"J.P. Nagar\" : \"JP Nagar\", \"J.P.Nagar\" : \"JP Nagar\", \" JP Nagar\" : \"JP Nagar\", \n",
    "                                               \"2nd Phase, J P Nagar\" : \"JP Nagar\", \"J P Nagar Phase 5, 5th Phase\" : \"JP Nagar\", \n",
    "                                               \"Husaini Blossoms, 2nd Cross Rd, 5th Phase, Nagaraja Garden, J P Nagar Phase 5, JP Nagar, Bengaluru, Karnataka 560078, India,Bengaluru\" : \"JP Nagar\", \n",
    "                                               \"J P Nagar 4th phase\" : \"JP Nagar\", \"5th Phase, J P Nagar Phase 5\" : \"JP Nagar\", \"J P Nagar II Phase\" : \"JP Nagar\", \"4th phase, J P Nagar\" : \"JP Nagar\", \n",
    "                                               \"420/4, 13th Main Road, 5th Phase, J P Nagar Phase 5, JP Nagar, Bengaluru, Karnataka 560078, India,Bengaluru\" : \"JP Nagar\", \n",
    "                                               \"J P Nagar Phase 5,\" : \"JP Nagar\", \"Kotak Mahindra Bank, Outer Ring Road, J P Nagar, South Zone, Bengaluru, Bangalore South, Bengaluru Urban District, Karnataka, 560076, India\" : \"JP Nagar\", \n",
    "                                               \"J.P Nagar 4th Phase\" : \"JP Nagar\", \"J P Nagar 1st Phase\" : \"JP Nagar\", \"J P Nagar 5 Phase, 5th Phase, Bengaluru, Karnataka, India\" : \"JP Nagar\", \"J P Nagar 5th phase\" : \"JP Nagar\", \n",
    "                                               \"J P NAGAR\" : \"JP Nagar\", \"J P Nagar 2nd Phase\" : \"JP Nagar\", \"J P Nagar 5th Phase\" : \"JP Nagar\"})"
   ]
  },
  {
   "cell_type": "code",
   "execution_count": 39,
   "id": "16b087f5",
   "metadata": {},
   "outputs": [],
   "source": [
    "train[\"locality\"] = train['locality'].replace({\"Maruthi Nagar,Attiguppe\" : \"Attiguppe\", \"Attiguppe, Attiguppe Ward, South Zone, Bengaluru, Bangalore North, Bengaluru Urban District, Karnataka, 560072, India\" : \"Attiguppe\", \n",
    "                                               \"Maruthi Nagar, Attiguppe\" : \"Attiguppe\", \"BCC Layout, Attiguppe Ward, South Zone, Bengaluru, Bangalore North, Bengaluru Urban District, Karnataka, 560072, India\" : \"Attiguppe\", \n",
    "                                               })"
   ]
  },
  {
   "cell_type": "code",
   "execution_count": 40,
   "id": "7b7bb13b",
   "metadata": {},
   "outputs": [],
   "source": [
    "train[\"locality\"] = train['locality'].replace({\"Chennappa Layout,Chinnapanna Halli\" : \"Chinnapanna Halli\", \"Chinnapanna Halli, Bengaluru, Karnataka 560037, India\" : \"Chinnapanna Halli\", \n",
    "                                               \"Chinnapanna Hall\" : \"Chinnapanna Halli\", \"Chinnapanahalli Main Rd, Aswath Nagar, Chinnapanna Halli, Bengaluru, Karnataka 560037, India,Bengaluru\" : \"Chinnapanna Halli\", \n",
    "                                               \"AECS Layout,Chinnapanna Halli\" : \"Chinnapanna Halli\", \"Chinnapanna Halli, Bengaluru, Karnataka, India\" : \"Chinnapanna Halli\" \n",
    "                                               \"\"})"
   ]
  },
  {
   "cell_type": "code",
   "execution_count": 41,
   "id": "d943badc",
   "metadata": {},
   "outputs": [],
   "source": [
    "train[\"locality\"] = train['locality'].replace({\"Sulthangunta,Shivaji Nagar\" : \"Shivaji Nagar\", \"Shivajinagar\" : \"Shivaji Nagar\", \"Shivaji Nagar, Bengaluru, Karnataka, India\" : \"Shivaji Nagar\", \n",
    "                                               \"Tasker Town,Shivaji Nagar\" : \"Shivaji Nagar\", \"142-144, Kamaraj Rd, Shivaji Nagar, Bengaluru, Karnataka 560042, India,Bengaluru\" : \"Shivaji Nagar\", \n",
    "                                               \"Shivaji Nagar, Bharati Nagar\" : \"Shivaji Nagar\"})"
   ]
  },
  {
   "cell_type": "code",
   "execution_count": 42,
   "id": "01c1bf5f",
   "metadata": {},
   "outputs": [],
   "source": [
    "train[\"locality\"] = train['locality'].replace({\"Sadaramangala,Krishnarajapura\" : \"Krishnarajapuram\", \"Ayyappa Nagar,Krishnarajapura\" : \"Krishnarajapuram\", \"Basavanna Nagar,Krishnarajapura\" : \"Krishnarajapura\", \n",
    "                                               \"KIADB Export Promotion Industrial Area,Krishnarajapura\" : \"Krishnarajapuram\", \"Kodigehalli,Krishnarajapura\" : \"Krishnarajapuram\", \n",
    "                                               \"Krishnarajapuram\" : \"Krishnarajapuram\", \"Kadugodi Fly Over, Krishnarajapura, Bengaluru, Karnataka, India\" : \"Krishnarajapuram\", \n",
    "                                               \"Ayyappa Nagar, Krishnarajapura\" : \"Krishnarajapuram\", \"Krishnappa Garden,Krishnarajapura\" : \"Krishnarajapuram\", \n",
    "                                               \"234, 3rd Main Rd, Om Shakti Layout, 2nd Block, Ayyappa Nagar, Krishnarajapura, Bengaluru, Karnataka 560036, India,Bengaluru\" : \"Krishnarajapuram\" \n",
    "                                                })"
   ]
  },
  {
   "cell_type": "code",
   "execution_count": 43,
   "id": "8b68f762",
   "metadata": {},
   "outputs": [],
   "source": [
    "train[\"locality\"] = train['locality'].replace({\"Krishnarajapura\" : \"Krishnarajapuram\"})"
   ]
  },
  {
   "cell_type": "code",
   "execution_count": 44,
   "id": "a7e4b4da",
   "metadata": {},
   "outputs": [],
   "source": [
    "train[\"locality\"] = train['locality'].replace({\"Bhoganhalli, Bengaluru, Karnataka, India\" : \"Bhoganhalli\", \"Bhoganahalli, Bhoganhalli, Bengaluru, Karnataka, India\" : \"Bhoganhalli\", \n",
    "                                               \"Sri Sai Icon, Gear Road, Bhoganhalli, Bengaluru, Karnataka, India\" : \"Bhoganhalli\"})"
   ]
  },
  {
   "cell_type": "code",
   "execution_count": 45,
   "id": "3d6d8ecc",
   "metadata": {},
   "outputs": [],
   "source": [
    "train[\"locality\"] = train['locality'].replace({\"Rajarajeshwari Nagar\" : \"Raja Rajeshwari Nagar\", \"rajarajeshwarinagar\" : \"Raja Rajeshwari Nagar\", \n",
    "                                               \"Malagala, Kottigepalya, Rajarajeshwari Nagar Zone, Bengaluru, Bangalore North, Bengaluru Urban District, Karnataka, 560072, Indi\" : \"Raja Rajeshwari Nagar\", \n",
    "                                               \"Malagala, Kottigepalya, Rajarajeshwari Nagar Zone, Bengaluru, Bangalore North, Bengaluru Urban District, Karnataka, 560091, India\" : \"Raja Rajeshwari Nagar\", \n",
    "                                               \"Halagevaderahalli, Rajarajeshwari Nagar, Rajarajeshwari Nagar Zone, Bengaluru, Bangalore South, Bengaluru Urban District, Karnataka, 560098, India\" : \"Raja Rajeshwari Nagar\", \n",
    "                                               \"Rajarajeswari Nagar\" : \"Raja Rajeshwari Nagar\", \n",
    "                                               \"BHEL Layout, Hemmigepura, Rajarajeshwari Nagar Zone, Bengaluru, Bangalore South, Bengaluru Urban District, Karnataka, 560098, India\" : \"Raja Rajeshwari Nagar\", \n",
    "                                               \"Swamy Vivekananda Road, Aditya Layout, Rajarajeshwari Nagar, Rajarajeshwari Nagar Zone, Bengaluru, Bangalore South, Bengaluru Urban District, Karnataka, 560085, India\" : \"Raja Rajeshwari Nagar\", \n",
    "                                               \"Chandrashekhar Road, Gattigere Extension, Rajarajeshwari Nagar, Rajarajeshwari Nagar Zone, Bengaluru, Bangalore South, Bengaluru Urban District, Karnataka, 560098, India\" : \"Raja Rajeshwari Nagar\", \n",
    "                                               \"12th Main Road, Vinayaka Layout, Kottigepalya, Rajarajeshwari Nagar Zone, Bengaluru, Bangalore North, Bengaluru Urban District, Karnataka, 560056, India\" : \"Raja Rajeshwari Nagar\", \n",
    "                                               \"BEML Layout 7th Phase, Hemmigepura, Rajarajeshwari Nagar Zone, Bengaluru, Bangalore South, Bengaluru Urban District, Karnataka, 560059, India\" : \"Raja Rajeshwari Nagar\", \n",
    "                                               \"Nrupatunga Nagar, Jnana Bharathi, Rajarajeshwari Nagar Zone, Bengaluru, Bangalore North, Bengaluru Urban District, Karnataka, 560056, India\" : \"Raja Rajeshwari Nagar\", \n",
    "                                               \"Srigandhakavalu, Jnana Bharathi, Rajarajeshwari Nagar Zone, Bengaluru, Bangalore North, Bengaluru Urban District, Karnataka, 560091, India\" : \"Raja Rajeshwari Nagar\", \n",
    "                                               \"Rajarajeshwari nagar\" : \"Raja Rajeshwari Nagar\", \"Raja Rajeshwarinagar\" : \"Raja Rajeshwari Nagar\"}) "
   ]
  },
  {
   "cell_type": "code",
   "execution_count": 46,
   "id": "bf34bae4",
   "metadata": {},
   "outputs": [],
   "source": [
    "train[\"locality\"] = train['locality'].replace({\"Chamrajpet,\" : \"Chamrajpet\", \"Chamrajpet, Bengaluru, Karnataka, India\" : \"Chamrajpet\", \n",
    "                                               })"
   ]
  },
  {
   "cell_type": "code",
   "execution_count": 47,
   "id": "4940e4b4",
   "metadata": {},
   "outputs": [],
   "source": [
    "train[\"locality\"] = train['locality'].replace({\"Basava Nagar Bus Stand, Namjoshi Road, Basavanagara, Bengaluru, Karnataka, India\" : \"Basavanagara\", \n",
    "                                               \"Vignan Nagar Main road , Basavanagara\" : \"Basavanagara\", \"BTM Dollars Scheme,Basavanagara\" : \"Basavanagara\", \n",
    "                                               })"
   ]
  },
  {
   "cell_type": "code",
   "execution_count": 48,
   "id": "c575e4a9",
   "metadata": {},
   "outputs": [],
   "source": [
    "train[\"locality\"] = train['locality'].replace({\"Eastwood Township,Harlur\" : \"Harlur\", \"Ambalipura,Harlur\" : \"Harlur\", \"Valliyamma Layout,Harlur\" : \"Harlur\", \n",
    "                                               \"Ambalipura, Harlur\" : \"Harlur\", \"Prestige Ferns Residency, Harlur Main Road, Harlur, Bengaluru, Karnataka, India\" : \"Harlur\", \n",
    "                                               \"Haralur\" : \"Harlur\", \"Ambalipura, Harlur, Bengaluru, Karnataka, India\" : \"Harlur\", \"Prestige Ferns Residency, Harlur Main Road, Eastwood Township, Harlur, Bengaluru, Karnataka, India\" : \"Harlur\", \n",
    "                                               \"SJR Eastwood, Eastwood Township, Harlur, Bengaluru, Karnataka, India\" : \"Harlur\", \"Eastwood Township, Harlur, Bengaluru, Karnataka, India\" : \"Harlur\", \n",
    "                                               \"Haralur, Harlur Main Road, Lakedew, Bengaluru, Karnataka, India\" : \"Harlur\", \"Harlur Main Road, PWD Quarters, Eastwood Township, Harlur, Bengaluru, Karnataka, India\" : \"Harlur\", \n",
    "                                               \"SJR Watermark, Watermark Homes By SJR Primecorp, 1st Main Road, Harlur, Bengaluru, Karnataka, India\" : \"Harlur\", \n",
    "                                               \"Sobha Classic, Harlur Main Road, Eastwood Township, Harlur, Bengaluru, Karnataka, India\" : \"Harlur\", \"Haralur Road, PWD Quarters, 1st Sector, Harlur, Bengaluru, Karnataka, India\" : \"Harlur\", \n",
    "                                               \"Harlur Main Road, PWD Quarters, 1st Sector, Harlur, Bengaluru, Karnataka, India\" : \"Harlur\", \"Harlur,\" : \"Harlur\", \n",
    "                                               \"Prestige Ferns Residency , Harlur, Bengaluru, Karnataka 560068, India\" : \"Harlur\"})"
   ]
  },
  {
   "cell_type": "code",
   "execution_count": 49,
   "id": "238dbd09",
   "metadata": {},
   "outputs": [],
   "source": [
    "train[\"locality\"] = train['locality'].replace({\"Jeevanhalli,Cox Town\" : \"Cox Town\", \"Doddigunta,Cox Town\" : \"Cox Town\", \n",
    "                                               \"Cox Town, Bengaluru, Karnataka, India\" : \"Cox Town\", \"Cox town\" : \"Cox Town\", \n",
    "                                               })"
   ]
  },
  {
   "cell_type": "code",
   "execution_count": 50,
   "id": "31a93a0d",
   "metadata": {},
   "outputs": [],
   "source": [
    "train[\"locality\"] = train['locality'].replace({\"RR Bakery, Annasandrapalya Extension, Vinayaka Nagar, Vimanapura, Bengaluru, Karnataka, India\" : \"Vimanapura\", \n",
    "                                               \"Vimanapura, Bengaluru, Karnataka, India\" : \"Vimanapura\", \"Vinayaka Nagar,Vimanapura\" : \"Vimanapura\"})"
   ]
  },
  {
   "cell_type": "code",
   "execution_count": 51,
   "id": "98ce7ce4",
   "metadata": {},
   "outputs": [],
   "source": [
    "train[\"locality\"] = train['locality'].replace({\"Chandra Layout, Bengaluru, Karnataka, India\" : \"Chandra Layout\", \"Chandra Layout, 80 Feet Road\" : \"Chandra Layout\", \n",
    "                                               })"
   ]
  },
  {
   "cell_type": "code",
   "execution_count": 52,
   "id": "4fa69790",
   "metadata": {},
   "outputs": [],
   "source": [
    "train[\"locality\"] = train['locality'].replace({\"vijayanagar\" : \"Vijayanagar\", \"Chandra Layout,Vijayanagar\" : \"Vijayanagar\", \"Vijayanagar, Bengaluru, Karnataka, India\" : \"Vijayanagar\", \n",
    "                                               \"Hosahalli, Chord Road, Vijayanagar, Bengaluru, Karnataka, India\" : \"Vijayanagar\", \"Vijayanagar 2nd stage\" : \"Vijayanagar\" \n",
    "                                               })"
   ]
  },
  {
   "cell_type": "code",
   "execution_count": 53,
   "id": "21de2f63",
   "metadata": {},
   "outputs": [],
   "source": [
    "train[\"locality\"] = train['locality'].replace({\"Munnireddy Layout,Panathur\" : \"Panathur\", \"Panathur, Bengaluru, Karnataka, India\" : \"Panathur\", \"JCR Layout,Panathur\" : \"Panathur\", \n",
    "                                               \"Prakruthi Charitable Trust, Panathur Railway Station Road, Munnireddy Layout, Panathur, Bengaluru, Karnataka, India\" : \"Panathur\", \n",
    "                                               \"JCR Layout, Panathur\" : \"Panathur\"})"
   ]
  },
  {
   "cell_type": "code",
   "execution_count": 54,
   "id": "a5604998",
   "metadata": {},
   "outputs": [],
   "source": [
    "train[\"locality\"] = train['locality'].replace({\"Raja Rajeshwari Nagar, Bengaluru, Karnataka, India\" : \"Raja Rajeshwari Nagar\", \"Raja rajeshwari nagar\" : \"Raja Rajeshwari Nagar\", \n",
    "                                               \"Kenchanahalli main road, Raja Rajeshwari Nagar\" : \"Raja Rajeshwari Nagar\", \"RajaRajeshwari Nagar\" : \"Raja Rajeshwari Nagar\"})"
   ]
  },
  {
   "cell_type": "code",
   "execution_count": 55,
   "id": "1d9517af",
   "metadata": {},
   "outputs": [],
   "source": [
    "train[\"locality\"] = train['locality'].replace({\"New Tippasandra, Bengaluru, Karnataka, India\" : \"New Tippasandra\", \"Jagadish Nagar,New Tippasandra\" : \"New Tippasandra\", \n",
    "                                               \"New Thippasandra Main Road, HAL 3rd Stage, Bhoomi Reddy Colony, New Tippasandra, Bengaluru, Karnataka, India\" : \"New Tippasandra\", \n",
    "                                               \"New Tippasandra,\" : \"New Tippasandra\", \"New Thippasandra Main Road, HAL 3rd Stage, Bhoomi Reddy Colony, New Tippasandra\" : \"New Tippasandra\", \n",
    "                                               \"Shivananda Nagar, Jagadish Nagar, New Tippasandra, Bengaluru, Karnataka, India\" : \"New Tippasandra\", \n",
    "                                               \"HAL 3rd Stage, New Tippasandra, Bengaluru, Karnataka, India\" : \"New Tippasandra\", \n",
    "                                               \"Pristine Park, HAL 3rd Stage, Bhoomi Reddy Colony, New Tippasandra, Bengaluru, Karnataka 560075, India\" : \"New Tippasandra\" \n",
    "                                               })"
   ]
  },
  {
   "cell_type": "code",
   "execution_count": 56,
   "id": "e0c4bae2",
   "metadata": {},
   "outputs": [],
   "source": [
    "train[\"locality\"] = train['locality'].replace({\"Chikku Lakshmaiah Layout,Adugodi\" : \"Adugodi\", \"Adugodi, Bengaluru, Karnataka, India\" : \"Adugodi\", \n",
    "                                               \"Lakkasandra Extension,Adugodi\" : \"Adugodi\", \"Hosur Main, Adugodi, Bengaluru, Karnataka, India\" : \"Adugodi\", \n",
    "                                               \"Pukhraj Layout, Adugodi, Bengaluru, Karnataka, India\" : \"Adugodi\", \"33, Hosur Road, Nanjappa Layout, Adugodi, Bengaluru, Karnataka, India\" : \"Adugodi\" \n",
    "                                               })"
   ]
  },
  {
   "cell_type": "code",
   "execution_count": 57,
   "id": "f29582ed",
   "metadata": {},
   "outputs": [],
   "source": [
    "train[\"locality\"] = train['locality'].replace({\"Ranka Colony,Bilekahalli\" : \"Bilekahalli\", \"Ramanashree Enclave,Bilekahalli\" : \"Bilekahalli\", \"Munivenkatppa Layout,Bilekahalli\" : \"Bilekahalli\", \n",
    "                                               \"Bilekahalli, Sundar Ram Shetty Nagar, Bilekahalli, Bengaluru, Karnataka, India\" : \"Bilekahalli\", \n",
    "                                               \"23 jp niwas, 1st Main Road, 4th A Main Rd, Thayappa Garden, Ranka Colony, Bilekahalli, Bengaluru, Karnataka 560076, India,Bengaluru\" : \"Bilekahalli\", \n",
    "                                               \"Bilekahalli, Bannerghatta Main Road, Bengaluru, Karnataka, India\" : \"Bilekahalli\"})"
   ]
  },
  {
   "cell_type": "code",
   "execution_count": 58,
   "id": "b5ae6012",
   "metadata": {},
   "outputs": [],
   "source": [
    "train[\"locality\"] = train['locality'].replace({\"Kodihalli on Old Airport Road\" : \"Kodihalli\", \"Kodihalli, Jeevanbhima Nagar, East Zone, Bengaluru, Bangalore East, Bengaluru Urban District, Karnataka, 560071, India\" : \"Kodihalli\", \n",
    "                                               \"Royal Shades, 6th Cross Road, Kodihalli, Jeevanbhima Nagar, East Zone, Bengaluru, Bangalore East, Bengaluru Urban District, Karnataka, 560071, India\" : \"Kodihalli\", \n",
    "                                               \"Kodihalli, HAL 3rd Stage\" : \"Kodihalli\", \"Murugeshpalya Airforce Camp, H A L Old Airport Rd, Kodihalli, Bengaluru, Karnataka, India\" : \"Kodihalli\", \"kodihalli\" : \"Kodihalli\", \n",
    "                                               \"ISRO Colony,Kodihalli\" : \"Kodihalli\", \"768, 5th Cross Road, HAL 3rd Stage, Kodihalli\" : \"Kodihalli\", \n",
    "                                               \"159-162, Yellamma Temple Rd, HAL 2nd Stage, Kodihalli, Bengaluru, Karnataka 560008, India,Bengaluru\" : \"Kodihalli\", \n",
    "                                               \"Kodihalli, Be\" : \"Kodihalli\"})"
   ]
  },
  {
   "cell_type": "code",
   "execution_count": 59,
   "id": "556f254a",
   "metadata": {},
   "outputs": [],
   "source": [
    "train[\"locality\"] = train['locality'].replace({\"Suddagunte Palya, Bengaluru, Karnataka, India\" : \"Suddagunte Palya\", \"Suddagunte Palya,\" : \"Suddagunte Palya\", \n",
    "                                               \"Tavarekere, Suddagunte Palya, Bengaluru, Karnataka, India\" : \"Suddagunte Palya\", \"Bismillahnagar, Suddagunte Palya\" : \"Suddagunte Palya\", \n",
    "                                               \"Suddugunte Palya\" : \"Suddagunte Palya\", \"Brindavan Nagar,Suddagunte Palya\" : \"Suddagunte Palya\"})"
   ]
  },
  {
   "cell_type": "code",
   "execution_count": 60,
   "id": "07ae06da",
   "metadata": {},
   "outputs": [],
   "source": [
    "train[\"locality\"] = train['locality'].replace({\"Kadubeesanahalli,Panathur\" : \"Kadubeesanahalli\", \"Kadubeesanahalli, Bengaluru, Karnataka, India\" : \"Kadubeesanahalli\", \n",
    "                                               \"Kadubeesanahalli,Kodbisanhalli\" : \"Kadubeesanahalli\", \"Chandana, Kadubeesanahalli, Bengaluru, Karnataka, India\" : \"Kadubeesanahalli\", \"Kadubeesanahalli, Panathur\" : \"Kadubeesanahalli\", \n",
    "                                               \"kadubeesanahalli\" : \"Kadubeesanahalli\", \"Kodbisanhalli, Kadubeesanahalli, Bengaluru, Karnataka, India\" : \"Kadubeesanahalli\", \"Munireddy Layout, Mariyappa Layout, Kadubeesanahalli, Panathur\" : \"Kadubeesanahalli\", \n",
    "                                               \"Panathur, Kadubeesanahalli\" : \"Kadubeesanahalli\"}) "
   ]
  },
  {
   "cell_type": "code",
   "execution_count": 61,
   "id": "e72e0f3a",
   "metadata": {},
   "outputs": [],
   "source": [
    "train[\"locality\"] = train['locality'].replace({\"Doddanekundi, Bengaluru, Karnataka, India\" : \"Doddanekundi\", \"Karthik Nagar Park, Doddanekundi, Bengaluru, Karnataka, India\" : \"Doddanekundi\", \n",
    "                                               \"Doddanekundi, Bengaluru, Karnataka 560037, India\" : \"Doddanekundi\", \"Doddanekundi Extension\" : \"Doddanekundi\", \"West Avenue Road, Doddanekundi, Bengaluru, Karnataka, India\" : \"Doddanekundi\" \n",
    "                                               })"
   ]
  },
  {
   "cell_type": "code",
   "execution_count": 62,
   "id": "08614004",
   "metadata": {},
   "outputs": [],
   "source": [
    "train[\"locality\"] = train['locality'].replace({\"Dattatreya Nagar,Hosakerehalli\" : \"Hosakerehalli\", \"Hosakerehalli, Bengaluru, Karnataka, India\" : \"Hosakerehalli\", \n",
    "                                               \"AGS Layout, Hosakerehalli, Bengaluru, Karnataka, India\" : \"Hosakerehalli\"})"
   ]
  },
  {
   "cell_type": "code",
   "execution_count": 63,
   "id": "cf1e9d5a",
   "metadata": {},
   "outputs": [],
   "source": [
    "train[\"locality\"] = train['locality'].replace({\"Shamana Garden,Wilson Garden\" : \"Wilson Garden\", \"Laljinagar, Wilson Garden\" : \"Wilson Garden\", \"wilson garden\" : \"Wilson Garden\", \"Wilson Garden,\" : \"Wilson Garden\"})"
   ]
  },
  {
   "cell_type": "code",
   "execution_count": 64,
   "id": "f8372018",
   "metadata": {},
   "outputs": [],
   "source": [
    "train[\"locality\"] = train['locality'].replace({\"Domlur Layout\" : \"Domlur\", \"Domlur I Stage\" : \"Domlur\",  \"Domlur Village\" : \"Domlur\", \n",
    "                                               \"Domlur 1st Stage\" : \"Domlur\", \n",
    "                                               \"1st Cross Road, Domlur, Domlur Ward, East Zone, Bengaluru, Bangalore North, Bengaluru Urban District, Karnataka, 560071, India\" : \"Domlur\", \n",
    "                                               \"Domlur Stage 2\" : \"Domlur\"})"
   ]
  },
  {
   "cell_type": "code",
   "execution_count": 65,
   "id": "a54cadfc",
   "metadata": {},
   "outputs": [],
   "source": [
    "train[\"locality\"] = train['locality'].replace({\"Valliyamma Layout,Kaikondrahalli\" : \"Kaikondrahalli\", \"Kaikondrahalli, Bengaluru,\" : \"Kaikondrahalli\", \"Purva Sunshine Apartments Road, Kaikondrahalli, Bengaluru, Karnataka, India\" : \"Kaikondrahalli\", \n",
    "                                               \"Kaikondrahalli, Bengaluru, Karnataka, India\" : \"Chikkalasandra\", \"Kaikondrahalli,\" : \"Kaikondrahalli\"})"
   ]
  },
  {
   "cell_type": "code",
   "execution_count": 66,
   "id": "11fcd984",
   "metadata": {},
   "outputs": [],
   "source": [
    "train[\"locality\"] = train['locality'].replace({\"Ramanjaneyanagar,Chikkalasandra\" : \"Chikkalasandra\", \"Chikkalasandra,\" : \"Chikkalasandra\", \"Arehalli,Chikkalasandra\" : \"Chikkalasandra\", \n",
    "                                               \"Chikkalasandra, Vasanthpura Ward, Bommanahalli Zone, Bengaluru, Bangalore South, Bengaluru Urban District, Karnataka, 570061, India\\n​ \" : \"Chikkalasandra\",\n",
    "                                              \"Chikkalasandra, Bengaluru, Karnataka, India\" : \"Chikkalasandra\"})"
   ]
  },
  {
   "cell_type": "code",
   "execution_count": 67,
   "id": "dfa24e04",
   "metadata": {},
   "outputs": [],
   "source": [
    "train[\"locality\"] = train['locality'].replace({\"Adarsh Palm Retreat,Doddakannelli\" : \"Doddakannelli\", \"Someshwara Layout,Doddakannelli\" : \"Doddakannelli\", \"Hadosiddapura,Doddakannelli\" : \"Doddakannelli\", \"Doddakannelli, Bengaluru, Karnataka, India\" : \"Doddakannelli\", \"Doddakannelli, 463, Carmelaram Road, Janatha Colony, Bengaluru, Karnataka 560035, India\" : \"Doddakannelli\", \n",
    "                                               \"Doddakannelli-Chikkanayakana Halli Road, Doddakannelli, Bengaluru, Karnataka, India\" : \"Doddakannelli\"})"
   ]
  },
  {
   "cell_type": "code",
   "execution_count": 68,
   "id": "3a6ea451",
   "metadata": {},
   "outputs": [],
   "source": [
    "train[\"locality\"] = train['locality'].replace({\"Maithri Layout,Kadugodi\" : \"Kadugodi\", \"Kadugodi, Bengaluru, Karnataka, India\" : \"Kadugodi\", \n",
    "                                               \"kadugodi\" : \"Kadugodi\", \"Maithri Layout, Kadugodi\" : \"Kadugodi\", \n",
    "                                               \"Ecumenical Christian Center Road, Prithvi Layout, Kadugodi, Mahadevapura Zone, Bengaluru, Bangalore East, Bengaluru Urban District, Karnataka, 560066, India\" : \"Kadugodi\", \n",
    "                                               \"Hope Farm, Channasandra Main Road, Maithri Layout, Kadugodi, Bengaluru, Karnataka, India\" : \"Kadugodi\", \"Hope Farm, Maithri Layout, Kadugodi, Bengaluru, Karnataka, India\" : \"Kadugodi\", \n",
    "                                               \"ITPL, ITPB Main Road, Pattandur Agrahara, Kadugodi, Bengaluru, Karnataka, India\" : \"Kadugodi\", \"Post Office Road, Kadugodi, Bengaluru, Karnataka, India\" : \"Kadugodi\", \n",
    "                                               \"FOOD CORPORATION OF INDIA STAFF QUARTERS, F C I Main Road, Kadugodi, Bengaluru, Karnataka, India\" : \"Kadugodi\", \"Hope Farm, Channasandra Main Road, Maithri Layout, Kadugodi,\" : \"Kadugodi\", \n",
    "                                               \"Brindavan Ashram, SH35, Kadugodi, Mahadevapura Zone, Bengaluru, Bangalore East, Bengaluru Urban District, Karnataka, 560067, India\" : \"Kadugodi\"})"
   ]
  },
  {
   "cell_type": "code",
   "execution_count": 69,
   "id": "fa92cedf",
   "metadata": {},
   "outputs": [],
   "source": [
    "train[\"locality\"] = train['locality'].replace({\"Murphy Town,Ulsoor\" : \"Ulsoor\", \"Ulsoor, Bengaluru, Karnataka, India\" : \"Ulsoor\", \"ulsoor metro station\" : \"Ulsoor\", \n",
    "                                               \"Ulsoor,\" : \"Ulsoor\", \"Halasuru Police Station, Cambridge Layout, Ulsoor, Bengaluru, Karnataka, India\" : \"Ulsoor\", \"Ulsoor, Camebridge Layout\" : \"Ulsoor\" \n",
    "                                               })"
   ]
  },
  {
   "cell_type": "code",
   "execution_count": 70,
   "id": "e79b103e",
   "metadata": {},
   "outputs": [],
   "source": [
    "train[\"locality\"] = train['locality'].replace({\"Dodda Nekkundi Extension,Doddanekkundi\" : \"Doddanekkundi\", \"Doddanekkundi,Doddanekkundi\" : \"Doddanekkundi\", \"Phase 1,Doddanekkundi\" : 'Doddanekkundi', \"Doddanekundi,Doddanekkundi\" : \"Doddanekkundi\", \"76, Service Road, Nisarga Layout, Doddanekundi, Doddanekkundi\" : \"Doddanekkundi\", \n",
    "                                               \"37, 10th Cross Rd, Dodda Nekkundi Extension, Doddanekkundi, Bengaluru, Karnataka 560037, India,Bengaluru\" : \"Doddanekkundi\", \"Doddanekkundi Extension\" : \"Doddanekkundi\", \"Balaji Enclive, Doddanekkundi, Bengaluru, Karnataka, India\" : \"Doddanekkundi\", \n",
    "                                               \"6, 6th Main Rd, Dodda Nekkundi Extension, Doddanekkundi, Bengaluru, Karnataka 560037, India,Bengaluru\" : \"Doddanekkundi\", \"Doddanekkundi,\" : \"Doddanekkundi\", \"Doddanekundi, Doddanekkundi\" : \"Doddanekkundi\", \"Vignan Nagar, Doddanekundi, Doddanekkundi, Bengaluru, Karnataka, India\" : \"Doddanekkundi\", \n",
    "                                               \"Graphite India Limited, Doddanakundi Industrial Area 2, Phase 1, Doddanekkundi, Bengaluru, Karnataka, India\" : \"Doddanekkundi\", \"Doddanekkundi, Doddanekkundi\" : \"Doddanekkundi\", \"29, 21st A Cross Rd, Pragathi Layout, Doddanekundi, Doddanekkundi, Bengaluru, Karnataka 560037, India,Bengaluru\" : \"Doddanekkundi\",\n",
    "                                               \"Doddanekkundi, Ferns City, Doddanekkundi, Bengaluru, Karnataka, India\" : \"Doddanekkundi\" })"
   ]
  },
  {
   "cell_type": "code",
   "execution_count": 71,
   "id": "3282db9f",
   "metadata": {},
   "outputs": [],
   "source": [
    "train[\"locality\"] = train['locality'].replace({\"K R Garden,Murgesh Pallya\" : \"Murgesh Pallya\", \"Vinayaka Nagar,Murgesh Pallya\" : \"Murgesh Pallya\", \"Murgesh Pallya, Bengaluru, Karnataka, India\" : \"Murgesh Pallya\", \n",
    "                                               \"Konena Agrahara, Murgesh Pallya, Bengaluru, Karnataka, India\" : \"Murgesh Pallya\", \"Kaveri Nagar,Murgesh Pallya\" : \"Murgesh Pallya\", \"Murgesh Pallya,\" : \"Murgesh Pallya\", \n",
    "                                               \"KR Garden, Murgesh Pallya, Bengaluru, Karnataka, India\" : \"Murgesh Pallya\", \"Manjunatha Lay Out,Murgesh Pallya\" : \"Murgesh Pallya\"})"
   ]
  },
  {
   "cell_type": "code",
   "execution_count": 72,
   "id": "259c38ec",
   "metadata": {},
   "outputs": [],
   "source": [
    "train[\"locality\"] = train['locality'].replace({\"Kadarenahalli,Padmanabhanagar\" : \"Padmanabhanagar\", \"Sarvabhouma Nagar,Padmanabhanagar\" : \"Padmanabhanagar\", \n",
    "                                               \"77/16, 1st Main Rd, RK Layout 2nd Stage, Padmanabhanagar, Bengaluru, Karnataka 560070, India,Bengaluru\" : \"Padmanabhanagar\", \n",
    "                                               \"Gayathry Residency, 1st Cross Rd, Munireddy Layout, Padmanabhanagar, Bengaluru, Karnataka 560061, India,Bengaluru\" : \"Padmanabhanagar\", \n",
    "                                               \"RR Layout,Padmanabhanagar\" : \"Padmanabhanagar\"})"
   ]
  },
  {
   "cell_type": "code",
   "execution_count": 73,
   "id": "a0ca2bdf",
   "metadata": {},
   "outputs": [],
   "source": [
    "train[\"locality\"] = train['locality'].replace({\"Nagavarapalya,C V Raman Nagar\" : \"C V Raman Nagar\", \"C V Raman Nagar, Bengaluru, Karnataka, India\" : \"C V Raman Nagar\", \"Rajana Colony,C V Raman Nagar\" : \"C V Raman Nagar\", \n",
    "                                               \"Bhuvaneswari Nagar,C V Raman Nagar\" : \"C V Raman Nagar\", \"Viswa Vihar,C V Raman Nagar\" : \"C V Raman Nagar\", \"Suddaguntapalya,C V Raman Nagar\" : \"C V Raman Nagar\", \n",
    "                                               \"GM Palya,C V Raman Nagar\" : \"C V Raman Nagar\", \"82, Bayarappa Layout, Suddaguntapalya, C V Raman Nagar, Bengaluru, Karnataka 560093, India,Bengaluru\" : \"C V Raman Nagar\", \n",
    "                                               \"Malleshpalya,C V Raman Nagar\" : \"C V Raman Nagar\", \"Acti Sports Arena, 29th C Cross, Maruthi Nagar, C V Raman Nagar Ward, East Zone, Bengaluru, Bangalore East, Bengaluru Urban District, Karnataka, 560093, India\" : \"C V Raman Nagar\", \n",
    "                                               \"Byrasandra,C V Raman Nagar\" : \"C V Raman Nagar\", \"Mallesh Palya, BEML Main Road, C V Raman Nagar, Bengaluru, Karnataka, India\" : \"C V Raman Nagar\", \n",
    "                                               \"Old Madras Road, C V Raman Nagar, Bengaluru, Karnataka, India\" : \"C V Raman Nagar\", \"6th Block,C V Raman Nagar\" : \"C V Raman Nagar\", \"Balaji Layout,C V Raman Nagar\" :\"C V Raman Nagar\", \n",
    "                                               \"339, Nagavarapalya Main Rd, Rajana Colony, C V Raman Nagar, Bengaluru, Karnataka 560093, India,Bengaluru\" : \"C V Raman Nagar\", \"Varsova Layout,C V Raman Nagar\" : \"C V Raman Nagar\", \n",
    "                                               \"GM Palya, C V Raman Nagar\" : \"C V Raman Nagar\", \n",
    "                                               \"Medihope Super Specialty Hospital, 1st Main Road, Maruthi Nagar, C V Raman Nagar Ward, East Zone, Bengaluru, Bangalore East, Bengaluru Urban District, Karnataka, 560075, India\" : \"C V Raman Nagar\" \n",
    "                                               })"
   ]
  },
  {
   "cell_type": "code",
   "execution_count": 74,
   "id": "8f018f43",
   "metadata": {},
   "outputs": [],
   "source": [
    "train[\"locality\"] = train['locality'].replace({\"Seetharampalya,Hoodi\" : \"Hoodi\", \"Thigalarapalya,Hoodi\" : \"Hoodi\", \"Hoodi Circle, Hudi, Hoodi, Bengaluru, Karnataka\" : \"Hoodi\", \n",
    "                                               \"Hoodi, Bengaluru, Karnataka, India\" : \"Hoodi\", \"Hoodi Railway Station, Sadaramangala Road, Kodigehalli, Krishnarajapura, Bengaluru, Karnataka, India\" : \"Hoodi\", \n",
    "                                               \"Hoodi ,\" : \"Hoodi\", \"Graphite India Main Road, Graphite India Main Rd, Hoodi, Bengaluru, Karnataka 560048, India\" : \"Hoodi\", \n",
    "                                               \"Prime Blue Forest Apartment, Krishnappa Garden, Hoodi, Bengaluru, Karnataka, India\" : \"Hoodi\", \"Hoodi Railway Station\" : \"Hoodi\", \n",
    "                                               \"Thigalarapalya, Hoodi\" : \"Hoodi\", \"Seetharampalya, Hoodi, Bengaluru, Karnataka 560048, India\" : \"Hoodi\", \"Hoodi Circle\" : \"Hoodi\", \n",
    "                                               \"Golden Star Apartment, Hoodi Main Road, Hoodi, Bengaluru, Karnataka, India\" : \"Hoodi\", \n",
    "                                               \"230, Graphite India Main Rd, NCPR Industrial Layout, Seetharampalya, Hoodi, Bengaluru, Karnataka 560048, India,Bengaluru\" : \"Hoodi\", \n",
    "                                               \"Hoodi Bus Stop, ITPL Main Rd, Thigalarapalya, Hoodi, Bengaluru, Karnataka 560067, India\" : \"Hoodi\", \"Hoodi Circle, Krishnarajapura, Bengaluru, Karnataka, India\" : \"Hoodi\", \n",
    "                                               \"Hoodi Railway Station, 1, Sadaramangala Road, Kodigehalli, Krishnarajapura, Bengaluru, Karnataka 560036, India\" : \"Hoodi\", \n",
    "                                               \"Industrial Area,Hoodi\" : \"Hoodi\", \"Seetharampalya, hoodi\" : \"Hoodi\", \"Hoodi , Saketha Nagar, Hoodi, Bengaluru, Karnataka, India\" : \"Hoodi\", \n",
    "                                               \"Seetharampalya - Hoodi Road, Seetharampalya, Bengaluru, Karnataka, India\" : \"Hoodi\", \"Basavana nagar, hoodi\" : \"Hoodi\", \"Sangeeta Topaz, Hoodi, Bengaluru, Karnataka, India\" : \"Hoodi\", \n",
    "                                               \"Sangeeta Topaz, Hoodi, Bengaluru, Karnataka, India\" : \"Hoodi\"})"
   ]
  },
  {
   "cell_type": "code",
   "execution_count": 75,
   "id": "0c40d2f9",
   "metadata": {},
   "outputs": [],
   "source": [
    "train[\"locality\"] = train['locality'].replace({\"Simhadri layout,Uttarahalli Hobli\" : \"Uttarahalli Hobli\", \"Uttarahalli Hobli, Bengaluru, Karnataka, India\" : \"Uttarahalli Hobli\", \n",
    "                                               \"Ankappa Layout,Uttarahalli Hobli\" : \"Uttarahalli Hobli\", \"Arehalli, Uttarahalli Hobli\" : \"Uttarahalli Hobli\", \"Uttarahalli Hobli,\" : \"Uttarahalli Hobli\", \n",
    "                                               \"Canara Bank Colony,Uttarahalli Hobli\" : \"Uttarahalli Hobli\", \"2nd Stage,Uttarahalli Hobli\" : \"Uttarahalli Hobli\", \"Ankappa Layout, Uttarahalli Hobli\" : \"Uttarahalli Hobli\" \n",
    "                                               })"
   ]
  },
  {
   "cell_type": "code",
   "execution_count": 76,
   "id": "94bfaaba",
   "metadata": {},
   "outputs": [],
   "source": [
    "train[\"locality\"] = train['locality'].replace({\"Basaveshwar Nagar,\" : \"Basaveshwar Nagar\", \"Basaveshwar Nagar, BEML Layout\" : \"Basaveshwar Nagar\", \"KHB Colony, Basaveshwar Nagar\" : \"Basaveshwar Nagar\", \n",
    "                                               \"85, 3rd Main Rd, 1st Phase, Manjunath Nagar, Basaveshwar Nagar, Bengaluru, Karnataka 560079, India,Bengaluru\" : \"Basaveshwar Nagar\", \"Basaveshwar nagar\" : \"Basaveshwar Nagar\", \n",
    "                                               \"BEML Layout, Basaveshwar Nagar, Bengaluru, Karnataka 560079, India\" : \"Basaveshwar Nagar\", \"West of Chord Road,Basaveshwar Nagar\" : \"Basaveshwar Nagar\", \n",
    "                                               \"Basaveshwar Nagar 3rd Stage\" : \"Basaveshwar Nagar\", \"Basaveshwara Nagar Circle, West Of Chord Road, 3rd Stage, Basaveshwar Nagar, Bengaluru, Karnataka 560079, India\" : \"Basaveshwar Nagar\", \n",
    "                                               \"Manjunath Nagar, Basaveshwar Nagar\" : \"Basaveshwar Nagar\", \"Basaveshwar Nagar, Bengaluru, Karnataka, India\" : \"Basaveshwar Nagar\" \n",
    "                                               })"
   ]
  },
  {
   "cell_type": "code",
   "execution_count": null,
   "id": "1cb6ebd8",
   "metadata": {},
   "outputs": [],
   "source": []
  },
  {
   "cell_type": "code",
   "execution_count": 77,
   "id": "8cabbf08",
   "metadata": {},
   "outputs": [],
   "source": [
    "train[\"locality\"] = train[\"locality\"].replace({\"Roopena Agrahara,Bommanahalli\" : \"Bommanahalli\", \"NGR Layout,Bommanahalli\" : \"Bommanahalli\", \n",
    "                                               \"Roopena Agrahara, Bommanahalli\" : \"Bommanahalli\", \"Bommanahalli, Roopena Agrahara, Bengaluru, Karnataka, India\" : \"Bommanahalli\", \n",
    "                                               \"Salarpuria Greenage, Hosur Rd, Bommanahalli, Bengaluru, Karnataka 560068, India\" : \"Bommanahalli\", \"NGR Layout, Roopena Agrahara, Bommanahalli\" : \"Bommanahalli\",\n",
    "                                               \"AGS Layout, Uttarahalli, Bommanahalli Zone, Bengaluru, Bangalore South, Bengaluru Urban District, Karnataka, 560061, India\" : \"Bommanahalli\", \n",
    "                                               \"Viratnagar Main Road, Bommanahalli, Bommanahalli Ward, Bommanahalli Zone, Bengaluru, Bangalore South, Bengaluru Urban District, Karnataka, 583105, India\" : \"Bommanahalli\", \n",
    "                                               \"Virat Nagar, Bommanahalli, Bengaluru, Karnataka 560068, India\" : \"Bommanahalli\", \"Virat Nagar,Bommanahalli\" : \"Bommanahalli\", \n",
    "                                               \"17th Cross Road, Ramappa Layout, Puttenahalli Ward, Bommanahalli Zone, Bengaluru, Bangalore South, Bengaluru Urban District, Karnataka, 560078, India\" : \"Bommanahalli\", \n",
    "                                               \"Rajotsava Nagar, Yelchenahalli Ward, Bommanahalli Zone, Bengaluru, Bangalore South, Bengaluru Urban District, Karnataka, 560078, India\" : \"Bommanahalli\", \n",
    "                                               \"Jagruthi Colony, Puttenahalli Ward, Bommanahalli Zone, Bengaluru, Bangalore South, Bengaluru Urban District, Karnataka, 560078, India\" : \"Bommanahalli\", \n",
    "                                               \"ITI Layout, Mangammanapalya, Bommanahalli Zone, Bengaluru, Bangalore South, Bengaluru Urban District, Karnataka, 560068, India\" : \"Bommanahalli\", \n",
    "                                               \"K R Layout, Jaraganahalli Ward, Bommanahalli Zone, Bengaluru, Bangalore South, Bengaluru Urban District, Karnataka, 560078, India\" : \"Bommanahalli\", \n",
    "                                               \"Robert Bosch Engineering and Business Solutions India Pvt Ltd.,, No. 690, Hosur Road, Hongasandra, Hongasandra Ward, Bommanahalli Zone, Bengaluru, Bangalore South, Bengaluru Urban District, Karnataka, 560068, Indi\" : \"Bommanahalli\", \n",
    "                                               \"Kodichikkanahalli, Bilekahalli, Bommanahalli Zone, Bengaluru, Bangalore South, Bengaluru Urban District, Karnataka, 560076, India\" : \"Bommanahalli\", \n",
    "                                               \"5th Cross Road, Bilekahalli, Bommanahalli Zone, Bengaluru, Bangalore South, Bengaluru Urban District, Karnataka, 560076, India\" : \"Bommanahalli\", \n",
    "                                               \"AGS Layout, Uttarahalli, Bommanahalli Zone, Bengaluru, Bangalore South, Bengaluru Urban District, Karnataka, 570061, Indi\" : \"Bommanahalli\", \n",
    "                                               \"Chikkalasandra, Vasanthpura Ward, Bommanahalli Zone, Bengaluru, Bangalore South, Bengaluru Urban District, Karnataka, 570061, India\\n\" : \"Bommanahalli\", \n",
    "                                               \"Robert Bosch Engineering and Business Solutions India Pvt Ltd.,, No. 690, Hosur Road, Hongasandra, Hongasandra Ward, Bommanahalli Zone, Bengaluru, Bangalore South, Bengaluru Urban District, Karnataka, 560068, India\\n\" : \"Bommanahalli\", \n",
    "                                               \"Bommanahalli, Bommanahalli Ward, Bommanahalli Zone, Bengaluru, Bangalore South, Bengaluru Urban District, Karnataka, 583105, India\" : \"Bommanahalli\", \n",
    "                                               \"Ashraya Vrudhasharama, Dr. Vishnuvardhan Road, AGS Layout, Uttarahalli, Bommanahalli Zone, Bengaluru, Bangalore South, Bengaluru Urban District, Karnataka, 560111, India\" : \"Bommanahalli\", \n",
    "                                               \"GNS Residency, Bhagat Singh Main Road, Bommanahalli, Bengaluru, Karnataka, India\" : \"Bommanahalli\", \n",
    "                                               \"59/3, 1st Cross Rd, Shamanna Reddy Layout, Virat Nagar, Bommanahalli, Bengaluru, Karnataka 560068, India,Bengaluru\" : \"Bommanahalli\", \n",
    "                                             })"
   ]
  },
  {
   "cell_type": "code",
   "execution_count": 78,
   "id": "3c431e97",
   "metadata": {},
   "outputs": [],
   "source": [
    "train[\"locality\"] = train[\"locality\"].replace({\"Kasavanahalli Off Sarjapur Road\" : \"Kasavanahalli\", \"Kasavanahalli, Bengaluru, Karnataka, India\" : \"Kasavanahalli\", \n",
    "                                               \"Eastwood Township,Kasavanahalli\" : \"Kasavanahalli\", \"Kasavanahalli Village\" : \"Kasavanahalli\", \n",
    "                                               \"KPC Layout, Kasavanahalli, Junnasandra, Karnataka, India\" : \"Kasavanahalli\", \"kasavanahalli\" : \"Kasavanahalli\", \n",
    "                                               \"12th Cross Road, Kasavanahalli, Bengaluru, Karnataka 560035, India,Bengaluru\" : \"Kasavanahalli\", \n",
    "                                               \"147, Lakeshore Homes Road, Eastwood Twp, Kasavanahalli, Bengaluru, Karnataka 560035, India,Bengaluru\" : \"Kasavanahalli\", \n",
    "                                               \"Kasavanahalli,\" : \"Kasavanahalli\", \"govt school rd, opp brs global school, Kasavanahalli, Bengaluru, Karnataka 560035, India,Bengaluru\" : \"Kasavanahalli\", \n",
    "                                               })"
   ]
  },
  {
   "cell_type": "code",
   "execution_count": 79,
   "id": "600fba3d",
   "metadata": {},
   "outputs": [],
   "source": [
    "train[\"locality\"] = train[\"locality\"].replace({\"Kumaraswamy Layout II Stage\" : \"Kumaraswamy Layout\", \"1st Stage,Kumaraswamy Layout\" : \"Kumaraswamy Layout\", \n",
    "                                               \"Yelachenahallli,Kumaraswamy Layout\" : \"Kumaraswamy Layout\", \"Kumaraswamy Layout 1st Stage\" : \"Kumaraswamy Layout\", \n",
    "                                               \"Chandra Nagar, Kumaraswamy Layout\" : \"Kumaraswamy Layout\", \"Kumaraswamy Layout 2nd Stage, 1st Stage, Bengaluru, Karnataka, India\" : \"Kumaraswamy Layout\", \n",
    "                                               \"Kumaraswamy Layout,\" : \"Kumaraswamy Layout\", \"Vikram Nagar,Kumaraswamy Layout\" : \"Kumaraswamy Layout\", \n",
    "                                               \"Kumaraswamy Layout, Bengaluru, Karnataka, India\" : \"Kumaraswamy Layout\", \"Stage 2,Kumaraswamy Layout\" : \"Kumaraswamy Layout\", \n",
    "                                               \"ISRO Layout, Kumaraswamy Layout, South Zone, Bengaluru, Bangalore South, Bengaluru Urban District, Karnataka, 560111, India\" : \"Kumaraswamy Layout\", \n",
    "                                               \"Subramanyapura Main Road, Kumaraswamy Layout, South Zone, Bengaluru, Bangalore South, Bengaluru Urban District, Karnataka, 560061, India \" : \"Kumaraswamy Layout\", \n",
    "                                               \"Kumaraswamy Layout II Stage, Stage 2, Kumaraswamy Layout, Bengaluru, Karnataka, India\" : \"Kumaraswamy Layout\", \n",
    "                                               \"Syndicate Bank, Puttalingaiah Road, Kumaraswamy Layout, Padmanabha Nagar, South Zone, Bengaluru, Bangalore South, Bengaluru Urban District, Karnataka, 560070, India\" : \"Kumaraswamy Layout\"})"
   ]
  },
  {
   "cell_type": "code",
   "execution_count": 80,
   "id": "84a67c17",
   "metadata": {},
   "outputs": [],
   "source": [
    "train[\"locality\"] = train[\"locality\"].replace({\"Ashwini Layout, Ejipura\" : \"Ejipura\", \"Ejipura,\" : \"Ejipura\", \n",
    "                                               \"Ejipura, Bengaluru, Karnataka, India\" : \"Ejipura\", \"37, 2nd Cross Road, Gowda Muniswamy Garden, Ejipura\" : \"Ejipura\", \n",
    "                                               \"Mother Mary Grand Feast, Residence Association Road, Gowda Muniswamy Garden, Ejipura\" : \"Ejipura\", \n",
    "                                               \"Ashwini Layout,Ejipura\" : \"Ejipura\", \"RK Mention, Ejipura, Bengaluru, Karnataka, India\" : \"Ejipura\", \n",
    "                                               \"Srinivagilu Ejipura\" : \"Ejipura\", \"Ejipura Cyber Cafe, Sri Ram Temple Road, Ashwini Layout, Ejipura, Bengaluru, Karnataka, India\" : \"Ejipura\", \n",
    "                                               \"Vivek Nagar, Ejipura\" : \"Ejipura\"})"
   ]
  },
  {
   "cell_type": "code",
   "execution_count": 81,
   "id": "ec7f3f81",
   "metadata": {},
   "outputs": [],
   "source": [
    "train[\"locality\"] = train[\"locality\"].replace({\"Nagarbhavi 2nd Stage\" : \"Nagarbhavi\", \"Nagarbhavi 1st Stage\" : \"Nagarbhavi\", \n",
    "                                               \"Nagarbhavi 2nd stage\" : \"Nagarbhavi\", \"Nagarbhavi, Bengaluru, Karnataka, India\" : \"Nagarbhavi\", \n",
    "                                               \"Nagarbhavi Bda Complex, Nagarabhavi, Bengaluru, Karnataka, India\" : \"Nagarbhavi\", \n",
    "                                               \"Dr. Ambedkar Institute Of Technology, 2 Stage, Nagarbhavi, Bengaluru, Karnataka, India\" : \"Nagarbhavi\", \n",
    "                                               \"Nagarbhavi, Bengaluru\" : \"Nagarbhavi\", \"Nagarbhavi circle, Nayanda Halli\" : \"Nagarbhavi\", \n",
    "                                               \"2 Stage, Nagarbhavi\" : \"Nagarbhavi\"})"
   ]
  },
  {
   "cell_type": "code",
   "execution_count": 82,
   "id": "dfe71615",
   "metadata": {},
   "outputs": [],
   "source": [
    "train[\"locality\"] = train[\"locality\"].replace({\"Eshwara Layout,Indiranagar\" : \"Indiranagar\", \"Indiranagar, Bengaluru, Karnataka, India\" : \"Indiranagar\", \n",
    "                                               \"Indiranagar, HAL 2nd Stage\" : \"Indiranagar\", \"59, Channakesahava Nagar, HAL 2nd Stage, Doopanahalli, Indiranagar\" : \"Indiranagar\", \n",
    "                                               \"Defence Colony, Indiranagar, Bengaluru, Karnataka, India\" : \"Indiranagar\", \"H Colony,Indiranagar\" : \"Indiranagar\", \n",
    "                                               \"100 Feet Road, Madiwala, 1st Stage, Indiranagar, Bengaluru, Karnataka, India\" : \"Indiranagar\", \"Indira Nagar II Stage, Hoysala Nagar, Indiranagar, Bengaluru, Karnataka 560038, India\" : \"Indiranagar\", \n",
    "                                               \"Indiranagara\" : \"Indiranagar\", \n",
    "                                               \"SSB International School, 1st Cross Road, Indiranagar, Jogupalya, East Zone, Bengaluru, Bangalore North, Bengaluru Urban District, Karnataka, 560038, India\" : \"Indiranagar\", \n",
    "                                               \"Hoysala Nagar, Indiranagar\" : \"Indiranagar\", \"Indiranagar,\" : \"Indiranagar\", '2391, 16th A Main Rd, HAL 2nd Stage, Indiranagar, Bengaluru, Karnataka 560008, India,Bengaluru' : \"Indiranagar\", \n",
    "                                               })"
   ]
  },
  {
   "cell_type": "code",
   "execution_count": 83,
   "id": "a46c78c1",
   "metadata": {},
   "outputs": [],
   "source": [
    "train[\"locality\"] = train[\"locality\"].replace({\"Rajaji Nagar, Bengaluru, Karnataka, India\" : \"Rajaji Nagar\", \"Gayatrinagar, Rajaji Nagar, Bengaluru, Karnataka, India\" : \"Rajaji Nagar\", \n",
    "                                               \"Manjunath Nagar, Rajaji Nagar, Bengaluru, Karnataka, India\" : \"Rajaji Nagar\", \"5th Block, Rajaji Nagar\" : \"Rajaji Nagar\", \n",
    "                                               \"Rajaji Nagar, 2nd Block\" : \"Rajaji Nagar\", \"Rajaji Nagar,\" : \"Rajaji Nagar\", \"2nd Stage, Rajaji Nagar\" : \"Rajaji Nagar\", \n",
    "                                               \"Rajaji Nagar subramanya nagar B.black sbl bank\" : \"Rajaji Nagar\", \"Prakash Nagar, Rajaji Nagar, Bengaluru, Karnataka, India\" : \"Rajaji Nagar\", \n",
    "                                               })"
   ]
  },
  {
   "cell_type": "code",
   "execution_count": 84,
   "id": "5ddc129f",
   "metadata": {},
   "outputs": [],
   "source": [
    "train[\"locality\"] = train[\"locality\"].replace({\"Basavanagudi, Bengaluru, Karnataka, India\" : \"Basavanagudi\", \"Basavanagudi,\" : \"Basavanagudi\", \n",
    "                                               \"Basavanagudi, NR Colony\" : \"Basavanagudi\", \"Tata Silk Farm, KR Road, Tata Silk Farm, Basavanagudi, Bengaluru, Karnataka, India\" : \"Basavanagudi\", \n",
    "                                               \"Thyagaraja Nagar, Basavanagudi, Bengaluru, Karnataka, India\" : \"Basavanagudi\", \n",
    "                                               \"House No., 8, Dr Omer Sherif Rd, Kanakapura, Basavanagudi, Bengaluru, Karnataka 560004, India,Bengaluru\" : \"Basavanagudi\", \n",
    "                                               \"Basavanagudi, Thyagaraja Nagar, Bengaluru, Karnataka, India\" : \"Basavanagudi\", \n",
    "                                               \"Basavanagudi Ward, South Zone, Bengaluru, Bangalore North, Bengaluru Urban District, Karnataka, 560004, India\" : \"Basavanagudi\", \n",
    "                                               \"KR Road, KR Rd, Basavanagudi, Bengaluru, Karnataka, India\" : \"Basavanagudi\"})"
   ]
  },
  {
   "cell_type": "code",
   "execution_count": 85,
   "id": "67d0e325",
   "metadata": {},
   "outputs": [],
   "source": [
    "train[\"locality\"] = train[\"locality\"].replace({\"Kaggadasapura, Bengaluru, Karnataka, India\" : \"Kaggadasapura\", \"Jagadish Nagar,Kaggadasapura\" : \"Kaggadasapura\", \n",
    "                                               \"LBS Nagar,Kaggadasapura\" : \"Kaggadasapura\", \"Varsova Layout,Kaggadasapura\" : \"Kaggadasapura\", \"LB Shastri Nagar, Kaggadasapura, Bengaluru, Karnataka, India\" : \"Kaggadasapura\", \n",
    "                                               \"kaggadasapura\" : \"Kaggadasapura\", \"Balaji Layout,Kaggadasapura\" : \"Kaggadasapura\", \"Jagadish Nagar, Kaggadasapura, Bengaluru, Karnataka, India\" : \"Kaggadasapura\", \n",
    "                                               \"Malleshpalya New Bus Station, BEML Main Road, LBS Nagar, Kaggadasapura, Bengaluru, Karnataka, India\" : \"Kaggadasapura\", \n",
    "                                               \"Doddanekundi,Kaggadasapura\" : \"Kaggadasapura\", \"C.V. Raman Nagar, Kaggadasapura\" : \"Kaggadasapura\", \n",
    "                                               \"Puspam Niwas, 11th Cross Rd, Nelluru Puram, Kaggadasapura, Bengaluru, Karnataka 560075, India,Bengaluru\" : \"Kaggadasapura\", \n",
    "                                               \"LBS Nagar, Kaggadasapura\" : \"Kaggadasapura\", \"Malleshpalya New Bus Station, Malleshpalya, Kaggadasapura, Bengaluru, Karnataka\" : \"Kaggadasapura\", \n",
    "                                               \"Malleshpalya, Kaggadasapura, Bengaluru, Karnataka, India\" : \"Kaggadasapura\", \"Malleshpalya,Kaggadasapura\" : \"Kaggadasapura\", \n",
    "                                               \"Shakthi Ashraya, 6th H Cross Rd, Kaggadasapura, Bengaluru, Karnataka 560093, India,Bengaluru\" : \"Kaggadasapura\", \n",
    "                                               \"Rock Heights, 13th Cross Road, Kaggadasapura, Bengaluru, Karnataka, India\" : \"Kaggadasapura\", \"Kaggadasapura,\" : \"Kaggadasapura\", \n",
    "                                               \"Nagavarapalya,Kaggadasapura\" : \"Kaggadasapura\", \"LBS Nagar, Kaggadasapura, Bengaluru, Karnataka, India\" : \"Kaggadasapura\", \n",
    "                                               \"Balaji Layout, Kaggadasapura, Bengaluru, Karnataka, India\" : \"Kaggadasapura\", \"Abbaiah Reddy Layout, Kaggadasapura, Bengaluru, Karnataka 560093, India\" : \"Kaggadasapura\", \n",
    "                                               \"Jagadish Nagar, Basaweshwar Nagar, Nelluru Puram, Kaggadasapura, Bengaluru, Karnataka, India\" : \"Kaggadasapura\", \n",
    "                                               \"Kaggadasapura Main Road, Kaggadasapura, Bengaluru, Karnataka, India\" : \"Kaggadasapura\", \"10/11th Cross Road, Varsova Layout, Kaggadasapura\" : \"Kaggadasapura\" \n",
    "                                               })"
   ]
  },
  {
   "cell_type": "code",
   "execution_count": 86,
   "id": "306394eb",
   "metadata": {},
   "outputs": [],
   "source": [
    "train[\"locality\"] = train[\"locality\"].replace({\"Mudalapalya, Vijaya Nagar, Bengaluru, Karnataka, India\" : \"Vijaya Nagar\", \n",
    "                                               \"Moodalapalya, Huchappa Layout, Govindaraja Nagar Ward, Mudalapalya, Vijaya Nagar, Bengaluru, Karnataka, India\" : \"Vijaya Nagar\", \n",
    "                                               \"Vijaya Nagar, Bengaluru, Karnataka, India\" : \"Vijay Nagar\", \"Vijaya Nagar, Marenahalli, Bengaluru, Karnataka, India\" : \"Vijay Nagar\", \n",
    "                                               \"721, Patteghar Palya Main Rd, Govindaraja Nagar Ward, Sampige Layout, Vijaya Nagar, Bengaluru, Karnataka 560079, India,Bengaluru\" : \"Vijay Nagar\", \n",
    "                                               \"RPC Layout, Hoshalli Extension, Vijaya Nagar, Bengaluru, Karnataka, India\" : \"Vijaya Nagar\", \"2nd Block, Kalyan Nagar, Vijaya Nagar, Bengaluru, Karnataka, India\" : \"Vijaya Nagar\", \n",
    "                                               \"Stage 2, Vijaya Nagar\" : \"Vijaya Nagar\", \"Stage 1, Vijaya Nagar\" : \"Vijaya Nagar\", \n",
    "                                               \"Vinayak Residency, 1st Main Rd, Govindaraja Nagar Ward, Madava Upanagara, Vijaya Nagar, Bengaluru, Karnataka 560040, India,Bengaluru\" : \"Vijaya Nagar\", \n",
    "                                               \"Govindarajanagar, Vijaya Nagar, Bengaluru, Karnataka, India\" : \"Vijaya Nagar\", \"Vijayanagar Metro Station, Chord Road, SBI Staff Colony, Hoshalli Extension, Hosahalli Extension, Vijaya Nagar, Bengaluru, Karnataka, India\" : \"Vijaya Nagar\", \n",
    "                                               \"Amarajyothi Nagar,Vijaya Nagar\" : \"Vijaya Nagar\", \"Maruthi Mandira, 17th Cross Road, Vijaya Nagar\" : \"Vijaya Nagar\", \"Vijaya Nagar II Stage\" : \"Vijaya Nagar\", \"RPC Layout, Vijaya Nagar\" : \"Vijaya Nagar\", \n",
    "                                               \"Mudalapalya, Vijaya Nagar\" : \"Vijaya Nagar\", \"Vijayanagar Metro Station, Chord Road, Vijaya Nagar, Bengaluru, Karnataka, India\" : \"Vijaya Nagar\", \n",
    "                                               \"Hampi Bus Stand, Hampi Nagar, RPC Layout, Vijaya Nagar, Bengaluru, Karnataka, India\" : \"Vijaya Nagar\"})"
   ]
  },
  {
   "cell_type": "code",
   "execution_count": 87,
   "id": "1fbeee8b",
   "metadata": {},
   "outputs": [],
   "source": [
    "train[\"locality\"] = train[\"locality\"].replace({\"BTM 2nd Stage\" : \"BTM Layout\"})"
   ]
  },
  {
   "cell_type": "code",
   "execution_count": 88,
   "id": "0195ac4c",
   "metadata": {},
   "outputs": [],
   "source": [
    "train[\"locality\"] = train[\"locality\"].replace({\"EPIP Zone,Brookefield\" : \"Brookefield\", \"Kundalahalli,Brookefield\" : \"Brookefield\", \n",
    "                                               \"Kundalahalli Colony,Brookefield\" : \"Brookefield\", \"Thubarahalli,Brookefield\" : \"Brookefield\", \n",
    "                                               \"Tigalarpalya,Brookefield\" : \"Brookefield\", \"BEML Layout,Brookefield\" : \"Brookefield\", \n",
    "                                               \"Brookefield, Bengaluru, Karnataka, India\" : \"Brookefield\", \"Kundalahalli, Brookefield, Bengaluru, Karnataka, India\" : \"Brookefield\", \n",
    "                                               \"AECS Layout, Brookefield\" : \"Brookefield\", \"Brookefield, AECS Layout\" : \"Brookefield\", \"Kundalahalli, Brookefield\" : \"Brookefield\", \n",
    "                                               \"BEML Layout 6th Stage, Brookefield\" : \"Brookefield\", \"Brookefield, Tigalarpalya\" : \"Brookefield\", \"Brookefield, Kundalahalli\" : \"Brookefield\", \n",
    "                                               \"Sterling Shalom, Brookefield, EPIP Zone\" : \"Brookefield\", \"Brookefield,\" : \"Brookefield\", \"BEML Layout 6th Stage, Brookefield, Bengaluru, Karnataka, India\" : \"Brookefield\", \n",
    "                                               \"Brookefield, Kundalahalli, Bengaluru, Karnataka, India\" : \"Brookefield\", \"Sri Jayalakshmi, Kundalahalli Colony, Brookefield, Bengaluru, Karnataka 560037, India,Bengaluru\" : \"Brookefield\", \n",
    "                                               \"Phase 2,Brookefield\" : \"Brookefield\", \"AECS Layout, Sri Nivasa Reddy Layout, AECS Layout, Brookefield, Bengaluru, Karnataka\" : \"Brookefield\", \n",
    "                                               \"Brookefield Mall Bangalore, ITPL Main Road, AECS Layout, Brookefield, Bengaluru, Karnataka, India\" : \"Brookefield\", \n",
    "                                               \"Kundalahalli Gate, Varthur Road, BEML Layout, Brookefield, Bengaluru, Karnataka, India\" : \"Brookefield\", \n",
    "                                               \"EPIP Zone, Brookefield\" : \"Brookefield\", \"Kundalahalli Gate, Varthur Road, BEML Layout, Brookefield\" : \"Brookefield\", \n",
    "                                               })"
   ]
  },
  {
   "cell_type": "code",
   "execution_count": 89,
   "id": "a7d189f7",
   "metadata": {},
   "outputs": [],
   "source": [
    "train[\"locality\"] = train[\"locality\"].replace({\"Stage 2,BTM 2nd Stage\" : \"BTM Layout\", \"BTM 2nd Stage, Bengaluru, Karnataka, India\" : \"BTM Layout\", \n",
    "                                               \"Universal Gym, BTM 2nd Stage, Bengaluru, Karnataka, India\" : \"BTM Layout\", \"Abbaappa Layout, Stage 2, BTM 2nd Stage\" : \"BTM Layout\",\n",
    "                                               \"Reliance Digital, BTM 2nd Stage, Kuvempu Nagar, Stage 2, BTM 2nd Stage\" : \"BTM Layout\", \"Kuvempu Nagar, BTM 2nd Stage\" : \"BTM Layout\", \n",
    "                                               \"BTM 2nd Stage,\" : \"BTM Layout\", \"Btm 2nd Stage\" : \"BTM Layout\", \"BTM 2nd Stage, Stage 2\" : \"BTM Layout\", \n",
    "                                               \"6-11, 3rd C Cross Rd, BTM 2nd Stage, Kuvempu Nagar, Stage 2, BTM 2nd Stage, Bengaluru, Karnataka 560076, India,Bengaluru\" : \"BTM Layout\", \n",
    "                                               \"BTM 2nd Stage, Stage 2, Bengaluru, Karnataka, India\" : \"BTM Layout\"})"
   ]
  },
  {
   "cell_type": "code",
   "execution_count": 90,
   "id": "54de3406",
   "metadata": {},
   "outputs": [],
   "source": [
    "train[\"locality\"] = train[\"locality\"].replace({\"Devasthanagalu,Varthur\" : \"Varthur\", \"Varthur, Bengaluru, Karnataka, India\" : \"Varthur\",\n",
    "                                               \"varthur\" : \"Varthur\", \"Devasthanagalu, Varthur\" : \"Varthur\", \"Varthur Police Station, Bengaluru, Karnataka, India\" : \"Varthur\", \n",
    "                                               \"Varthur, Bengaluru, Karnataka 560087, India\" : \"Varthur\", \"Sobha Dream Acres, Balagere Road, Varthur, Bengaluru, Karnataka, India\" : \"Varthur\", \n",
    "                                               \"Varthur Main Road, Varthur Main Rd, Bengaluru, Karnataka, India\" : \"Varthur\", \"Varthur road\" : \"Varthur\", \"Varthur Police Station, Varthur, Bengaluru, Karnataka, India\" : \"Varthur\", \n",
    "                                               \"Varthur Lake, Varthur, Bengaluru, Karnataka, India\" : \"Varthur\", \"Balagere,Varthur\" : \"Varthur\",  \n",
    "                                               \"Varthur Kodi\" : \"Varthur\", \"Varthur Lake, Devasthanagalu, Varthur, Bengaluru, Karnataka, India\" : \"Varthur\", \n",
    "                                               \"Varthur Road\" : \"Varthur\"})"
   ]
  },
  {
   "cell_type": "code",
   "execution_count": 91,
   "id": "a76d2352",
   "metadata": {},
   "outputs": [],
   "source": [
    "train['locality'] = train['locality'].replace({\"Silver Springs Layout,Munnekollal\" : \"Munnekollal\", \"Munnekollal, Bengaluru, Karnataka, India\" : \"Munnekollal\", \n",
    "                                               \"Thubarahalli,Munnekollal\" : \"Munnekollal\", \"Gandhi Nagar,Munnekollal\" : \"Munnekollal\", \"Shirdi Sai Nagar,Munnekollal\" : \"Munnekollal\", \n",
    "                                               \"Munnekollall\" : \"Munnekollal\", \"Silver Springs Layout, Munnekollal, Bengaluru, Karnataka, India\" : \"Munnekollal\", \n",
    "                                               \"R K Bakery, SGR Dental College Road, Munnekollal, Bengaluru, Karnataka, India\" : \"Munnekollal\", \n",
    "                                               \"#76 Siva niwas, Vibgyor High School Rd, Silver Springs Layout, Munnekollal, Bengaluru, Karnataka 560066, India,Bengaluru\" : \"Munnekollal\", \n",
    "                                               \"Manjunatha Layout, Munnekollal\" : \"Munnekollal\", \"Sai Sun Shine Nagamani Constructions, Manjunatha Layout, Thubarahalli, Munnekollal, Bengaluru, Karnataka 560037, India\" : \"Munnekollal\", \n",
    "                                               \"Victorian Meadows Layout, 31, Victorian Meadows Rd, Lakshmi Layout, Gandhi Nagar, Munnekollal, Bengaluru, Karnataka 560037, India,Bengaluru\" : \"Munnekollal\", \n",
    "                                               \"Silver Springs Layout, Munnekollal\" : \"Munnekollal\", \"2nd Main Road, Silver Springs Layout, Munnekollal\" : \"Munnekollal\", \n",
    "                                               \"Thubarahalli, Munnekollal, Bengaluru, Karnataka, India\" : \"Munnekollal\", \"10, 5th A Cross Rd, Lakshmi Layout, Gandhi Nagar, Munnekollal, Bengaluru, Karnataka 560037, India,Bengaluru\" : \"Munnekollal\", \n",
    "                                               \"B R Layout, Munnekollal, Bengaluru, Karnataka, India\" : \"Munnekollal\", \"Munnekollal,\" : \"Munnekollal\"})"
   ]
  },
  {
   "cell_type": "code",
   "execution_count": 92,
   "id": "871368cc",
   "metadata": {},
   "outputs": [],
   "source": [
    "train[\"locality\"] = train[\"locality\"].replace({\"Jayanagara 9th Block\" : \"Jayanagar\", \"Jayanagara\" : \"Jayanagar\", \n",
    "                                               \"Jayanagar 1st Block\" : \"Jayanagar\", \"Jayanagar 6th Block\" : \"Jayanagar\", \n",
    "                                               \"Jayanagar 5th Block\" : \"Jayanagar\", \"Jayanagar 4 Block\" : \"Jayanagar\", \n",
    "                                               \"Jayanagar 3rd Block\" : \"Jayanagar\", \"Jayanagar 7 Block\" : \"Jayanagar\", \n",
    "                                               \"9th Block Jayanagara\" : \"Jayanagar\", \"Jayanagara 9th Block, Jayanagar\" : \"Jayanagar\", \n",
    "                                               \"Jayanagar 9th Block\" : \"Jayanagar\", \"Jayanagar 1st Block,\" : \"Jayanagar\", \"Jayanagara Jaya Nagar\" : \"Jayanagar\", \n",
    "                                               \"jayanagar\" : \"Jayanagar\", \"Jayanagar 3rd Block East\" : \"Jayanagar\", \"Jayanagar East\" : \"Jayanagar\", \"Jaya Nagar East,Jayanagar\" : \"Jayanagar\", \n",
    "                                               \"Bairasandra Extension,Jayanagar\" : \"Jayanagar\", \"jayanagar 9th block\" : \"Jayanagar\", \"JayaNagar, 5th Block\" : \"Jayanagar\", \n",
    "                                               \"9th Block, Jayanagar\" : \"Jayanagar\", \"629, Old Post Office Rd, 7th Block, Jayanagar, Bengaluru, Karnataka 560070, India,Bengaluru\" : \"Jayanagar\", \n",
    "                                               \"8th Block, Jayanagar\" : \"Jayanagar\", \"Jayanagara 9th Block, Jayanagar, Bengaluru, Karnataka, India\" : \"Jayanagar\", \n",
    "                                               \"Jayanagara 4th T Block\" : \"Jayanagar\", \"Jayanagar, 4th T Block East\" : \"Jayanagar\", \"5th Block Jayanagara,\" : \"Jayanagar\", \n",
    "                                               \"Vijayanagar Education Society Teacher Training College, 80 Feet Road, 2nd Block, 1st Stage, Chandra Layout, Attiguppe, Bengaluru, Karnataka, India\" : \"Jayanagar\", \n",
    "                                               \"61 13th main 4th block , Jayanagar East, Jaya Nagar 1st Block, Jayanagar, Bengaluru, Karnataka 560041, India,Bengaluru\" : \" Jayanagar\", \n",
    "                                               \"Jayanagar, 2nd Block, Bengaluru, Karnataka, India\" : \"Jayanagar\", \"Jayanagar, 4th T Block East, Bengaluru, Karnataka, India\" : \"Jayanagar\", \n",
    "                                               \"Byrasandra Main Road, 1st Block, Jaya Nagar 1st Block, Jayanagar, Bengaluru, Karnataka, India\" : \"Jayanagar\", \n",
    "                                               \"Jayanagar, 7th Block\" : \"Jayanagar\", \"52, Bannerughatta Approach Road Layout, 4th T Block East, Tilak Nagar, Jayanagar, Bengaluru, Karnataka 560041, India,Bengaluru\" : \"Jayanagar\", \n",
    "                                               \"Jayanagar, 4T Block\" : \"Jayanagar\", \"3rd block jayanagar\" : \"Jayanagar\", \"4th Block, Jayanagar\" : \"Jayanagar\", \"Tilak Nagar, Jayanagar\" : \"Jayanagar\", \n",
    "                                               \"Jayanagar 1st Block, Bengaluru, Karnataka, India\" : \"Jayanagar\", \"Jayanagar, 1st Block\" : \"Jayanagar\", \"7th Block, Jayanagar\" : \"Jayanagar\", \n",
    "                                               \"4th Block,Jayanagar\" : \"Jayanagar\", \"Jayanagar, Bengaluru, Karnataka, India\" : \"Jayanagar\", \n",
    "                                               \"Jayanagar 4T Block, Pattabhiram Nagar, South Zone, Bengaluru, Bangalore South, Bengaluru Urban District, Karnataka, 560041, India\" : \"Jayanagar\", \n",
    "                                               \"Tilak Nagar,Jayanagar\" : \"Jayanagar\", \"Jayanagar 4 Block, Jayanagar\" : \"Jayanagar\", \"Jayanagar2nd Block\" : \"Jayanagar\", \n",
    "                                               \"Jayanagar, 15 Main Road, 4T Block, Bengaluru, Karnataka, India\" : \"Jayanagar\", \"4th Tea Block, Jayanagar\" : \"Jayanagar\", \n",
    "                                               \"Jayanagar, 2nd Block\" : \"Jayanagar\", \"Krishnappa garden, Jayanagar.Behind Empire hotel\" : \"Jayanagar\", \"SR Krishnappa Garden, Jayanagar, Bengaluru, Karnataka, India\" : \"Jayanagar\", \n",
    "                                               \"Jayanagar, 4th T Block\" : \"Jayanagar\", \"7th Block Jayanagar\" : \"Jayanagar\", \"Pattabhirama Nagar,Jayanagar\" : \"Jayanagar\"})"
   ]
  },
  {
   "cell_type": "code",
   "execution_count": 93,
   "id": "f3be6d61",
   "metadata": {},
   "outputs": [],
   "source": [
    "train[\"locality\"] = train[\"locality\"].replace({\"Koramangala 4th Block\" : \"Koramangala\", \"Koramangala 1st Block\" : \"Koramangala\", \n",
    "                                               \"Koramangala 8th Block\" : \"Koramangala\", \"Koramangala 5th Block\" : \"Koramangala\", \n",
    "                                               \"1st Block Koramangala\" : \"Koramangala\", \"Koramangala 6th Block\" : \"Koramangala\", \n",
    "                                               \"Koramangala 3 Block\" : \"Koramangala\", \"Koramangala 7th Block\" : \"Koramangala\", \n",
    "                                               \"KHB Games Village,Koramangala\" : \"Koramangala\", \"Koramangala 3 Block,Koramangala\" : \"Koramangala\", \n",
    "                                               \"Koramangala, Bengaluru, Karnataka, India\" : \"Koramangala\", \"Cauvery Colony,Koramangala\" : \"Koramangala\", \n",
    "                                               \"koramangala\" : \"Koramangala\", \"Koramangala 4 Block\" : \"Koramangala\", \"Koramangala 8th Block, Koramangala, Bengaluru, Karnataka, India\" : \"Koramangala\", \n",
    "                                               \"Koramangala 4th Block, Bengaluru, Karnataka, India\" : \"Koramangala\", \"2nd Block Koramangala, Koramangala, Bengaluru, Karnataka, India\" : \"Koramangala\", \n",
    "                                               \"47, 13th B Cross Rd, Teacher&#39;s Colony, Jakkasandra, 1st Block Koramangala, Koramangala, Bengaluru, Karnataka 560034, India,Bengaluru\" : \"Koramangala\", \n",
    "                                               \"Koramangala, 1st Block Koramangala, Koramangala, Bengaluru, Karnataka\" : \"Koramangala\", \"3rd Block, Koramangala\" : \"Koramangala\", \n",
    "                                               \"Koramangala, 1st Block\" : \"Koramangala\", \"Koramangala 8th Block,\" : \"Koramangala\", \"Koramangala, Koramangala 8th Block\" : \"Koramangala\", \n",
    "                                               \"4th block Koramangala\" : \"Koramangala\", \"Koramangala,  1st Main, S.T. Bed, Bangalore, Karnataka 560034, India\" : \"Koramangala\", \"Koramangala 4th Block,Ejipura\" : \"Koramangala\", \n",
    "                                               \"8th Block Koramangala\" : \"Koramangala\", \"Koramangala 4-B Block\" : \"Koramangala\", \"1st Block Koramangala, Jakkasandra\" : \"Koramangala\", \n",
    "                                               \"8th B Cross, Venkatapura, Koramangala 1st Block, Bengaluru- 560034.\" : \"Koramangala\", \"Koramangala 8th block\" : \"Koramangala\", \n",
    "                                               \"Venkatapura, Koramangala\" : \"Koramangala\", \"Koramangala,\" : \"Koramangala\", \"Koramangala 2 Block\" : \"Koramangala\", \n",
    "                                               \"3rd Cross Road, Koramangala 1st Block, Koramangala, South Zone, Bengaluru, Bangalore South, Bengaluru Urban District, Karnataka, 560034, India\" : \"Koramangala\", \n",
    "                                               \"Croma Koramangala, Venkappa Garden, Ejipura, Bengaluru, Karnataka, India\" : \"Koramangala\", \n",
    "                                               \"8th A Main Road, Koramangala 1st Block, Koramangala, South Zone, Bengaluru, Bangalore South, Bengaluru Urban District, Karnataka, 560034, India\" : \"Koramangala\", \n",
    "                                               \"Koramangala, Venkatapura\" : \"Koramangala\", \"Koramangala, 6th Block\" : \"Koramangala\", \"Koramangala, 1st Block Koramangala\" : \"Koramangala\", \n",
    "                                               \"Koramangala 3 Block, Bengaluru, Karnataka, India\" : \"Koramangala\", \"Koramangala 4th block\" : \"Koramangala\" })"
   ]
  },
  {
   "cell_type": "code",
   "execution_count": 94,
   "id": "32725514",
   "metadata": {},
   "outputs": [],
   "source": [
    "train[\"locality\"] = train[\"locality\"].replace({\"BTM Layout 1\" : \"BTM Layout\", \"BTM Layout 2nd Stage\" :\"BTM Layout\", \n",
    "                                               \"Stage 2,BTM Layout\" : \"BTM Layout\", \"BTM Layout 1st Stage\" : \"BTM Layout\", \n",
    "                                               \"1st Stage, BTM Layout\" : \"BTM Layout\", \"1st Stage,BTM Layout 1\" : \"BTM Layout\", \n",
    "                                               \"BTM layout\" : \"BTM Layout\", \"BTM Layout,\" : \"BTM Layout\", \"1st Stage BTM Layout\" : \"BTM Layout\", \n",
    "                                               \"1st Stage,BTM Layout\" : \"BTM Layout\", \"BTM Layout Stage 2\" : \"BTM Layout\", \"Stage 2, BTM Layout\" : \"BTM Layout\", \n",
    "                                               \"BTM Layout 2nd Stage, Bengaluru, Karnataka, India\" : \"BTM Layout\", \"Stage 1, BTM Layout\" : \"BTM Layout\", \n",
    "                                               \"BTM Layout 1, Bengaluru, Karnataka, India\" : \"BTM Layout\", \"BTM Layout, Stage 2\" : \"BTM Layout\", \"BTM Layout II Stage\" : \"BTM Layout\", \n",
    "                                               \"BTM Layout, 1st Stage, Bengaluru, Karnataka, India\" : \"BTM Layout\", \"124, 4th Main Rd, KEB Colony, New Gurappana Palya, 1st Stage, BTM Layout\" : \"BTM Layout\", \n",
    "                                               \"stage 2, BTM Layout\" : \"BTM Layout\", \"BTM Layout Stage 1\" : \"BTM Layout\", \"718, 11th Cross Rd, EWS Colony, Stage 2, BTM Layout, Bengaluru, Karnataka 560076, India,Bengaluru\" : \"BTM Layout\", \n",
    "                                               \"Gurappana Palya, Bannerghatta Main Road, BTM Layout 1, Bengaluru, Karnataka, India\" : \"BTM Layout\", \"1st Stage, BTM Layout 1\" : \"BTM Layout\", \n",
    "                                               \"Maruti Nagar, 1st Stage, BTM Layout, Bengaluru, Karnataka, India\" : \"BTM Layout\", \"BTM Layout, Stage 1\" : \"BTM Layout\", \n",
    "                                               \"BTM Layout 2nd stage\" :\"BTM Layout\", \"Btm Layout 2nd Stage\" : \"BTM Layout\", \n",
    "                                               \"BTM Layout 2nd Stage, BTM Layout Ward, South Zone, Bengaluru, Bangalore South, Bengaluru Urban District, Karnataka, 560069, India\" : \"BTM Layout\", \n",
    "                                               \"11, C Cross Road, Maruthi HBCS Layout, 1st Stage, BTM Layout, Bengaluru, Karnataka 560029, India,Bengaluru\" : \"BTM Layout\", \n",
    "                                               \"Mahadeshwara Nagara, BTM Layout Ward, South Zone, Bengaluru, Bangalore South, Bengaluru Urban District, Karnataka, 560076, India\" : \"BTM Layout\", \n",
    "                                               \"66, 7th Main Road, BTM Layout Ward, South Zone, Bengaluru, Bangalore South, Bengaluru Urban District, Karnataka, 560069, India\" : \"BTM Layout\", \n",
    "                                               \"BTM LAYOUT STAGE 2\" : \"BTM Layout\", \"BTM Layout 1, Madiwala\" : \"BTM Layout\", \"BTM Layout,BTM 2nd Stage\" : \"BTM Layout\", \"btm layout\" : \"BTM Layout\", \n",
    "                                               }) "
   ]
  },
  {
   "cell_type": "code",
   "execution_count": 95,
   "id": "9dce7843",
   "metadata": {},
   "outputs": [],
   "source": [
    "train[\"locality\"] = train[\"locality\"].replace({\"RR Nagar, Bengaluru, Karnataka, India\" : \"RR Nagar\", \"Gattigere,RR Nagar\" : \"RR Nagar\", \"Hemmigepura Ward 198,RR Nagar\" : \"RR Nagar\", \n",
    "                                               \"5th Stage,RR Nagar\" : \"RR Nagar\", \"Kenchenhalli,RR Nagar\" : \"RR Nagar\", \"BHEL Layout,RR Nagar\" : \"RR Nagar\", \"RR nagar\" : \"RR Nagar\", \n",
    "                                               \"BEML Layout 3rd Stage,RR Nagar\" : \"RR Nagar\", \"5th Stage, RR Nagar\" : \"RR Nagar\", \"Old Guddadahalli,RR Nagar \" : \"RR Nagar\", \n",
    "                                               \"RR Nagar,\" : \"RR Nagar\", \"84/A, Janapriya Abodes, Kenchenhalli, RR Nagar, Bengaluru, Karnataka 560098, India,Bengaluru\" : \"RR Nagar\", \n",
    "                                               \"Channasandra,RR Nagar\" : \"RR Nagar\", \"Sri Krishna Garden Layout,RR Nagar\" : \"RR Nagar\", \"431D, 2nd A Cross Road, Jawaregowda Nagar, Ideal Homes Twp, RR Nagar, Bengaluru, Karnataka 560098, India,Bengaluru\" : \"RR Nagar\", \n",
    "                                               \"RR Nagar ``\" : \"RR Nagar\", \"2nd Cross, 1st Main, Kenchena Halli Rd, Durga Parameshwari Layout, Kenchenhalli, RR Nagar, Bengaluru, Karnataka 560098, India,Bengaluru\" : \"RR Nagar\", \n",
    "                                               \"Channasandra, RR Nagar\" : \"RR Nagar\", \"Javarandoddi,RR Nagar\" : \"RR Nagar\", \"Gattigere, RR Nagar\" : \"RR Nagar\", \"Gattigere, RR Nagar, Bengaluru, Karnataka, India\" : \"RR Nagar\", \n",
    "                                               \"Sri Jnanakshi Vidyaniketan, RR Nagar, Bengaluru, Karnataka, India\" : \"RR Nagar\", \"Ideal Homes Layout, RR Nagar, Bengaluru, Karnataka, India\" : \"RR Nagar\", \n",
    "                                               \"RR Nagar, BEML Layout, Bengaluru, Karnataka, India\" : \"RR Nagar\", \"Aditya Layout,RR Nagar\" : \"RR Nagar\", \"BEML Layout 5th Stage, RR Nagar, Bengaluru, Karnataka, India\" : \"RR Nagar\", \n",
    "                                               \"Krishnappa Layout, Durga Parameshwari Nagar, Bangarappanagar, RR Nagar, Bengaluru, Karnataka 560085, India,Bengaluru\" : \"RR Nagar\", \n",
    "                                               }) "
   ]
  },
  {
   "cell_type": "code",
   "execution_count": 96,
   "id": "e1ad25f0",
   "metadata": {},
   "outputs": [],
   "source": [
    "train[\"locality\"] = train['locality'].replace({\"JP Nagar 1st Phase\" : \"JP Nagar 6th Phase\", \"J P Nagar Phase 5,JP Nagar\" : \"JP Nagar\", \n",
    "                                               \"JP Nagar 5th Phase\" : \"JP Nagar\", \"JP Nagar Phase 6,JP Nagar\" : \"JP Nagar\", \n",
    "                                               \"JP Nagar 6th Phase\" : \"JP Nagar\", \"JP Nagar 4th Phase\" : \"JP Nagar\", \n",
    "                                               \"JP Nagar 3rd Phase\" : \"JP Nagar\", \"2nd Phase, JP Nagar\" : \"JP Nagar\", \n",
    "                                               \"1st Phase, JP Nagar\" : \"JP Nagar\", \"JP Nagar 2nd Phase\" : \"JP Nagar\", \n",
    "                                               \"Binny Mills Employees Colony,JP Nagar\" : \"JP Nagar\", \n",
    "                                               \"1st Phase, JP Nagar, Bengaluru, Karnataka, India\" : \"JP Nagar\", \n",
    "                                               \"JP Nagar, Bengaluru, Karnataka, India\" : \"JP Nagar\", \n",
    "                                               \"1st Phase,JP Nagar\" : \"JP Nagar\", \"Phase 4,JP Nagar\" : \"JP Nagar\", \n",
    "                                               \"JP Nagar,\" : \"JP Nagar\", \"3rd Phase, JP Nagar\" : \"JP Nagar\", \n",
    "                                               \"5th Phase, JP Nagar\" : \"JP Nagar\", \"JP Nagar Phase 5\" : \"JP Nagar\", \n",
    "                                               \"1847, 6th Cross Rd, R.K Colony, Marenahalli, 2nd Phase, JP Nagar, Bengaluru, Karnataka 560040, India,Bengaluru\" : \"JP Nagar\",\n",
    "                                               \"Phase 5, JP Nagar\" : \"JP Nagar\", \"5th Phase, JP Nagar, Bengaluru, Karnataka, India\" : \"JP Nagar\", \n",
    "                                               \"JP Nagar 4th Phase, Dollar Layout, Phase 4, JP Nagar, Bengaluru, Karnataka, India\" : \"JP Nagar\", \n",
    "                                               \"684-E, 47th Cross Road, 8th Block, 1st Phase, JP Nagar\" : \"JP Nagar\", \n",
    "                                               \"JP nagar 2nd phase\" : \"JP Nagar\", \"JP Nagara 1st Phase, Anjaneya Temple Road, SBI Colony, 1st Phase, JP Nagar, Bengaluru, Karnataka, India\" : \" JP Nagar\", \n",
    "                                               \"JP Nagar Phase 6, JP Nagar\" : \"JP Nagar\", \"77, Sarakki Gate Rd, Sarakki Gate, 1st Phase, JP Nagar, Bengaluru, Karnataka 560078, India,Bengaluru\" : \"JP Nagar\", \n",
    "                                               \"JP Nagar 6 Phase\" : \"JP Nagar\", \"4th Phase JP Nagar\" : \"JP Nagar\", \"J P Nagar 5 Phase, JP Nagar\" : \"JP Nagar\", \n",
    "                                               \"JP Nagar 9th Phase\" : \"JP Nagar\", \"JP Nagar Phase 6,\" : \"JP Nagar\", \"JP Nagara 5th Phase\" : \"JP Nagar\", \"JP Nagar Phase 6, Bengaluru, Karnataka, India\" : \"JP Nagar\", \n",
    "                                               \"JP Nagar 3 phase\" : \"JP Nagar\", \"JP Nagar, 5th Phase, J P Nagar Phase 5, Bengaluru, Karnataka, India\" : \"JP Nagar\", \n",
    "                                               \"JP Nagar Phase\" : \"JP Nagar\", \"1st Phase JP Nagar \" : \"JP Nagar\", \"JP Nagar, 1st Phase\" : \"JP Nagar\", \n",
    "                                               \"Husaini Blossoms, 2nd Cross Rd, 5th Phase, Nagaraja Garden, J P Nagar Phase 5, JP Nagar, Bengaluru, Karnataka 560078, India,Bengaluru \" : \"JP Nagar\",\n",
    "                                               \"JP Nagar 6th Phase, 15th Cross Road, JP Nagar, Bengaluru, Karnataka, India\" : \"JP Nagar\", \"JP Nagar 4 Phase\" : \"JP Nagar\", \n",
    "                                               \"5th Phase JP Nagar\" : \"JP Nagar\", \"6th Phase JP Nagar\" : \"JP Nagar\", \"JP Nagar 8th Phase \" : \"JP Nagar\", \n",
    "                                               \"JP Nagar, 6th phase\" : \"JP Nagar\", \"JP Nagar, Phase 3\" : \"JP Nagar\", \"JP Nagar 5th Phase, Bengaluru, Karnataka, India\" : \"JP Nagar\", \n",
    "                                               \"JP Nagar, Sarakki Gate, 1st Phase\" : \"JP Nagar\", \"JP Nagar 7th Phase\" :\"JP Nagar\", \"JP Nagar 4th phase\" : \"JP Nagar\", \n",
    "                                               \"JP Nagar 1st Phase, JP Nagar, Bengaluru, Karnataka, India\" : \"JP Nagar\", \"20/4, 13th Main Road, 5th Phase, J P Nagar Phase 5, JP Nagar, Bengaluru, Karnataka 560078, India,Bengaluru\" : \"JP Nagar\", \n",
    "                                               \"JP Nagar Phase 1\" : \"JP Nagar\", \"JP Nagar, 2nd Phase\" : \"JP Nagar\", \"474, 12th Main Road, J P Nagar Phase 5, JP Nagar, Bengaluru, Karnataka 560078, India,Bengaluru\" : \"JP Nagar\", \n",
    "                                               \"JP Nagara 1st Phase\" :\"JP Nagar\", \"JP Nagar Phase5\" : \"JP Nagar\", \"JP Nagar 4th Phase, Phase 4\" : \"JP Nagar\", \"1st Phase, JP Nagar,\" : \"JP Nagar\", \n",
    "                                               \"Phase 4, JP Nagar\" : \"JP Nagar\", \"397, 4rth Main Rd, Dollars Colony, Phase 4, JP Nagar, Bengaluru, Karnataka 560076, India,Bengaluru\" : \"JP Nagar\", \n",
    "                                               \"1741, 9th Cross Road, JP Nagar, Bengaluru, Karnataka, India\" : \"JP Nagar\", \"2nd Phase, JP Nagar, Bengaluru, Karnataka, India\" : \"JP Nagar\" \n",
    "                                               \n",
    "                                              })\n"
   ]
  },
  {
   "cell_type": "code",
   "execution_count": 97,
   "id": "a6a4773b",
   "metadata": {},
   "outputs": [],
   "source": [
    "train[\"locality\"] = train['locality'].replace({\"Adarsh Palm Retreat,Bellandur\" : \"Bellandur\", \"Green Glen Layout,Bellandur\" : \"Bellandur\", \n",
    "                                               \"Kariyammana Agrahara,Bellandur\"  : \"Bellandur\", \"Chikkabellandur\" : \"Bellandur\", \n",
    "                                               \"Janatha Colony,Chikkabellandur\" : \"Bellandur\", \"Devarabisanahalli,Bellandur\" : \"Bellandur\", \n",
    "                                               \"Iblur Village,Bellandur\" : \"Bellandur\", \"Bellandur, Bengaluru, Karnataka, India\" : \"Bellandur\", \n",
    "                                               \"Green Glen Layout, Bellandur, Bengaluru, Karnataka, India\" : \"Bellandur\", \n",
    "                                               \"Yemalur,Bellandur\" : \"Bellandur\", \"Kempapura,Bellandur\" : \"Bellandur\", \n",
    "                                               \"Yemalur Main Road, Kempapura, Bellandur, Bengaluru, Karnataka, India\" : \"Bellandur\", \n",
    "                                               \"Bellandur Amanikere\" : \"Bellandur\", \"Bellandur Railway Station Road, Panathur, Varthuru, Mahadevapura Zone, Bengaluru, Bangalore East, Bengaluru Urban District, Karnataka, 560037, India\" : \"Bellandur\", \n",
    "                                               \"Yemalur, Bellandur\" : \"Bellandur\", \"Sri Balaji Emerald, Bellandur, Bengaluru, Karnataka, India\" : \"Bellandur\", \n",
    "                                               \"Vandana Tejyesh Apartment, Panathur Road, Pembrook Layout, Panathur, Bellandur Amanikere, Karnataka, India\" : \"Bellandur\", \n",
    "                                               \"Yemalur, Bellandur, Bengaluru, Karnataka, India\" : \"Bellandur\", \"Bellandur, Devarabeesana Halli\" : \"Bellandur\", \n",
    "                                               \"Devarabisanahalli, Bellandur, Bengaluru, Karnataka 560103, India\" : \"Bellandur\", \n",
    "                                               \"DSR Emerald & DSR Topaz Apartments, 7th Main Road,Ibbalur, Post, 560103,, Green Glen Layout, Bellandur, Bengaluru, Karnataka 560103, India,Bengaluru \" : \"Bellandur\", \n",
    "                                               \"Krishvi Dhavala, Doddakannelli, Bellandur, Bengaluru, Karnataka, India\" : \"Bellandur\", \n",
    "                                               \"Euphoria Corporate Leisure Apartments, Iblur Village, Bellandur, Iblur Village, Bellandur, Bengaluru, Karnataka 560103, India,Bengaluru\" : \"Bellandur\", \n",
    "                                               \"Behind Adarsh Palm Retreat,Bellandur\" : \"Bellandur\", \"Bellandur,\" :\"Bellandur\", \"2nd Cross, Raju Colony, Yemalur, Bellandur, Bengaluru, Karnataka 560037, India,Bengaluru\" : \"Bellandur\", \n",
    "                                               \"300, 10th Cross Road, Bellandur\" : \"Bellandur\", \"Bellandur Gate, Bellandur\" : \"Bellandur\", \"Haralur Road, close to Bellandur Gate\" : \"Bellandur\", \n",
    "                                               \"SLS Splendor, Bellandur, Bengaluru, Karnataka, India\" : \"Bellandur\", \"Om Sakti Heritage Road, Green Glen Layout, Bellandur\" : \"Bellandur\", \n",
    "                                               \"Haralur, Bellanduru, Mahadevapura Zone, Bengaluru, Bangalore South, Bengaluru Urban District, Karnataka, 560035, India\" : \"Bellandur\", \n",
    "                                               \"Devarabisanahalli, Bellandur\" : \"Bellandur\", \"DSR TOPAZ, Green Glen Layout, Bellandur, Bengaluru, Karnataka, India\" : \"Bellandur\", \n",
    "                                                })"
   ]
  },
  {
   "cell_type": "code",
   "execution_count": 98,
   "id": "231db831",
   "metadata": {},
   "outputs": [],
   "source": [
    "train[\"locality\"] = train[\"locality\"].replace({\"B Narayanapura,Mahadevapura\" : \"Mahadevapura\", \"Doddanekundi,Mahadevapura\" : \"Mahadevapura\", \n",
    "                                               \"Garudachar Palya,Mahadevapura\" : \"Mahadevapura\", \"Mahadevapura, Bengaluru, Karnataka, India\" : \"Mahadevapura\", \n",
    "                                               \"Pai Layout,Mahadevapura\" : \"Mahadevapura\", \"Laxmi Sagar Layout,Mahadevapura\" : \"Mahadevapura\", \"Chinappa Layout,Mahadevapura\" : \"Mahadevapura\", \n",
    "                                               \"Singayyanapalya,Mahadevapura\" : \"Mahadevapura\", \"Bangalore Corporation Industrial Estate,Mahadevapura\" :\"Mahadevapura\", \n",
    "                                               \"A Narayanapura, Mahadevapura\" : \"Mahadevapura\", \"Bellandur Railway Station Road, Panathur, Varthuru, Mahadevapura Zone, Bengaluru, Bangalore East, Bengaluru Urban District, Karnataka, 560037, India 2 Ashwini Layout, Ejipura\" : \n",
    "                                               \"Mahadevapura\", \"Udaya Nagar, A Narayanapura, Mahadevapura Zone, Bengaluru, Bangalore East, Bengaluru Urban District, Karnataka, 560016, India\" : \"Mahadevapura\", \n",
    "                                               \"Sai Layout, Hagadur, Mahadevapura Zone, Bengaluru, Bangalore East, Bengaluru Urban District, Karnataka, 560066, India\" : \"Mahadevapura\", \n",
    "                                               \"Ecumenical Christian Center Road, Prithvi Layout, Kadugodi, Mahadevapura Zone, Bengaluru, Bangalore East, Bengaluru Urban District, Karnataka, 560066, India 2 Govindaraja Nagar Ward\" : \"Mahadevapura\", \n",
    "                                               \"Doddanekundi, Dodda Nekkundi, Mahadevapura Zone, Bengaluru, Bangalore East, Bengaluru Urban District, Karnataka, 560037, India\" : \"Mahadevapura\", \n",
    "                                               \"Udaya Nagar,Mahadevapura\" : \"Mahadevapura\", \"Mahadevapura, Pai Layout\" : \"Mahadevapura\", \"1st Ever Green Road, Udaya Nagar, Mahadevapura, Bengaluru, Karnataka, India\" : \"Mahadevapura\", \n",
    "                                               \"90, 1st Cross Road, Maruthi Layout, Basavanna Nagar, Mahadevapura, Bengaluru, Karnataka 560048, India,Bengaluru\" : \"Mahadevapura\", \n",
    "                                               \"Seetharampalya Road, Green Domain Layout, Garudachara Palya, Mahadevapura Zone, Bengaluru, Bangalore East, Bengaluru Urban District, Karnataka, 560067, India\" : \"Mahadevapura\", \n",
    "                                               \"HAL Thermal Paintshop, HAL Airport Ward, Mahadevapura Zone, Bengaluru, Bangalore East, Bengaluru Urban District, Karnataka, 560075, India\" : \"Mahadevapura\", \n",
    "                                               \"Chinappa Layout Mahadevapura\" : \"Mahadevapura\", \n",
    "                                               \"महावीर टस्कन अपार्टमेन्ट, Seetharampalya Road, Hoodi, Garudachara Palya, Mahadevapura Zone, Bengaluru, Bangalore East, Bengaluru Urban District, Karnataka, 560048, India\" : \"Mahadevapura\", \n",
    "                                               \"Shell, Sarjapura Road, Bellanduru, Mahadevapura Zone, Bengaluru, Bangalore East, Bengaluru Urban District, Karnataka, 560035, India\" : \"Mahadevapura\", \n",
    "                                               \"Doddanekkundi Main Road, Doddanekundi, Dodda Nekkundi, Mahadevapura Zone, Bengaluru, Bangalore East, Bengaluru Urban District, Karnataka, 560048, India\" : \"Mahadevapura\", \n",
    "                                               \"Borewell Road, Nallurahalli, Hagadur, Mahadevapura Zone, Bengaluru, Bangalore East, Bengaluru Urban District, Karnataka, 560066, India\" : \"Mahadevapura\", \n",
    "                                               \"Ambalipura, Bellanduru, Mahadevapura Zone, Bengaluru, Bangalore East, Bengaluru Urban District, Karnataka, 530103, India\" : \"Mahadevapura\", \n",
    "                                               \"Udaya Nagar Bus Stop, Shakti Nagar Road, Dooravani Nagar, Pai Layout, Mahadevapura, Bengaluru, Karnataka, India\" : \"Mahadevapura\", \n",
    "                                               \"Udaya Nagar, Mahadevapura, Bengaluru, Karnataka, India\" : \"Mahadevapura\", \n",
    "                                               \"Wipro SJP2, RMZ Ecoworld - AET Junction connecting road, Devarabeesanahalli, Bellanduru, Mahadevapura Zone, Bengaluru, Bangalore East, Bengaluru Urban District, Karnataka, 560035, India\" : \"Mahadevapura\", \n",
    "                                               \"Mahadevapura Post\" : \"Mahadevapura\", \"179, 2nd Stage, Ashraya Layout, Garudachar Palya, Mahadevapura, Bengaluru, Karnataka 560048, India,Bengaluru\" : \"Mahadevapura\", \n",
    "                                               \"4th Cross Rd, A Narayanapura Extension, Mahadevapura, Bengaluru, Karnataka 560016, India,Bengaluru\" : \"Mahadevapura\", \n",
    "                                               \"4th Cross Road, 2nd Stage, Brigade Metropolis, Garudachar Palya, Mahadevapura, Bengaluru, Karnataka 560048, India,Bengaluru\" : \"Mahadevapura\", \n",
    "                                               \"Kadugodi Railway Bridge, Kadugodi, Mahadevapura Zone, Bengaluru, Bangalore East, Bengaluru Urban District, Karnataka, 560067, India\" : \"Mahadevapura\", \n",
    "                                               \"Green Domain Layout, Dodda Nekkundi, Mahadevapura Zone, Bengaluru, Bangalore East, Bengaluru Urban District, Karnataka, 560048, India\" : \"Mahadevapura\", \n",
    "                                               \"Corporation Colony, Konena Agrahara Ward, East Zone, Bengaluru, Bangalore East, Bengaluru Urban District, Karnataka, 560071, India\" : \"Mahadevapura\", \n",
    "                                               \"DNA Apartment Road, DNA Oaksville, Hagadur, Mahadevapura Zone, Bengaluru, Bangalore East, Bengaluru Urban District, Karnataka, 560066, India\" : \"Mahadevapura\", \n",
    "                                               \"Ecumenical Christian Center Road, Sai Layout, Hagadur, Mahadevapura Zone, Bengaluru, Bangalore East, Bengaluru Urban District, Karnataka, 560066, India\" : \"Mahadevapura\", \n",
    "                                               \"Treebo Hotel Worldtree Bellandur, Parijatha Avenue, Green Glen Layout, Bellanduru, Mahadevapura Zone, Bengaluru, Bangalore East, Bengaluru Urban District, Karnataka, 530103, India\" : \"Mahadevapura\", \n",
    "                                               \"Hoodi, Garudachara Palya, Mahadevapura Zone, Bengaluru, Bangalore East, Bengaluru Urban District, Karnataka, 560067, India\" : \"Mahadevapura\", \n",
    "                                               \"Lakshmi Narayana Temple Road, Munekolala, Varthuru, Mahadevapura Zone, Bengaluru, Bangalore East, Bengaluru Urban District, Karnataka, 560037, India\" : \"Mahadevapura\", \n",
    "                                               \"Vignananagar, Vijnana Nagar, Mahadevapura Zone, Bengaluru, Bangalore East, Bengaluru Urban District, Karnataka, 560093, India\" : \"Mahadevapura\", \n",
    "                                               \"1st Cross Road, P R Layout, Bellanduru, Mahadevapura Zone, Bengaluru, Bangalore East, Bengaluru Urban District, Karnataka, 560037, India\" : \"Mahadevapura\", \n",
    "                                               \"The Foundation, Borewell Road, Vinayaka Layout, Hagadur, Mahadevapura Zone, Bengaluru, Bangalore East, Bengaluru Urban District, Karnataka, 560066, India\" : \"Mahadevapura\", \n",
    "                                               \"Spoorthi saahithya apartment, ITPB Main Road, Mahadevapura, Bengaluru, Karnataka, India\" : \"Mahadevapura\", \n",
    "                                               \"Mapple Heights Apartments, Vijnana Nagar, Mahadevapura Zone, Bengaluru, Bangalore East, Bengaluru Urban District, Karnataka, 560093, India 1 Tasker Town \" : \"Mahadevapura\", \n",
    "                                               \"5, Kuvempu Rd, A Narayanapura, Udaya Nagar, Mahadevapura\" : \"Mahadevapura\", \n",
    "                                               \"Garudacharpalya, Garudachara Palya, Mahadevapura Zone, Bengaluru, Bangalore East, Bengaluru Urban District, Karnataka, 560048, India\" : \"Mahadevapura\", \n",
    "                                               \"Kamadhenu Nagar, B Narayanapura, Mahadevapura, Bengaluru, Karnataka, India\" : \"Mahadevapura\", \n",
    "                                               \"Varthur, Varthuru, Mahadevapura Zone, Bengaluru, Bangalore East, Bengaluru Urban District, Karnataka, 560087, India\" : \"Mahadevapura\",\n",
    "                                               \"Brookefields, Dodda Nekkundi, Mahadevapura Zone, Bengaluru, Bangalore East, Bengaluru Urban District, Karnataka, 560066, India\" : \"Mahadevapura\",\n",
    "                                               \"Munekolala, Varthuru, Mahadevapura Zone, Bengaluru, Bangalore East, Bengaluru Urban District, Karnataka, 560087, India\" : \"Mahadevapura\", \n",
    "                                               \"Devarabeesanahalli, Bellanduru, Mahadevapura Zone, Bengaluru, Bangalore East, Bengaluru Urban District, Karnataka, 530103, India\" : \"Mahadevapura\", \n",
    "                                               \"27th Cross Road, Kaggadasapura, Vijnana Nagar, Mahadevapura Zone, Bengaluru, Bangalore East, Bengaluru Urban District, Karnataka, 560093, India\" : \"Mahadevapura\", \n",
    "                                               \"Oceanus Ebony Apartments, Bellanduru, Mahadevapura Zone, Bengaluru, Bangalore East, Bengaluru Urban District, Karnataka, 530103, India\": \"Mahadevapura\", \n",
    "                                               \"Munekolala, Dodda Nekkundi, Mahadevapura Zone, Bengaluru, Bangalore East, Bengaluru Urban District, Karnataka, 560037, India\" : \"Mahadevapura\", \n",
    "                                               \"Laundrology, Gear School Road, Kaadubeesanahalli, Bellanduru, Mahadevapura Zone, Bengaluru, Bangalore East, Bengaluru Urban District, Karnataka, 560035, India\" : \"Mahadevapura\",\n",
    "                                               \"Brindavan Ashram, Kadugodi Railway Bridge, Kadugodi, Mahadevapura Zone, Bengaluru, Bangalore East, Bengaluru Urban District, Karnataka, 560066, India\" : \"Mahadevapura\", \n",
    "                                               \"RMZ Ecoworld - AET Junction connecting road, Devarabeesanahalli, Bellanduru, Mahadevapura Zone, Bengaluru, Bangalore East, Bengaluru Urban District, Karnataka, 560035, India\" : \"Mahadevapura\", \n",
    "                                               \"Masjid E Bilal, Bellandur, Service Road, Green Glen Layout, Bellanduru, Mahadevapura Zone, Bengaluru, Bangalore South, Bengaluru Urban District, Karnataka, 560103, India\" : \"Mahadevapura\", \n",
    "                                               \"Ryan International School, Dream Medows, Brookefields, Dodda Nekkundi, Mahadevapura Zone, Bengaluru, Bangalore East, Bengaluru Urban District, Karnataka, 560037, India\" : \"Mahadevapura\",\n",
    "                                               \"Sarjapura Road, Bellanduru, Mahadevapura Zone, Bengaluru, Bangalore East, Bengaluru Urban District, Karnataka, 560035, India\" : \"Mahadevapura\", \n",
    "                                               \"Kundalahalli Lake Path, Kundalahalli, Dodda Nekkundi, Mahadevapura Zone, Bengaluru, Bangalore East, Bengaluru Urban District, Karnataka, 560066, India\" : \"Mahadevapura\",\n",
    "                                               \"P R Layout, Bellanduru, Mahadevapura Zone, Bengaluru, Bangalore East, Bengaluru Urban District, Karnataka, 560037, India\" : \"Mahadevapura\", \n",
    "                                               \"Maheswari Nagar, Mahadevapura\" : \"Mahadevapura\", \n",
    "                                               \"Hoody Garden, Hudi, Mahadevapura Zone, Bengaluru, Bangalore East, Bengaluru Urban District, Karnataka, 560067, India\"  : \"Mahadevapura\", \n",
    "                                               \"Green Glen Layout, Bellanduru, Mahadevapura Zone, Bengaluru, Bangalore South, Bengaluru Urban District, Karnataka, 530103, India\" : \"Mahadevapura\", \n",
    "                                               \"Vibgyor High School Road, Thubarahalli, Dodda Nekkundi, Mahadevapura Zone, Bengaluru, Bangalore East, Bengaluru Urban District, Karnataka, 560087, India\" : \"Mahadevapura\",\n",
    "                                               \"Ambalipura, Bellanduru, Mahadevapura Zone, Bengaluru, Bangalore East, Bengaluru Urban District, Karnataka, 560035, India\" : \"Mahadevapura\", \n",
    "                                               \"2nd Cross Road, Rajashree Layout, Varthuru, Mahadevapura Zone, Bengaluru, Bangalore East, Bengaluru Urban District, Karnataka, 560037, India\" : \"Mahadevapura\", \n",
    "                                               \"Total Mall, Sarjapura Road, Ambalipura, Bellanduru, Mahadevapura Zone, Bengaluru, Bangalore South, Bengaluru Urban District, Karnataka, 530103, India\" : \"Mahadevapura\", \n",
    "                                               \"Brindavan Ashram, SH35, Kadugodi, Mahadevapura Zone, Bengaluru, Bangalore East, Bengaluru Urban District, Karnataka, 560067, India \" : \"Mahadevapura\", \n",
    "                                               \"Munekolala, Varthuru, Mahadevapura Zone, Bengaluru, Bangalore East, Bengaluru Urban District, Karnataka, 560037, India\" : \"Mahadevapura\",                                               \n",
    "                                               \"Doddanekundi, Dodda Nekkundi, Mahadevapura Zone, Bengaluru, Bangalore East, Bengaluru Urban District, Karnataka, 560048, India\" : \"Mahadevapura\",                                               \n",
    "                                               \"1st Cross Road, Sai Layout, Hagadur, Mahadevapura Zone, Bengaluru, Bangalore East, Bengaluru Urban District, Karnataka, 560066, India\" : \"Mahadevapura\", \n",
    "                                               \"alur, Bellanduru, Mahadevapura Zone, Bengaluru, Bangalore South, Bengaluru Urban District, Karnataka, 560035, India\" : \"Mahadevapura\", \n",
    "                                               \"1st Cross Road, B. Narayanapura, Devasandra, Mahadevapura Zone, Bengaluru, Bangalore East, Bengaluru Urban District, Karnataka, 560048, India\" : \"Mahadevapura\", \n",
    "                                               \"USHAPANDIAN ILLAM, 2nd Main Road, Pai Layout, Mahadevapura, Bengaluru, Karnataka, India\" : \"Mahadevapura\", \n",
    "                                               \"Mahadevapura, B Narayanapura, Bengaluru, Karnataka, India\" : \"Mahadevapura\", \n",
    "                                               \"Mahadevapura bus stop, Mahadevapura, Bengaluru, Karnataka, India\" : \"Mahadevapura\" }) "
   ]
  },
  {
   "cell_type": "code",
   "execution_count": 99,
   "id": "ae06d133",
   "metadata": {},
   "outputs": [],
   "source": [
    "train[\"locality\"] = train[\"locality\"].replace({\"Kasavanahalli Village,Marathahalli\" : \"Marathahalli\", \"Marathahalli Village,Marathahalli\" : \"Marathahalli\", \n",
    "                                               \"Marathahalli Village\" : \"Marathahalli\", \"Gandhi Nagar,Marathahalli\" : \"Marathahalli\", \n",
    "                                               \"AECS Layout,Marathahalli\" : 'Marathahalli', \"Marathahalli, Bengaluru, Karnataka, India\" : \"Marathahalli\", \n",
    "                                               \"Yemalur,Marathahalli\" : \"Marathahalli\", \"Chandra Layout,Marathahalli\" : \"Marathahalli\", \"AECS Layout, Marathahalli, Bengaluru, Karnataka, India\" : \"Marathahalli\", \n",
    "                                               \"Marathahalli,\" : \"Marathahalli\", \"Bellandur,Marathahalli\" : \"Marathahalli\", \"Chennappa Layout,Marathahalli\" : \"Marathahalli\", \n",
    "                                               \"Kasavanahalli Village, Marathahalli\" : \"Marathahalli\", \"Silver Springs Layout,Marathahalli\" : \"Marathahalli\", \n",
    "                                               \"#610,5th cross, Bhuvaneshwari layout, , Marathahalli post, Bangalore-560037, 610, 5th Cross Road, Thubarahalli, Marathahalli, Bengaluru, Karnataka 560037, India,Bengaluru 1 Koramangala 8th Block,\": \n",
    "                                               \"Marathahalli\", \"Rainbow Residency, SGR Dental College Road, Kasavanahalli Village, Marathahalli, Bengaluru, Karnataka, India\" : \"Marathahalli\", \n",
    "                                               \"Marathahalli, Manjunatha Layout\" : \"Marathahalli\", \"marathahalli\" : \"Marathahalli\", \"Outer Ring Road, Marathahalli, Bengaluru, Karnataka, India\" : \"Marathahalli\", \n",
    "                                               \"marathalli\" : \"Marathahalli\", \"Marathahalli,Kodbisanhalli\" : \"Marathahalli\", \"Chandra Layout, Marathahalli\" : \"Marathahalli\", \n",
    "                                               \"Chowdeshwari Layout, Marathahalli\" : \"Marathahalli\", \"Marathahalli, AECS Layout\" : \"Marathahalli\", \"Aswath Nagar, Marathahalli, Bengaluru, Karnataka, India\" : \"Marathahalli\", \n",
    "                                               \"Aaspire Heights, SGR Dental College Road, Kasavanahalli Village, Marathahalli, Bengaluru, Karnataka, India\" : \"Marathahalli\", \n",
    "                                               \"Marathahalli Main, Raghavendra Layout, Gandhi Nagar, Munnekollal, Bengaluru, Karnataka, India\" : \"Marathahalli\", \n",
    "                                               \"AECS Layout, Marathahalli\" : 'Marathahalli', \"1, Kariyammana Agrahara Rd, Kadubeesanahalli, Marathahalli, Bengaluru, Karnataka 560037, India,Bengaluru\" : \"Marathahalli\", \n",
    "                                               })"
   ]
  },
  {
   "cell_type": "code",
   "execution_count": 100,
   "id": "42dd03ee",
   "metadata": {},
   "outputs": [],
   "source": [
    "train['locality'] = train['locality'].replace({\"Banashankari 3rd Stage\" : \"Banashankari\", \"Banashankari Stage II\" : \"Banashankari\", \n",
    "                                               \"Banashankari Stage I\" : \"Banashankari\", \"Bharath Housing Society Layout,Banashankari\" : \"Banashankari\", \n",
    "                                               \"Banashankari 3rd Stage,Banashankari\" : \"Banashankari\", \"Banashankari Stage III\" : \"Banashankari\", \n",
    "                                               \"Banashankari Stage I,Banashankari\" : \"Banashankari\", \"Banashankari 3rd Stage, Banashankari, Bengaluru, Karnataka, India\" : \"Banashankari\",\n",
    "                                               \"Banashankari 2nd Stage\" : \"Banashankari\", \"Banashankari 3rd stage\" : \"Banashankari\", \"Banashankari, Bengaluru, Karnataka, India\" : \"Banashankari\", \n",
    "                                               \"Banashankari 3rd Stage, Banashankari\" : \"Banashankari\", \"Banashankari Temple Ward\" : \"Banashankari\", \n",
    "                                               \"Girinagar, Banashankari\" : \"Banashankari\", \"Banashankari 3rd Stage, Bengaluru, Karnataka, India\" : \"Banashankari\", \n",
    "                                               \"Banashankari Stage I, Bengaluru, Karnataka, India\" : \"Banashankari\", \"Srinagar, Banashankari\" : \"Banashankari\", \n",
    "                                               \"Banashankari Stage I, Banashankari\" : \"Banashankari\", \"Banashankari 5th Stage\" : 'Banashankari', \"Banashankari 3rd Stage,\" : \"Banashankari\", \n",
    "                                               \"Srinagar, Banashankari, Bengaluru, Karnataka, India\" : \"Banashankari\", \"Banashankari,\" : \"Banashankari\", \n",
    "                                               \"Dwaraka Nagar,Banashankari\" : \"Banashankari\", \"Banashankari 3rd Stage,Chikkalasandra\" : \"Banashankari\", \n",
    "                                               \"Bhuvaneshwari Nagar,Banashankari\" : \"Banashankari\", \"59/35Banashankari 3rd Stage, Banashankari, Bengaluru, Karnataka, India\" : \"Banashankari\", \n",
    "                                               \"2nd Block, Banashankari Stage I\" : \"Banashankari\", \"Poorna Pragna Layout, Banashankari 3rd Stage, Banashankari, Bengaluru, Karnataka, India\" : \"Banashankari\", \n",
    "                                               \"Banashankarii\" : \"Banashankari\", \"Hosakerehalli Layout, Banashankari Stage I, Banashankari, Bengaluru, Karnataka, India\" : \"Banashankari\", \n",
    "                                               \"Siddanna Layout, Banashankari Stage II\" : \"Banashankari\", \"BSK 3rd Stage, Banashankari, Bengaluru, Karnataka, India\" : \"Banashankari\", \n",
    "                                               \"Stage II Banashankari, Banashankari, Bengaluru, Karnataka, India\" : \"Banashankari\", \n",
    "                                               \"Dattatreya Temple Road, Ittamadu, Banashankari 3rd Stage, Hosakerehalli, Bengaluru, Karnataka 560085, India,Bengaluru\" : \"Banashankari\", \n",
    "                                               \"Srinagar,Banashankari\" : \"Banashankari\", \"Banashankari Stage II, Bengaluru, Karnataka, India\" : \"Banashankari\", \n",
    "                                               \"371, 5th Main Rd, Gavipuram Extension, Srinagar, Banashankari, Bengaluru, Karnataka 560019, India,Bengaluru\" : \"Banashankari\", \n",
    "                                               \"AGS Layout, Banashankari\" : \"Banashankari\", \"587, 3rd Main Rd, 2nd Phase, Hosakerehalli Layout, Banashankari Stage I, Banashankari, Bengaluru, Karnataka 560085, India,Bengaluru\" : \"Banashankari\", \n",
    "                                               \"32, Bendre Nagar, Nr Kadirenahalli Petrol Bunk, Banashankari Stage II, Bengaluru, Karnataka 560070, India,Bengaluru\" : \"Banashankari\", \n",
    "                                               \"banashankari \" :\"Banashankari\", \"1st phase Girinagar, Banashankari\" : \"Banashankari\", \"Banashankari Stage I, Banashankari, Bengaluru, Karnataka, India\" : \"Banashankari\", \n",
    "                                               \"Terrace Garden Apartments, Ittamadu, Banashankari 3rd Stage, Banashankari, Bengaluru, Karnataka, India\" : \"Banashankari\", \n",
    "                                               \"709, 5th Cross Rd, Kempegowda Layout, Banashankari 3rd Stage, Banashankari, Bengaluru, Karnataka 560085, India,Bengaluru\" : \"Banashankari\", \n",
    "                                               \"Banashankari Stage\" : \"Banashankari\", \"Umarbagh Layout,Banashankari Temple Ward\" : \"Banashankari\", \"Banashankari, Srinagar\" :'Banashankari', \"Banashankari Stage 1\" : \"Banashankari\", \n",
    "                                               \"Giri Nagar, II Phase, Banashankari, Bengaluru, Karnataka 560085, India\" : \"Banashankari\", \"Ags Layout, Banashankari, Bengaluru, Karnataka, India\" : \"Banashankari\", \n",
    "                                               \"Dasarhalli, , Banashankari Stage I\" : \"Banashankari\", \"Giri Nagar, Banashankari, Bengaluru, Karnataka, India\" : \"Banashankari\", \n",
    "                                               \"Ittamadu Bus Stop, 3rd Main Road, Banashankari, Bengaluru, Karnataka, India\" : \"Banashankari\", \"Banashankari 1st  Stage,\" : \"Banashankari\", \n",
    "                                               \"Banashankari II Stage\" : \"Banashankari\", \"Chandra Hill View Apartments, Ittamadu, Banashankari 3rd Stage, Banashankari, Bengaluru, Karnataka, India\" : \"Banashankari\", \n",
    "                                               \"1850, 33rd Cross Road, Banashankari Stage II, Bengaluru, Karnataka, India\" : \"Banashankari\", \n",
    "                                               \"Chennamma Kere Achukattu, Chennammana Kere, Kathreguppe, Banashankari 3rd Stage, Banashankari, Bengaluru, Karnataka, India\" : \"Banashankari\", \n",
    "                                               \"Anjaneya Nagar, Ittamadu, Banashankari 3rd Stage, Banashankari, Bengaluru, Karnataka, India\" : \"Banashankari\", \n",
    "                                               \"Nagarbhavi Circle, Outer Ring Road, Jyothi Nagar, Banashankari Stage I, Attiguppe, Bengaluru, Karnataka, India\" : \"Banashankari\", \n",
    "                                               \"Srinivasnagar, Banashankari\" : \"Banashankari\", \"3rdmain 5th cross link road kempegowdalayoutBanashankari, Bengaluru, Karnataka, India\" : \"Banashankari\", \n",
    "                                               \"23d, 2nd A Cross Rd, Srinivasnagar, Banashankari, Bengaluru, Karnataka 560050, India,Bengaluru\" : \"Banashankari\", \n",
    "                                               })"
   ]
  },
  {
   "cell_type": "code",
   "execution_count": 101,
   "id": "e106d26b",
   "metadata": {},
   "outputs": [],
   "source": [
    "train['locality'] = train[\"locality\"].replace({\"HSR Layout 5th Sector\" : \"HSR Layout\", \"1st Sector,HSR Layout\" : \"HSR Layout\", \"HSR layout Sector 2\" : \"HSR Layout\", \n",
    "                                                \"HSR Layout, Bengaluru, Karnataka, India\" : \"HSR Layout\", \"HSR layout\" : \"HSR Layout\",\n",
    "                                                \"1st Sector, HSR Layout\" : \"HSR Layout\", \"HSR Layout, Sector 1\" : \"HSR Layout\", \"Sector 2,HSR Layout\" : \"HSR Layout\", \n",
    "                                                \"Sector 7, HSR Layout\" : \"HSR Layout\", \"Sector 7,HSR Layout\" : \"HSR Layout\", \"Sector 6,HSR Layout\" : \"HSR Layout\",\n",
    "                                                \"Sector 3, HSR Layout\" : \"HSR Layout\", \"1st Block Koramangala,HSR Layout 5th Sector\" : \"HSR Layout\", \n",
    "                                                \"Sector 2, HSR Layout\" : \"HSR Layout\", \"HSR Layout, Sector 3\" : \"HSR Layout\", \"HSR Layout,\" : \"HSR Layout\", \n",
    "                                                \"HSR Layout, 1st Sector\" : \"HSR Layout\", \"Sector 6, HSR Layout\" : \"HSR Layout\", \"Green Glen Layout,HSR Layout\" : \"HSR Layout\", \n",
    "                                                \"HSR Layout 2nd Sector\" : \"HSR Layout\", \"Bellandur,HSR Layout\" : \"HSR Layout\", \"HSR Layout, Sector 2\" : \"HSR Layout\", \n",
    "                                                \"Central Silk Board, National Highway 44, HSR Layout, Bengaluru, Karnataka, India\" : 'HSR Layout', \n",
    "                                                \"Jakkasandra, HSR Layout 5th Sector\" : \"HSR Layout\", \"277, 23rd Cross Rd,28th main road, Sector 2, HSR Layout, Bengaluru, Karnataka 560102, India,Bengaluru \" : 'HSR Layout',\n",
    "                                                \"31, 14th Main Rd, Sector 7, HSR Layout, Bengaluru, Karnataka 560102, India\" : \"HSR Layout\", \"HSR Layout, 571, 11th A Cross Road, Sector 1, Bengaluru, Karnataka, India\" : \"HSR Layout\",\n",
    "                                                \"4th Main, Sector 7, HSR Layout, Bengaluru, Karnataka, India\" : 'HSR Layout', \"HSR Layout Sector 4\" : 'HSR Layout', \"Sector 4, HSR Layout\" : 'HSR Layout',\n",
    "                                                \"Hosapalaya,HSR Layout\" : \"HSR Layout\", \"208, 1st C Main Road, Agara Village, 1st Sector, HSR Layout, Bengaluru, Karnataka 560102, India,Bengaluru\" : \"HSR Layout\",\n",
    "                                                \"29th B Main Road, Sector 2, PWD Quarters, 1st Sector, HSR Layout\" : \"HSR Layout\", \"Mangammanapalya, Sector 7, HSR Layout\" : \"HSR Layout\", \n",
    "                                                \"Sector 6, HSR Layout Ward, Bommanahalli Zone, Bengaluru, Bangalore South, Bengaluru Urban District, Karnataka, 560034, India\" : \"HSR Layout\", \n",
    "                                                \"Liss Arcade, 2633, 13th Cross Road, Sector 1, HSR Layout Ward, Bommanahalli Zone, Bengaluru, Bangalore South, Bengaluru Urban District, Karnataka, 560034, India\" : \"HSR Layout\", \n",
    "                                                \"30/1B/6, 1st Main Road, Sector 3, HSR Layout, Bengaluru, Karnataka 560008, India,Bengaluru\" : \"HSR Layout\",\n",
    "                                                \"103, 1st Cross Rd, Agara Village, 1st Sector, HSR Layout, Bengaluru, Karnataka 560102, India,Bengaluru\" : \"HSR Layout\",\n",
    "                                                \"Teacher's Colony, HSR Layout 5th Sector, Bengaluru, Karnataka, India\" : \"HSR Layout\", \n",
    "                                                \"hsr layout\" : \"HSR Layout\", \"HSR layout 3rd sector\" : \"HSR Layout\", \"Sector 7 HSR Layout\" : \"HSR Layout\", \n",
    "                                                \"Hsr Layout\" : \"HSR Layout\", \"Mangammanapalya, Sector 7, HSR Layout, Bengaluru, Karnataka\" : \"HSR Layout\", \n",
    "                                                \"13th Main Rd, ITI Layout, Sector 2, HSR Layout, Bengaluru, Karnataka 560068, India,Bengaluru\" : \"HSR Layout\", \n",
    "                                                \"Opposit HSR Layout 7th sector, Mangamanapalya main road\" : \"HSR Layout\", \"Koramangala 1st Block, HSR Layout 5th Sector\" : \"HSR Layout\", \n",
    "                                                \"Mitra Jyothi, P 22, 31st Main Road, Parangipalya, HSR Layout Ward, Bommanahalli Zone, Bengaluru, Bangalore South, Bengaluru Urban District, Karnataka, 560102, India\" : \"HSR Layout\",\n",
    "                                                \"HSR layout 5th Sector\" : \"HSR Layout\", \"HSR Layout, Rajiv Gandhi Nagar, Sector 7, Bengaluru, Karnataka, India\" : \"HSR Layout\", \n",
    "                                                \"HSR Layout 5th Sector, Bengaluru, Karnataka, India\" : \"HSR Layout\", \"HSR Layout, Sector 07, Near Madina Masjid\" : \"HSR Layout\", \n",
    "                                                \"HSR Layout, 22nd Main Road, Sector 1, Bengaluru, Karnataka, India\" : \"HSR Layout\", \"HSR Layout, Sector 6\" : \"HSR Layout\", \n",
    "                                                \"Teachers Colony, HSR Layout 5th Sector, Bengaluru, Karnataka, India\" : \"HSR Layout\", \"HSR Layout 6th Sector\" : \"HSR Layout\", \n",
    "                                                \"627, 31st Main Road, Parangipalya, HSR Layout Ward, Bommanahalli Zone, Bengaluru, Bangalore South, Bengaluru Urban District, Karnataka, 560068, India\" : \"HSR Layout\", \n",
    "                                                \"415, 16th Cross Rd, Sector 4, HSR Layout, Bengaluru, Karnataka 560102, India,Bengaluru\" : \"HSR Layout\", \n",
    "                                                \"Sector 4,HSR Layout 5th Sector\" : \"HSR Layout\", \"3rd Sector, HSR Layout\" : \"HSR Layout\", \"Venkatapura New Extn, HSR Layout 5th Sector, Bengaluru, Karnataka 560034, India,Bengaluru\" : \"HSR Layout\", \n",
    "                                                \"HSR Layout sec7\" : \"HSR Layout\", \"HSR Layout Sector 7\" : \"HSR Layout\", \"Shudhi Services, 1809, 5th Main Road, Iblur, HSR Layout Ward, Bommanahalli Zone, Bengaluru, Bangalore North, Bengaluru Urban District, Karnataka, 560103, India\" : \"HSR Layout\", \n",
    "                                                \"Sector 3, HSR Layout Ward, Bommanahalli Zone, Bengaluru, Bangalore South, Bengaluru Urban District, Karnataka, 560068, India\" : \"HSR Layout\", \n",
    "                                                \"HSR Layout, Sector 4\" : \"HSR Layout\", \"Mantri Sarovar Apartment Road, Sector 4, HSR Layout, Bengaluru, Karnataka, India\" : \"HSR Layout\", \n",
    "                                                \"HSR Police station, 27th Main Road, Agara, HSR Layout Ward, Bommanahalli Zone, Bengaluru, Bangalore South, Bengaluru Urban District, Karnataka, 560034, India\" : \"HSR Layout\", \n",
    "                                                \"31st Main Road, Parangipalya, HSR Layout Ward, Bommanahalli Zone, Bengaluru, Bangalore South, Bengaluru Urban District, Karnataka, 560068, India\" : \"HSR Layout\", \n",
    "                                                \"HSR Layout Sector-1\" : \"HSR Layout\", \"Sector 1, HSR Layout, Bengaluru, Karnataka, India\" : \"HSR Layout\", \n",
    "                                                \"5th Main, Teacher&#39;s Colony, Jakkasandra, Sector 6, HSR Layout, Bengaluru, Karnataka, India\" : \"HSR Layout\", \n",
    "                                                \"3rd Sector Park, Sector 3, HSR Layout, Bengaluru, Karnataka, India\" : \"HSR Layout\", \n",
    "                                                \"30, 24th Cross Rd, Parangi Palaya, Sector 2, HSR Layout, Bengaluru, Karnataka 560102, India,Bengaluru\" : \"HSR Layout\", \"BDA Layout,HSR Layout\" : \"HSR Layout\", \n",
    "                                                \"HSR layout sector 6\" : \"HSR Layout\", \"Koramangala 4th Block,HSR Layout 5th Sector\" : \"HSR Layout\", \n",
    "                                                \"Sector 7, HSR Layout, Bengaluru, Karnataka, India\" : \"HSR Layout\"}) "
   ]
  },
  {
   "cell_type": "code",
   "execution_count": 102,
   "id": "6d3fbd9a",
   "metadata": {},
   "outputs": [],
   "source": [
    "train[\"locality\"] = train[\"locality\"].replace({\"Whitefield Hope Farm Junction\" : \"Whitefield\", \"Nallurhalli,Whitefield\" : \"Whitefield\", \n",
    "                                             \"Thubarahalli,Whitefield\" : 'Whitefield', \"Ambedkar Nagar,Whitefield\" : 'Whitefield',\n",
    "                                             'Pattandur Agrahara,Whitefield' : 'Whitefield', 'Kundalahalli,Whitefield' : 'Whitefield',\n",
    "                                             \"Whitefield, Bengaluru, Karnataka, India\" : 'Whitefield', \"Narayanappa Garden,Whitefield\" : 'Whitefield',\n",
    "                                             \"Immadihalli,Whitefield\" : 'Whitefield', \"Dodsworth Layout,Whitefield\" : 'Whitefield',\n",
    "                                             \"Prithvi Layout,Whitefield\" : 'Whitefield', \"KIADB Export Promotion Industrial Area,Whitefield\" : 'Whitefield',\n",
    "                                             \"Siddapura,Whitefield\" : 'Whitefield', \"Ramagondanahalli,Whitefield\" : 'Whitefield',\n",
    "                                             \"Prestige Ozone,Whitefield\" : 'Whitefield', \"Sathya Sai Layout,Whitefield\" : 'Whitefield',\n",
    "                                             \"Thubarahalli, Whitefield\" : 'Whitefield', \"Nallurhalli, Whitefield\" : 'Whitefield', \"whitefield\" : 'Whitefield',\n",
    "                                             'EPIP Zone,Whitefield' : 'Whitefield', \"Seetharampalya,Whitefield\" : 'Whitefield', \"Phase 1,Whitefield\" : 'Whitefield',\n",
    "                                             \"Ramagondanahalli, Whitefield\" : 'Whitefield', \"Vijay Nagar, Whitefield\" : 'Whitefield', \"Immadihalli, Whitefield\" : 'Whitefield',\n",
    "                                             \"Whitefield, Thubarahalli\" : 'Whitefield', \"ITPL, Pattandur Agrahara, Whitefield, Bengaluru, Karnataka 560066, India\" : \"Whitefield\",\n",
    "                                             \"Vijay Nagar,Whitefield\" : \"Whitefield\", \"Brigade Harmony, 250, Whitefield Rd, Prestige Ozone, Whitefield, Bengaluru, Karnataka 560066, India\" : 'Whitefield',\n",
    "                                             \"Nallurhalli Road, Whitefield, Bengaluru, Karnataka, India\" : 'Whitefield', \"Nallurhalli,Whitefield, ITPL\" : 'Whitefield', \n",
    "                                             \"Borewell Road, Borewell Rd, Whitefield, Bengaluru, Karnataka 560066, India\" : 'Whitefield', \n",
    "                                             \"Ramagondanahalli Bus Stop, Varthur Main Road, Whitefield, Bengaluru, Karnataka, India\" : \"Whitefield\",\n",
    "                                             \"white midas apartment, ECC road. Pattandur Agrahara,Whitefield\" : \"Whitefield\",'Reliance Fresh, Whitefield Main Road, Industrial Area, Whitefield' : \"Whitefield\",\n",
    "                                             \"Whitefield Main Road, Ramagondanahalli, Hagadur, Mahadevapura Zone, Bengaluru, Bangalore East, Bengaluru Urban District, Karnataka, 560066, India\" : 'Whitefield',\n",
    "                                             \"Hope Farm, Whitefield Road, Prashanth Extension, Kadugodi, Mahadevapura Zone, Bengaluru, Bangalore East, Bengaluru Urban District, Karnataka, 560066, India\" : \"Whitefield\",\n",
    "                                             \"Hagadur, Immadihalli, Whitefield, Bengaluru, Karnataka, India\" : \"Whitefield\", \"Whitefield Road, Tigalarapalya, Hudi, Mahadevapura Zone, Bengaluru, Bangalore East, Bengaluru Urban District, Karnataka, 560067, India\" : \"Whitefield\",\n",
    "                                             \"Chikkasubbana Road, Immadihalli, Whitefield\" : \"Whitefield\", \"Citilights Rustique, ECC Road, Whitefield, Bengaluru, Karnataka, Indi\" : \"Whitefield\",\n",
    "                                             \"Nallurhalli, Whitefield, Bengaluru, Karnataka, India\" :'Whitefield', \"Prashanth Extension, Whitefield, Bengaluru, Karnataka, India\" : \"Whitefield\",\n",
    "                                             \"Siddapura, Whitefield, Bengaluru, Karnataka 560066, India\" : \"Whitefield\", \"Dodsworth Layout, Whitefield\" : \"Whitefield\", \"Whitefield Main Road\" : \"Whitefield\",\n",
    "                                             \"Whitefield, Vijayanagar\" : \"Whitefield\", \"Whitefield, Vijay Nagar,\" : \"Whitefield\", \"Brigade IRV Centre, Nallurhalli, Whitefield\" : \"Whitefield\",\n",
    "                                             \"4th Cross, Sathya Sai Layout, Whitefield, Bengaluru, Karnataka, India\" : \"Whitefield\", \"Pattandur Agrahara, Whitefield\" : \"Whitefield\",\n",
    "                                             \"Thubarahalli, Varthur Road, Whitefield, Bengaluru, Karnataka, India\" : \"Whitefield\", \"Whitefield,\" : \"Whitefield\", \"Siddapura, Whitefield, Bengaluru, Karnataka 560066, India,Bengaluru\" : \"Whitefield\",\n",
    "                                             \"33, Siddapura Rd, Phase 1, Whitefield, Bengaluru, Karnataka 560066, India,Bengaluru\" : 'Whitefield', \"Ramagondanahalli, Whitefield, Bengaluru, Karnataka, Indi\" : \"Whitefield\",\n",
    "                                             \"Inner Valley,Whitefield\" : \"Whitefield\", \"Happy Valley,Whitefield\" : \"Whitefield\", \"EPIP Zone, Whitefield\" : \"Whitefield\", \"Whitefield, ECC Road, Pattandur Agrahar\" : \"Whitefield\", \n",
    "                                             \"VijayaSri Elixir, Palm Meadows, Whitefield, Bengaluru, Karnataka, India\" : \"Whitefield\", \"Ambedkar Nagar, Whitefield\" : \"Whitefield\", \n",
    "                                             \"Kundalahalli, Whitefield\" : \"Whitefield\", \"Basavanna Nagar, Whitefield, Bengaluru, Karnataka 560048, India\" : \"Whitefield\", \n",
    "                                             \"Vijayanagar, Whitefield\" : \"Whitefield\", \"Near G R Tech Park, Whitefield, Bangalore\" : \"Whitefield\", \"Whitefield Main Road, Maithri Layout, Kadugodi, Bengaluru, Karnataka, India\" : \"Whitefield\",\n",
    "                                             \"White Orchids VSV Builders, Siddapura Road, Palm Meadows, Whitefield, Bengaluru, Karnataka, India\" : 'Whitefield',\n",
    "                                             \"Prithvi Layout, Whitefield, Bengaluru, Karnataka 560066, India\" : \"Whitefield\", \"Whitefield Main Road, Maheswari Nagar, Bengaluru, Karnataka, India\" : \"Whitefield\",\n",
    "                                             \"Nallurahalli Road, Nallurhalli, Whitefield, Bengaluru, Karnataka, India\" : 'Whitefield', \"Brigade Harmony, Whitefield, State Highway 35, Prestige Ozone, Bengaluru, Karnataka, India\" : 'Whitefield',\n",
    "                                             \"Immadihalli, Whitefield, Bengaluru, Karnataka, India\" : \"Whitefield\", \"EPIP Zone Whitefield Road, Near ITPB. Bengaluru, Karnataka, India\" : \"Whitefield\",\n",
    "                                             \"Whitefield, Dodsworth Layout, Bengaluru, Karnataka, India\" : \"Whitefield\", \"Four Points by Sheraton, 43/3, Whitefield Main Road, Ambedkar Nagar, Kadugodi, Mahadevapura Zone, Bengaluru, Bangalore East, Bengaluru Urban District, Karnataka, 560066, India\" : \"Whitefield\",\n",
    "                                             \"Whitefield Global School, Bengaluru, Karnataka, India\" : \"Whitefield\", \"Sathya Sai Layout, Whitefield\" : 'Whitefield', \n",
    "                                             \"Forum Value Mall Bus Stop, Whitefield, Bengaluru, Karnataka, India\" : \"Whitefield\", \"The Deens Academy, ECC Road, Dodsworth Layout, Whitefield, Bengaluru, Karnataka, India\" : \"Whitefield\", \n",
    "                                             \"ITPL, Whitefield, Bengaluru, Karnataka, India\" : \"Whitefield\", \"ITPL Gate 3, Whitefield, Bengaluru, Karnataka, India\" : \"Whitefield\",\n",
    "                                             \"Gandhipuram, Whitefield\" : \"Whitefield\" })"
   ]
  },
  {
   "cell_type": "code",
   "execution_count": 103,
   "id": "e4b00369",
   "metadata": {},
   "outputs": [],
   "source": [
    "train.to_csv('train.csv', index=False)"
   ]
  },
  {
   "cell_type": "markdown",
   "id": "5a2aa921",
   "metadata": {},
   "source": [
    "House rent data has 20555 rows of data and 25 columns with many null values. There are locality columns that have 160 null values. This column was filled in using the latitude and longitude method, and other columns have null values, not proper data, so drop all null values. and cleaning the locality data, the proper area name was given. for use with latitude and longitude numbers to get the correct area names"
   ]
  }
 ],
 "metadata": {
  "hide_input": false,
  "kernelspec": {
   "display_name": "Python 3 (ipykernel)",
   "language": "python",
   "name": "python3"
  },
  "language_info": {
   "codemirror_mode": {
    "name": "ipython",
    "version": 3
   },
   "file_extension": ".py",
   "mimetype": "text/x-python",
   "name": "python",
   "nbconvert_exporter": "python",
   "pygments_lexer": "ipython3",
   "version": "3.10.8"
  }
 },
 "nbformat": 4,
 "nbformat_minor": 5
}
